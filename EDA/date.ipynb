{
 "cells": [
  {
   "cell_type": "code",
   "execution_count": null,
   "id": "c1df115e",
   "metadata": {},
   "outputs": [],
   "source": [
    "import pandas as pd\n",
    "# 라이브러리 불러오기\n",
    "import pandas as pd\n",
    "\n",
    "# Timestamp의 배열 만들기 - 월 간격, 월의 시작일 기준\n",
    "ts_ms = pd.date_range(start='2025-01-01',    # 날짜 범위의 시작\n",
    "                   end='2025-10-02',                 # 날짜 범위의 끝\n",
    "                   periods=100,                # 생성할 Timestamp의 개수\n",
    "                #    freq='MS',                # 시간 간격 (MS: 월의 시작일)\n",
    "                   tz='Asia/Seoul')          # 시간대(timezone)\n",
    "\n",
    "\n",
    "data = { 'date': ts_ms.strftime('%Y-%m-%d')}\n",
    "df = pd.DataFrame(data)\n",
    "df['date'] = pd.to_datetime(df.date)\n",
    "# df.info()\n",
    "# 년도를 추출해서 새로운 컬럼으로 넣기\n",
    "df['year'] = df.date.dt.year\n",
    "df['month'] = df.date.dt.month\n",
    "df['day_int'] = df.date.dt.weekday  #0 월요일\n",
    "def convert_week(x):\n",
    "    temp = ['월','화','수','목','금','토','일']\n",
    "    return temp[x]\n",
    "df['day_str'] = df['day_int'].apply(lambda x : convert_week(x))\n",
    "\n",
    "# 주말(토일)은 1 나머지는 0\n",
    "df['day_weekend'] = df['day_str'].apply(lambda x : 1 if x in ['토','일'] else 0)\n",
    "df.head()"
   ]
  },
  {
   "cell_type": "code",
   "execution_count": null,
   "id": "c0c1fe70",
   "metadata": {},
   "outputs": [],
   "source": [
    "%pip install holidays"
   ]
  },
  {
   "cell_type": "code",
   "execution_count": null,
   "id": "80c37aec",
   "metadata": {},
   "outputs": [
    {
     "name": "stdout",
     "output_type": "stream",
     "text": [
      "2025-01-01  신정연휴\n",
      "2025-01-27  임시공휴일\n",
      "2025-01-28  설날 전날\n",
      "2025-01-29  설날\n",
      "2025-01-30  설날 다음날\n",
      "2025-03-01  삼일절\n",
      "2025-03-03  삼일절 대체 휴일\n",
      "2025-05-05  부처님오신날; 어린이날\n",
      "2025-05-06  부처님오신날 대체 휴일; 어린이날 대체 휴일\n",
      "2025-06-03  대통령 선거일\n",
      "2025-06-06  현충일\n",
      "2025-08-15  광복절\n",
      "2025-10-03  개천절\n",
      "2025-10-05  추석 전날\n",
      "2025-10-06  추석\n",
      "2025-10-07  추석 다음날\n",
      "2025-10-08  추석 대체 휴일\n",
      "2025-10-09  한글날\n",
      "2025-10-10  휴강\n",
      "2025-12-25  기독탄신일\n"
     ]
    }
   ],
   "source": [
    "import holidays\n",
    "kr_holidays = holidays.KR(years = [2025])\n",
    "kr_holidays.append({\n",
    "    '2025-10-10' : '휴강'\n",
    "})\n",
    "kr_holidays = sorted(kr_holidays.items(), key=lambda x : x[0])\n",
    "for key,value in kr_holidays:\n",
    "    print(f'{key}  {value}')"
   ]
  },
  {
   "cell_type": "code",
   "execution_count": null,
   "id": "c07dfe6e",
   "metadata": {},
   "outputs": [],
   "source": []
  }
 ],
 "metadata": {
  "kernelspec": {
   "display_name": ".venv (3.13.7)",
   "language": "python",
   "name": "python3"
  },
  "language_info": {
   "codemirror_mode": {
    "name": "ipython",
    "version": 3
   },
   "file_extension": ".py",
   "mimetype": "text/x-python",
   "name": "python",
   "nbconvert_exporter": "python",
   "pygments_lexer": "ipython3",
   "version": "3.13.7"
  }
 },
 "nbformat": 4,
 "nbformat_minor": 5
}
