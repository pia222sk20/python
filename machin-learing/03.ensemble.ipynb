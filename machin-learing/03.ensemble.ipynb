{
 "cells": [
  {
   "cell_type": "markdown",
   "id": "dc3a8d17",
   "metadata": {},
   "source": [
    "### 다양한 모델을 결합한 앙상블\n",
    "- 앙상블\n",
    "- 다수결 두표 앙상블(Voting)\n",
    "- 배깅(Bagging)\n",
    "- 에이다부스트(AdaBost)\n",
    "- 그레이던트 부스팅 & XGBoost\n",
    "- 모델성능 평가 및 비교"
   ]
  },
  {
   "cell_type": "markdown",
   "id": "20709728",
   "metadata": {},
   "source": [
    "- 단일모델의 한계\n",
    "    - 과대적합(Overfitting) :  학습데이터에 너무 맞춰져있어서 새로운 데이터에 대한 성능저하\n",
    "    - 과소적합(Underfitting) : 모델이 너무 단순해서 제대로 학습이 안됨\n",
    "    - 높은 분산(Hight Variance) : 학습데이터가 조금만 바꿔도 모델이 크게 달라지는 현상\n",
    "    - 높은 편향(High Bias) :  모델이 진짜 패턴을 포착하지 못함\n",
    "- 앙상블( 집단지성 )    \n",
    "    - 배깅   :  같은 알고리즘, 다른 데이터셋(부트스트랩)     RandomFores            분산 감소\n",
    "    - 부스팅 :  순차적으로 약한 학습기를 강화              AdaBoost ,XGBoost        편향 감소    \n",
    "    - 스태깅 :  다른알고리즘을 메타 모델로 학습                                     일반화 성능"
   ]
  },
  {
   "cell_type": "markdown",
   "id": "9f70cb70",
   "metadata": {},
   "source": [
    "- Voting\n",
    "    - Hard Voting : 다수결 투표\n",
    "        A : 고양이\n",
    "        B : 강아지\n",
    "        C : 고양이\n",
    "    - Soft Voting : 가중치 투표 - 확률을 보고 결정  보통 Hard Voing 보다 성능이 좋음\n",
    "        고양이, 강아지\n",
    "        A : (0.9,0.1)\n",
    "        B : (0.4,0.6)\n",
    "        C : (0.6,0.2)\n",
    "        평균확률 :   ,  \n",
    "- Bagging( Bagging - Bootstrap Aggregation)\n",
    "    - Bootstrap : 원본 데이터 1000 이면 중복을 허용해서 1000뽑아 훈련세트1를 만듦 .... \n",
    "    - Aggregation\n",
    "        - 순차적으로 학습을 하고난후 여러개의 모델들을  투표(Voting)해서 최종결론\n",
    "    - 대표모델은 RandomForest\n",
    "    - 효과 : 과적합을 방지 즉 모델의 분산을 줄여줌\n",
    "- Bosting\n",
    "    - 모델들이 순서대로 학습, 앞 모델의 실수를 뒷 모델이 보완\n",
    "\n",
    "\n",
    "\n",
    "\n"
   ]
  },
  {
   "cell_type": "markdown",
   "id": "56f54224",
   "metadata": {},
   "source": []
  }
 ],
 "metadata": {
  "kernelspec": {
   "display_name": "deep",
   "language": "python",
   "name": "python3"
  },
  "language_info": {
   "name": "python",
   "version": "3.11.13"
  }
 },
 "nbformat": 4,
 "nbformat_minor": 5
}
