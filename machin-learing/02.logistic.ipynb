{
 "cells": [
  {
   "attachments": {
    "image.png": {
     "image/png": "[encoded data removed]"
    }
   },
   "cell_type": "markdown",
   "id": "6d1cc154",
   "metadata": {},
   "source": [
    "##### 로지스틱회귀\n",
    "```\n",
    "공부한시간 데이터를 보고 합격여부를 예측\n",
    "공부시간에 비례해서 점수를 부여\n",
    "공부1시간에 10점을 부여\n",
    "--> 선형 방정식\n",
    "합격점수(z) = w*(공부시간) + b\n",
    "w(가중치) : 중요도  1시간당 점수(10점)\n",
    "b(편향) : 기본점수(-50, 5시간은 공부해야 0점)\n",
    "\n",
    "문제점 : 합격점수에 해당하는 100점이 나올수도 있지만 -200점이 나올수도 있음...\n",
    "분류를 하려면 즉 합격 불합격판단... 우리가 원하는 것은 방정식의 값으로 확률을 계산(0 ~ 100%)\n",
    "```\n",
    "##### 점수를 확률로 바꿔야한다.(시그모이드 함수)  0 ~ 1사이의 값으로 변경\n",
    "```\n",
    "합격확률 = 시그모이드(z) = 1 / 1 + e^-z\n",
    "합격점수가 높으면 1에 가깝고\n",
    "낮으면 0에 가깝다.\n",
    "합격점수가 0이면 정확히 0.5(50%)  - 임계값\n",
    "```\n",
    "##### 비용함수(손실함수) : 모델이 얼마나 틀렸는지 측정  로지스틱은 로그함수를 사용\n",
    "```\n",
    "합격(정답=1)\n",
    "모델이 99% 합격예측 == > 벌점은 거의 0점\n",
    "모델이 1% 합격예측 == > 벌점은 크게(무한대에 가깝게)\n",
    "\n",
    "불합격(정답 = 0)\n",
    "모델이 1%로 합격을 예측 -> 잘 맞춤 벌점이 거의 0점\n",
    "모델이 99%로 합격을 예측 -> 완전 틀림 벌점을 아주크게\n",
    "\n",
    "log loss 원리 \n",
    "w,b를 찾음... 손실함수를 이용해서 비용이 가장낮을때 \n",
    "```\n",
    "##### 비용이 최저인 값을 찾아나가는 과정 : 경사하강법\n",
    "\n",
    "##### 너무 완벽한 모델..(학습에 대해서)\n",
    "```\n",
    "규제(Regularization) 모델이 너무 복잡해 지지 않도록 패널티 또는 단순함에 대한 보너스\n",
    "L2규제(Ridge) : w(중요도)값이 너무커지는 것을 막는다 . 가중치(w) 제곱의 합을 패널티로 추가\n",
    "L1규제(Lasso) : 어떤 특징이 별로 안중요할거 같은.... 그냥 w(중요도) 그냥 0으로 만든다. 불필요한 특징을 제거하는 효과  가중치들의 절대값의 합을 패널티로 추가 - feature selecter 역활도 겸함\n",
    "```\n",
    "![image.png](attachment:image.png)\n",
    "\n"
   ]
  },
  {
   "cell_type": "code",
   "execution_count": 4,
   "id": "fc1c9206",
   "metadata": {},
   "outputs": [
    {
     "name": "stdout",
     "output_type": "stream",
     "text": [
      "[1 1 1 1 0] [1 1 1 1 0]\n"
     ]
    },
    {
     "data": {
      "text/plain": [
       "array([[5.60243299e-05, 9.99943976e-01],\n",
       "       [9.72401121e-05, 9.99902760e-01],\n",
       "       [1.17191306e-07, 9.99999883e-01],\n",
       "       [1.05433203e-03, 9.98945668e-01],\n",
       "       [9.88019909e-01, 1.19800905e-02]])"
      ]
     },
     "execution_count": 4,
     "metadata": {},
     "output_type": "execute_result"
    }
   ],
   "source": [
    "from sklearn.linear_model import LogisticRegression\n",
    "from sklearn.datasets import load_breast_cancer\n",
    "from sklearn.model_selection import train_test_split\n",
    "\n",
    "data = load_breast_cancer()\n",
    "X = data.data\n",
    "y = data.target\n",
    "\n",
    "x_train,x_test,y_train,y_test = train_test_split(X,y,test_size=0.3,stratify=y)\n",
    "\n",
    "clr = LogisticRegression(max_iter=10000)\n",
    "clr.fit(x_train,y_train)\n",
    "predict = clr.predict(x_test)\n",
    "print(predict[:5],  y_test[:5])\n",
    "predict_proba = clr.predict_proba(x_test)\n",
    "predict_proba[:5]\n",
    "\n"
   ]
  },
  {
   "cell_type": "code",
   "execution_count": null,
   "id": "d3ef35e4",
   "metadata": {},
   "outputs": [],
   "source": [
    "from sklearn.datasets import make_moons\n",
    "from sklearn.linear_model import LogisticRegression\n",
    "from sklearn.preprocessing import PolynomialFeatures, StandardScaler\n",
    "import numpy as np\n",
    "import matplotlib.pyplot as plt\n",
    "\n",
    "# --- 시각화 함수 (공통) ---\n",
    "def plot_decision_boundary(model, X_orig, y_orig, poly_transformer, scaler_transformer, title, subplot_ax):\n",
    "    \"\"\"모델의 결정 경계를 그려주는 함수\"\"\"\n",
    "    # 1. 그래프를 그릴 영역을 정의합니다.\n",
    "    x_min, x_max = X_orig[:, 0].min() - 0.5, X_orig[:, 0].max() + 0.5\n",
    "    y_min, y_max = X_orig[:, 1].min() - 0.5, X_orig[:, 1].max() + 0.5\n",
    "    xx, yy = np.meshgrid(np.arange(x_min, x_max, 0.02),\n",
    "                         np.arange(y_min, y_max, 0.02))\n",
    "\n",
    "    # 2. 그래프 영역의 모든 점들을 모델이 예측할 수 있도록 변환합니다.\n",
    "    grid_poly = poly_transformer.transform(np.c_[xx.ravel(), yy.ravel()])\n",
    "    grid_scaled = scaler_transformer.transform(grid_poly)\n",
    "\n",
    "    # 3. 변환된 점들을 모델로 예측합니다.\n",
    "    Z = model.predict(grid_scaled)\n",
    "    Z = Z.reshape(xx.shape)\n",
    "\n",
    "    # 4. 결정 경계와 원본 데이터 포인트를 그립니다.\n",
    "    subplot_ax.contourf(xx, yy, Z, alpha=0.3, cmap=plt.cm.coolwarm)\n",
    "    subplot_ax.scatter(X_orig[:, 0], X_orig[:, 1], c=y_orig, cmap=plt.cm.coolwarm, edgecolors='k')\n",
    "    subplot_ax.set_title(title)\n",
    "    subplot_ax.set_xlabel(\"Feature 1\")\n",
    "    subplot_ax.set_ylabel(\"Feature 2\")"
   ]
  },
  {
   "cell_type": "markdown",
   "id": "1cdc8f7c",
   "metadata": {},
   "source": []
  }
 ],
 "metadata": {
  "kernelspec": {
   "display_name": "deep",
   "language": "python",
   "name": "python3"
  },
  "language_info": {
   "codemirror_mode": {
    "name": "ipython",
    "version": 3
   },
   "file_extension": ".py",
   "mimetype": "text/x-python",
   "name": "python",
   "nbconvert_exporter": "python",
   "pygments_lexer": "ipython3",
   "version": "3.11.13"
  }
 },
 "nbformat": 4,
 "nbformat_minor": 5
}
