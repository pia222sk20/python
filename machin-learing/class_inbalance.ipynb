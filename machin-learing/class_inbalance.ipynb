{
 "cells": [
  {
   "cell_type": "markdown",
   "id": "5f3df51d",
   "metadata": {},
   "source": [
    "##### 불균형 클래스\n",
    "##### 클래스 불균형에 대한 이해\n",
    "##### 클래스 가중치 사용\n",
    "##### 리셈플링 기법\n",
    "##### 적절한 평가지표"
   ]
  },
  {
   "cell_type": "code",
   "execution_count": null,
   "id": "aba7d9f6",
   "metadata": {},
   "outputs": [
    {
     "ename": "TypeError",
     "evalue": "'int' object is not callable",
     "output_type": "error",
     "traceback": [
      "\u001b[31m---------------------------------------------------------------------------\u001b[39m",
      "\u001b[31mTypeError\u001b[39m                                 Traceback (most recent call last)",
      "\u001b[36mCell\u001b[39m\u001b[36m \u001b[39m\u001b[32mIn[65]\u001b[39m\u001b[32m, line 5\u001b[39m\n\u001b[32m      3\u001b[39m \u001b[38;5;28;01mimport\u001b[39;00m\u001b[38;5;250m \u001b[39m\u001b[34;01mnumpy\u001b[39;00m\u001b[38;5;250m \u001b[39m\u001b[38;5;28;01mas\u001b[39;00m\u001b[38;5;250m \u001b[39m\u001b[34;01mnp\u001b[39;00m\n\u001b[32m      4\u001b[39m \u001b[38;5;28;01mfrom\u001b[39;00m\u001b[38;5;250m \u001b[39m\u001b[34;01msklearn\u001b[39;00m\u001b[34;01m.\u001b[39;00m\u001b[34;01mpipeline\u001b[39;00m\u001b[38;5;250m \u001b[39m\u001b[38;5;28;01mimport\u001b[39;00m Pipeline\n\u001b[32m----> \u001b[39m\u001b[32m5\u001b[39m \u001b[43mnp\u001b[49m\u001b[43m.\u001b[49m\u001b[43mrandom\u001b[49m\u001b[43m.\u001b[49m\u001b[43mseed\u001b[49m\u001b[43m(\u001b[49m\u001b[32;43m42\u001b[39;49m\u001b[43m)\u001b[49m\n\u001b[32m      7\u001b[39m data = load_breast_cancer()\n\u001b[32m      8\u001b[39m X, y = data.data,  data.target\n",
      "\u001b[31mTypeError\u001b[39m: 'int' object is not callable"
     ]
    }
   ],
   "source": [
    "# 불균형 데이터 생성(1:9)  악성 0 : 양성 1\n",
    "from sklearn.datasets import load_breast_cancer\n",
    "import numpy as np\n",
    "from sklearn.pipeline import Pipeline\n",
    "np.random.seed(42)\n",
    "\n",
    "data = load_breast_cancer()\n",
    "X, y = data.data,  data.target\n",
    "# 악성을 소수 클래스로 생성\n",
    "\n",
    "print(f'악성 양성의 오리지널 비율 : {np.unique(y,return_counts=True)}')\n",
    "m_index =  np.where(y == 0)[0]  # index 반환  악성\n",
    "b_index =  np.where(y == 1)[0]\n",
    "\n",
    "# 악성은 일부만, 양성은 더 많이사용\n",
    "# 악성의 30%만 사용, 양성은 전체  1.5:8.5\n",
    "size_30 = int(len(m_index) * 0.19)\n",
    "selected_m_index = np.random.choice(m_index,size=size_30,replace=False)\n",
    "selected_b_index = b_index\n",
    "\n",
    "concatenate_selected_index = np.concatenate([selected_m_index,  selected_b_index])\n",
    "np.random.shuffle(concatenate_selected_index)\n",
    "\n",
    "X_imb = X[concatenate_selected_index]\n",
    "y_imb = y[concatenate_selected_index]\n",
    "\n",
    "# 클래스 분포 확인\n",
    "unique, counts = np.unique(y_imb,return_counts=True)\n",
    "print('클래스 분포 :')\n",
    "for label, count in zip(unique,counts):\n",
    "    percentage = count / len(y_imb) * 100\n",
    "    print(f'클래스 {label} : {count}개 ({percentage:.1f}%)')\n",
    "\n",
    "# 불균형인 상태로 진행\n",
    "# 스케일링 정규화 StandardSacaler\n",
    "# LogisticRegression\n",
    "# pipe \n",
    "# 평가는 class report\n",
    "\n",
    "from sklearn.preprocessing import StandardScaler\n",
    "from sklearn.linear_model import LogisticRegression\n",
    "from sklearn.model_selection import train_test_split\n",
    "from sklearn.metrics import classification_report\n",
    "\n",
    "x_train,x_test,y_train,y_test = train_test_split(X_imb, y_imb,stratify=y_imb, test_size=0.2,random_state=42)\n",
    "print('1. 기본 모델 (불균형 무시)')\n",
    "pipe = Pipeline([\n",
    "    ('scaler',StandardScaler()),\n",
    "    ('clf', LogisticRegression())\n",
    "])\n",
    "pipe.fit(x_train, y_train)\n",
    "print( classification_report(y_test, pipe.predict(x_test),target_names=['악성(0)','양성(1)'] )  )"
   ]
  },
  {
   "cell_type": "code",
   "execution_count": null,
   "id": "9e820547",
   "metadata": {},
   "outputs": [],
   "source": []
  }
 ],
 "metadata": {
  "kernelspec": {
   "display_name": "deep",
   "language": "python",
   "name": "python3"
  },
  "language_info": {
   "codemirror_mode": {
    "name": "ipython",
    "version": 3
   },
   "file_extension": ".py",
   "mimetype": "text/x-python",
   "name": "python",
   "nbconvert_exporter": "python",
   "pygments_lexer": "ipython3",
   "version": "3.11.13"
  }
 },
 "nbformat": 4,
 "nbformat_minor": 5
}
