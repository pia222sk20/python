{
 "cells": [
  {
   "cell_type": "markdown",
   "id": "5f3df51d",
   "metadata": {},
   "source": [
    "##### 불균형 클래스\n",
    "##### 클래스 불균형에 대한 이해\n",
    "##### 클래스 가중치 사용\n",
    "##### 리셈플링 기법\n",
    "##### 적절한 평가지표"
   ]
  },
  {
   "cell_type": "code",
   "execution_count": null,
   "id": "aba7d9f6",
   "metadata": {},
   "outputs": [
    {
     "name": "stdout",
     "output_type": "stream",
     "text": [
      "악성 양성의 오리지널 비율 : (array([0, 1]), array([212, 357]))\n",
      "클래스 분포 :\n",
      "클래스 0 : 40개 (10.1%)\n",
      "클래스 1 : 357개 (89.9%)\n"
     ]
    }
   ],
   "source": [
    "# 불균형 데이터 생성(1:9)  악성 0 : 양성 1\n",
    "from sklearn.datasets import load_breast_cancer\n",
    "import numpy as np\n",
    "data = load_breast_cancer()\n",
    "X, y = data.data,  data.target\n",
    "# 악성을 소수 클래스로 생성\n",
    "\n",
    "print(f'악성 양성의 오리지널 비율 : {np.unique(y,return_counts=True)}')\n",
    "m_index =  np.where(y == 0)[0]  # index 반환  악성\n",
    "b_index =  np.where(y == 1)[0]\n",
    "\n",
    "# 악성은 일부만, 양성은 더 많이사용\n",
    "# 악성의 30%만 사용, 양성은 전체  1.5:8.5\n",
    "size_30 = int(len(m_index) * 0.19)\n",
    "selected_m_index = np.random.choice(m_index,size=size_30,replace=False)\n",
    "selected_b_index = b_index\n",
    "\n",
    "concatenate_selected_index = np.concatenate([selected_m_index,  selected_b_index])\n",
    "np.random.shuffle(concatenate_selected_index)\n",
    "\n",
    "X_imb = X[concatenate_selected_index]\n",
    "y_imb = y[concatenate_selected_index]\n",
    "\n",
    "# 클래스 분포 확인\n",
    "unique, counts = np.unique(y_imb,return_counts=True)\n",
    "print('클래스 분포 :')\n",
    "for label, count in zip(unique,counts):\n",
    "    percentage = count / len(y_imb) * 100\n",
    "    print(f'클래스 {label} : {count}개 ({percentage:.1f}%)')\n",
    "\n",
    "# 불균형인 상태로 진행\n",
    "# 스케일링 정규화 StandardSacaler\n",
    "# LogisticRegression\n",
    "# pipe \n",
    "# 평가는 class report"
   ]
  }
 ],
 "metadata": {
  "kernelspec": {
   "display_name": "deep",
   "language": "python",
   "name": "python3"
  },
  "language_info": {
   "codemirror_mode": {
    "name": "ipython",
    "version": 3
   },
   "file_extension": ".py",
   "mimetype": "text/x-python",
   "name": "python",
   "nbconvert_exporter": "python",
   "pygments_lexer": "ipython3",
   "version": "3.11.13"
  }
 },
 "nbformat": 4,
 "nbformat_minor": 5
}
