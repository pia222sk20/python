{
 "cells": [
  {
   "cell_type": "markdown",
   "id": "5f3df51d",
   "metadata": {},
   "source": [
    "##### 불균형 클래스\n",
    "##### 클래스 불균형에 대한 이해\n",
    "##### 클래스 가중치 사용\n",
    "##### 리셈플링 기법\n",
    "##### 적절한 평가지표"
   ]
  },
  {
   "cell_type": "code",
   "execution_count": 25,
   "id": "aba7d9f6",
   "metadata": {},
   "outputs": [
    {
     "name": "stdout",
     "output_type": "stream",
     "text": [
      "악성 양성의 오리지널 비율 : (array([0, 1]), array([212, 357]))\n",
      "클래스 분포 :\n",
      "클래스 0 : 42개 (10.5%)\n",
      "클래스 1 : 357개 (89.5%)\n",
      "1. 기본 모델 (불균형 무시)\n",
      "              precision    recall  f1-score   support\n",
      "\n",
      "       악성(0)       1.00      0.88      0.93         8\n",
      "       양성(1)       0.99      1.00      0.99        72\n",
      "\n",
      "    accuracy                           0.99        80\n",
      "   macro avg       0.99      0.94      0.96        80\n",
      "weighted avg       0.99      0.99      0.99        80\n",
      "\n"
     ]
    }
   ],
   "source": [
    "# 불균형 데이터 생성(1:9)  악성 0 : 양성 1\n",
    "from sklearn.datasets import load_breast_cancer\n",
    "import numpy as np\n",
    "from sklearn.pipeline import Pipeline\n",
    "np.random.seed(42)\n",
    "\n",
    "data = load_breast_cancer()\n",
    "X, y = data.data,  data.target\n",
    "# 악성을 소수 클래스로 생성\n",
    "\n",
    "print(f'악성 양성의 오리지널 비율 : {np.unique(y,return_counts=True)}')\n",
    "m_index =  np.where(y == 0)[0]  # index 반환  악성\n",
    "b_index =  np.where(y == 1)[0]\n",
    "\n",
    "# 악성은 일부만, 양성은 더 많이사용\n",
    "# 악성의 30%만 사용, 양성은 전체  1.5:8.5\n",
    "size_30 = int(len(m_index) * 0.2)\n",
    "selected_m_index = np.random.choice(m_index,size=size_30,replace=False)\n",
    "selected_b_index = b_index\n",
    "\n",
    "concatenate_selected_index = np.concatenate([selected_m_index,  selected_b_index])\n",
    "np.random.shuffle(concatenate_selected_index)\n",
    "\n",
    "X_imb = X[concatenate_selected_index]\n",
    "y_imb = y[concatenate_selected_index]\n",
    "\n",
    "# 클래스 분포 확인\n",
    "unique, counts = np.unique(y_imb,return_counts=True)\n",
    "print('클래스 분포 :')\n",
    "for label, count in zip(unique,counts):\n",
    "    percentage = count / len(y_imb) * 100\n",
    "    print(f'클래스 {label} : {count}개 ({percentage:.1f}%)')\n",
    "\n",
    "# 불균형인 상태로 진행\n",
    "# 스케일링 정규화 StandardSacaler\n",
    "# LogisticRegression\n",
    "# pipe \n",
    "# 평가는 class report\n",
    "\n",
    "from sklearn.preprocessing import StandardScaler\n",
    "from sklearn.linear_model import LogisticRegression\n",
    "from sklearn.model_selection import train_test_split\n",
    "from sklearn.metrics import classification_report\n",
    "\n",
    "x_train,x_test,y_train,y_test = train_test_split(X_imb, y_imb,stratify=y_imb, test_size=0.2,random_state=42)\n",
    "print('1. 기본 모델 (불균형 무시)')\n",
    "pipe = Pipeline([\n",
    "    ('scaler',StandardScaler()),\n",
    "    ('clf', LogisticRegression(random_state=42,max_iter=1000))\n",
    "])\n",
    "pipe.fit(x_train, y_train)\n",
    "print( classification_report(y_test, pipe.predict(x_test),target_names=['악성(0)','양성(1)'] )  )"
   ]
  },
  {
   "cell_type": "code",
   "execution_count": 28,
   "id": "e558acbc",
   "metadata": {},
   "outputs": [
    {
     "name": "stdout",
     "output_type": "stream",
     "text": [
      "불균형 해결 : 클래스 가중치 사용\n",
      "              precision    recall  f1-score   support\n",
      "\n",
      "           0       1.00      0.88      0.93         8\n",
      "           1       0.99      1.00      0.99        72\n",
      "\n",
      "    accuracy                           0.99        80\n",
      "   macro avg       0.99      0.94      0.96        80\n",
      "weighted avg       0.99      0.99      0.99        80\n",
      "\n",
      "가중치 계산\n",
      " 클래스 :0 : 4.691\n",
      " 클래스 :1 : 0.560\n"
     ]
    }
   ],
   "source": [
    "print('불균형 해결 : 클래스 가중치 사용')\n",
    "# 기존파이프라인의 clf 이름의 객체의 파라메터를 조정\n",
    "from copy import deepcopy\n",
    "pipe_weight = deepcopy(pipe)\n",
    "pipe_weight.set_params(clf__class_weight = 'balanced')\n",
    "\n",
    "# pipe_weight = Pipeline([\n",
    "#     ('scaler',StandardScaler()),\n",
    "#     ('clf', LogisticRegression(random_state=10,max_iter=1000,class_weight = 'balanced'))\n",
    "# ])\n",
    "\n",
    "\n",
    "pipe_weight.fit(x_train,y_train)\n",
    "print( classification_report(y_test, pipe_weight.predict(x_test)  )   )\n",
    "\n",
    "print(\"가중치 계산\")\n",
    "n_samples = len(y_train)\n",
    "n_classes = 2\n",
    "class_counts = np.bincount(y_train)\n",
    "for i in range(n_classes):\n",
    "    weight = n_samples / (n_classes * class_counts[i])\n",
    "    print(f' 클래스 :{i} : {weight:.3f}')    "
   ]
  },
  {
   "cell_type": "code",
   "execution_count": 40,
   "id": "98b0244a",
   "metadata": {},
   "outputs": [
    {
     "name": "stdout",
     "output_type": "stream",
     "text": [
      " 불균형 : RandomFores (균형모드)\n",
      "              precision    recall  f1-score   support\n",
      "\n",
      "           0       1.00      0.62      0.77         8\n",
      "           1       0.96      1.00      0.98        72\n",
      "\n",
      "    accuracy                           0.96        80\n",
      "   macro avg       0.98      0.81      0.87        80\n",
      "weighted avg       0.96      0.96      0.96        80\n",
      "\n"
     ]
    }
   ],
   "source": [
    "from sklearn.ensemble import RandomForestClassifier\n",
    "print(' 불균형 : RandomFores (균형모드)')\n",
    "pipe_rf = Pipeline([\n",
    "    ('scaler', StandardScaler()),\n",
    "    ('clf', RandomForestClassifier(class_weight='balanced',random_state=42))\n",
    "])\n",
    "pipe_rf.fit(x_train, y_train)\n",
    "y_pred = pipe_rf.predict(x_test)\n",
    "print( classification_report(y_test, y_pred) )"
   ]
  },
  {
   "cell_type": "code",
   "execution_count": null,
   "id": "155b1274",
   "metadata": {},
   "outputs": [],
   "source": [
    "# 오버 or 언더 셈플링 - 직접 실행..  SMOTE  SMOTEEN"
   ]
  },
  {
   "cell_type": "code",
   "execution_count": null,
   "id": "9e820547",
   "metadata": {},
   "outputs": [],
   "source": []
  }
 ],
 "metadata": {
  "kernelspec": {
   "display_name": "deep",
   "language": "python",
   "name": "python3"
  },
  "language_info": {
   "codemirror_mode": {
    "name": "ipython",
    "version": 3
   },
   "file_extension": ".py",
   "mimetype": "text/x-python",
   "name": "python",
   "nbconvert_exporter": "python",
   "pygments_lexer": "ipython3",
   "version": "3.11.13"
  }
 },
 "nbformat": 4,
 "nbformat_minor": 5
}
