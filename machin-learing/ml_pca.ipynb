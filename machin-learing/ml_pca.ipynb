{
 "cells": [
  {
   "cell_type": "markdown",
   "id": "22569a82",
   "metadata": {},
   "source": [
    "#### PCA(Principle Componet Analysis) - 주성분 분석\n",
    "\n",
    "#### 여러개의 변수(특성 Feature) 대표할 수 있는 주성분 이라는 새로운 변수를 만듦\n",
    "\n",
    "#### 여러개의 3D 이미지(공간)를 잘 설명할 수 있는 2D 이미지(그림자)를 찾는다."
   ]
  },
  {
   "cell_type": "markdown",
   "id": "e355265d",
   "metadata": {},
   "source": [
    "#### 1단계 : 데이터 표준화(Standaridization)\n",
    "```\n",
    "각 변수의 평균을 0, 분산을 1로 만들어서 모든 데이터가 동일한 스케일\n",
    "키(3자리)와 몸무게(2자리)\n",
    "```"
   ]
  },
  {
   "cell_type": "code",
   "execution_count": null,
   "id": "7a544877",
   "metadata": {},
   "outputs": [],
   "source": [
    "%conda install pandas  scikit-learn matplotlib seaborn numpy"
   ]
  },
  {
   "cell_type": "code",
   "execution_count": null,
   "id": "11086941",
   "metadata": {},
   "outputs": [],
   "source": [
    "%conda update -n base -c defaults conda"
   ]
  },
  {
   "cell_type": "code",
   "execution_count": 7,
   "id": "21df7004",
   "metadata": {},
   "outputs": [],
   "source": [
    "import pandas as pd\n",
    "from sklearn.preprocessing import StandardScaler\n",
    "from sklearn.decomposition import PCA\n",
    "import matplotlib.pyplot as plt\n",
    "import seaborn as sns"
   ]
  },
  {
   "cell_type": "code",
   "execution_count": 10,
   "id": "e5833e7d",
   "metadata": {},
   "outputs": [
    {
     "data": {
      "text/html": [
       "<div>\n",
       "<style scoped>\n",
       "    .dataframe tbody tr th:only-of-type {\n",
       "        vertical-align: middle;\n",
       "    }\n",
       "\n",
       "    .dataframe tbody tr th {\n",
       "        vertical-align: top;\n",
       "    }\n",
       "\n",
       "    .dataframe thead th {\n",
       "        text-align: right;\n",
       "    }\n",
       "</style>\n",
       "<table border=\"1\" class=\"dataframe\">\n",
       "  <thead>\n",
       "    <tr style=\"text-align: right;\">\n",
       "      <th></th>\n",
       "      <th>sepal length (cm)</th>\n",
       "      <th>sepal width (cm)</th>\n",
       "      <th>petal length (cm)</th>\n",
       "      <th>petal width (cm)</th>\n",
       "      <th>target</th>\n",
       "    </tr>\n",
       "  </thead>\n",
       "  <tbody>\n",
       "    <tr>\n",
       "      <th>0</th>\n",
       "      <td>5.1</td>\n",
       "      <td>3.5</td>\n",
       "      <td>1.4</td>\n",
       "      <td>0.2</td>\n",
       "      <td>0</td>\n",
       "    </tr>\n",
       "    <tr>\n",
       "      <th>1</th>\n",
       "      <td>4.9</td>\n",
       "      <td>3.0</td>\n",
       "      <td>1.4</td>\n",
       "      <td>0.2</td>\n",
       "      <td>0</td>\n",
       "    </tr>\n",
       "    <tr>\n",
       "      <th>2</th>\n",
       "      <td>4.7</td>\n",
       "      <td>3.2</td>\n",
       "      <td>1.3</td>\n",
       "      <td>0.2</td>\n",
       "      <td>0</td>\n",
       "    </tr>\n",
       "    <tr>\n",
       "      <th>3</th>\n",
       "      <td>4.6</td>\n",
       "      <td>3.1</td>\n",
       "      <td>1.5</td>\n",
       "      <td>0.2</td>\n",
       "      <td>0</td>\n",
       "    </tr>\n",
       "    <tr>\n",
       "      <th>4</th>\n",
       "      <td>5.0</td>\n",
       "      <td>3.6</td>\n",
       "      <td>1.4</td>\n",
       "      <td>0.2</td>\n",
       "      <td>0</td>\n",
       "    </tr>\n",
       "    <tr>\n",
       "      <th>...</th>\n",
       "      <td>...</td>\n",
       "      <td>...</td>\n",
       "      <td>...</td>\n",
       "      <td>...</td>\n",
       "      <td>...</td>\n",
       "    </tr>\n",
       "    <tr>\n",
       "      <th>145</th>\n",
       "      <td>6.7</td>\n",
       "      <td>3.0</td>\n",
       "      <td>5.2</td>\n",
       "      <td>2.3</td>\n",
       "      <td>2</td>\n",
       "    </tr>\n",
       "    <tr>\n",
       "      <th>146</th>\n",
       "      <td>6.3</td>\n",
       "      <td>2.5</td>\n",
       "      <td>5.0</td>\n",
       "      <td>1.9</td>\n",
       "      <td>2</td>\n",
       "    </tr>\n",
       "    <tr>\n",
       "      <th>147</th>\n",
       "      <td>6.5</td>\n",
       "      <td>3.0</td>\n",
       "      <td>5.2</td>\n",
       "      <td>2.0</td>\n",
       "      <td>2</td>\n",
       "    </tr>\n",
       "    <tr>\n",
       "      <th>148</th>\n",
       "      <td>6.2</td>\n",
       "      <td>3.4</td>\n",
       "      <td>5.4</td>\n",
       "      <td>2.3</td>\n",
       "      <td>2</td>\n",
       "    </tr>\n",
       "    <tr>\n",
       "      <th>149</th>\n",
       "      <td>5.9</td>\n",
       "      <td>3.0</td>\n",
       "      <td>5.1</td>\n",
       "      <td>1.8</td>\n",
       "      <td>2</td>\n",
       "    </tr>\n",
       "  </tbody>\n",
       "</table>\n",
       "<p>150 rows × 5 columns</p>\n",
       "</div>"
      ],
      "text/plain": [
       "     sepal length (cm)  sepal width (cm)  petal length (cm)  petal width (cm)  \\\n",
       "0                  5.1               3.5                1.4               0.2   \n",
       "1                  4.9               3.0                1.4               0.2   \n",
       "2                  4.7               3.2                1.3               0.2   \n",
       "3                  4.6               3.1                1.5               0.2   \n",
       "4                  5.0               3.6                1.4               0.2   \n",
       "..                 ...               ...                ...               ...   \n",
       "145                6.7               3.0                5.2               2.3   \n",
       "146                6.3               2.5                5.0               1.9   \n",
       "147                6.5               3.0                5.2               2.0   \n",
       "148                6.2               3.4                5.4               2.3   \n",
       "149                5.9               3.0                5.1               1.8   \n",
       "\n",
       "     target  \n",
       "0         0  \n",
       "1         0  \n",
       "2         0  \n",
       "3         0  \n",
       "4         0  \n",
       "..      ...  \n",
       "145       2  \n",
       "146       2  \n",
       "147       2  \n",
       "148       2  \n",
       "149       2  \n",
       "\n",
       "[150 rows x 5 columns]"
      ]
     },
     "execution_count": 10,
     "metadata": {},
     "output_type": "execute_result"
    }
   ],
   "source": [
    "# 예제데이터 붓꽃\n",
    "from sklearn.datasets import load_iris\n",
    "iris = load_iris(as_frame=True)\n",
    "df = iris.data\n",
    "df['target'] = iris.target\n",
    "df"
   ]
  },
  {
   "cell_type": "code",
   "execution_count": 13,
   "id": "3e386662",
   "metadata": {},
   "outputs": [
    {
     "data": {
      "text/plain": [
       "array([[-0.90068117,  1.01900435, -1.34022653, -1.3154443 ],\n",
       "       [-1.14301691, -0.13197948, -1.34022653, -1.3154443 ],\n",
       "       [-1.38535265,  0.32841405, -1.39706395, -1.3154443 ],\n",
       "       [-1.50652052,  0.09821729, -1.2833891 , -1.3154443 ],\n",
       "       [-1.02184904,  1.24920112, -1.34022653, -1.3154443 ]])"
      ]
     },
     "execution_count": 13,
     "metadata": {},
     "output_type": "execute_result"
    }
   ],
   "source": [
    "X = df.loc[:,:\"petal width (cm)\"].values\n",
    "# 표준화 진행\n",
    "X_scaled = StandardScaler().fit_transform(X)\n",
    "X_scaled[:5]"
   ]
  },
  {
   "cell_type": "markdown",
   "id": "466cc381",
   "metadata": {},
   "source": [
    "#### 2단계 : 공분산 행렬 계산(Covariance Matrix)\n",
    "```\n",
    "공분산 : 두 변수가 함께 어떻게 변하는지를 나타내는 값\n",
    "양수 : 한변수가 증가할때 같이 증가\n",
    "음수 : 반대\n",
    "공분산 행렬 : 모든 변수 쌍들의 공분산을 행렬로 정리한 것--> 이 행렬을 통해서 데이터가 어떤방향으로 퍼져있는지 알수 있음\n",
    "```"
   ]
  },
  {
   "cell_type": "markdown",
   "id": "85e9830d",
   "metadata": {},
   "source": [
    "#### 3단계 : 고유값과 고유벡터 계산\n",
    "```\n",
    "공분산 행렬을 이용해서 고유값 고유벡터 찾는다\n",
    "고유값벡터 : 데이터가 어떤 방향으로 가장 크게 분산(퍼져있는정도)되어 있지를 나타내는 방향 벡터 이 방향이 새로운 축 즉 주성분\n",
    "고유값 : 해당 고유벡터 방향으로 데이터가 얼마나 많이 퍼져있는지는 나타내는 힘의크기, 이 값이 크면 그 방향이 데이터를 더 많이 설명한다는 의미\n",
    "\n",
    "PCA 고유값의 크기 순서에따라서 제1 주성분(PC1), 제2 주성분(PC2)등..\n",
    "PC1 데이터를 가장 잘 설명하는 축이고 PC2는 PC1 과 직각을 이루면서 그 다음으로 데이터를 잘 표현\n",
    "```"
   ]
  },
  {
   "cell_type": "markdown",
   "id": "bc9c36a3",
   "metadata": {},
   "source": [
    "#### 4단계 : 주성분 결정 및 데이터 변환\n",
    "```\n",
    "계산된 고유벡터축에 원래 데이터를 투영(projection)하여 차워을 축소함\n",
    "붓꽃은 4개의 특성을 2개의 주성분(2차원)으로 변환해서 시각화\n",
    "```"
   ]
  },
  {
   "cell_type": "markdown",
   "id": "13d4f0e7",
   "metadata": {},
   "source": []
  }
 ],
 "metadata": {
  "kernelspec": {
   "display_name": "deep",
   "language": "python",
   "name": "python3"
  },
  "language_info": {
   "codemirror_mode": {
    "name": "ipython",
    "version": 3
   },
   "file_extension": ".py",
   "mimetype": "text/x-python",
   "name": "python",
   "nbconvert_exporter": "python",
   "pygments_lexer": "ipython3",
   "version": "3.11.13"
  }
 },
 "nbformat": 4,
 "nbformat_minor": 5
}
