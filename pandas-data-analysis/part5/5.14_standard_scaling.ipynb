{
 "cells": [
  {
   "cell_type": "code",
   "execution_count": 1,
   "id": "bb12202f-d4dd-41d5-b8bd-f4c78b69b0f9",
   "metadata": {
    "tags": []
   },
   "outputs": [
    {
     "data": {
      "text/plain": [
       "count    392.000000\n",
       "mean     104.469388\n",
       "std       38.491160\n",
       "min       46.000000\n",
       "25%       75.000000\n",
       "50%       93.500000\n",
       "75%      126.000000\n",
       "max      230.000000\n",
       "Name: horsepower, dtype: float64"
      ]
     },
     "execution_count": 1,
     "metadata": {},
     "output_type": "execute_result"
    }
   ],
   "source": [
    "# 라이브러리 불러오기\n",
    "import pandas as pd\n",
    "import numpy as np\n",
    "\n",
    "# read_csv() 함수로 df 생성\n",
    "df = pd.read_csv('./data/auto-mpg.csv', header=None)\n",
    "\n",
    "# 열 이름을 지정\n",
    "df.columns = ['mpg','cylinders','displacement','horsepower','weight',\n",
    "              'acceleration','model year','origin','name'] \n",
    "\n",
    "# horsepower 열의 누락 데이터('?') 삭제하고 실수형으로 변환\n",
    "df['horsepower'] = df['horsepower'].replace('?', np.nan)      # '?'을 np.nan으로 변경\n",
    "df = df.dropna(subset=['horsepower'], axis=0)                 # 누락데이터 행을 삭제\n",
    "df['horsepower'] = df['horsepower'].astype('float')           # 문자열을 실수형으로 변환\n",
    "\n",
    "# horsepower 열의 통계 요약정보로 최대값(max)을 확인\n",
    "df['horsepower'].describe()"
   ]
  },
  {
   "cell_type": "code",
   "execution_count": 2,
   "id": "6fc4e542-faf0-418f-8f92-3d65504188b1",
   "metadata": {
    "tags": []
   },
   "outputs": [
    {
     "data": {
      "text/plain": [
       "0    0.663285\n",
       "1    1.572585\n",
       "2    1.182885\n",
       "3    1.182885\n",
       "4    0.923085\n",
       "Name: horsepower_standard, dtype: float64"
      ]
     },
     "execution_count": 2,
     "metadata": {},
     "output_type": "execute_result"
    }
   ],
   "source": [
    "# horsepower 열을 Standard Scaling 적용 (판다스)\n",
    "# 평균 :0 표준편차 : 1\n",
    "# 각각의 데이터 전체그룹에서 얼마나 평균적인지 수치로 나타낸값\n",
    "# 중앙값을 중심으로 변환되기 때문에 이상치에 덜 민감하다\n",
    "# 범위가 고정된 데이터에 부적합 (EX 이미지 0~255)\n",
    "df['horsepower_standard'] = (df['horsepower'] - df['horsepower'].mean()) / \\\n",
    "                             df['horsepower'].std()\n",
    "\n",
    "df['horsepower_standard'].head()"
   ]
  },
  {
   "cell_type": "code",
   "execution_count": 3,
   "id": "b96d3089-2acd-4b2a-abc2-f7d533a8d237",
   "metadata": {
    "tags": []
   },
   "outputs": [
    {
     "data": {
      "text/plain": [
       "0    0.664133\n",
       "1    1.574594\n",
       "2    1.184397\n",
       "3    1.184397\n",
       "4    0.924265\n",
       "Name: horsepower_standard, dtype: float64"
      ]
     },
     "execution_count": 3,
     "metadata": {},
     "output_type": "execute_result"
    }
   ],
   "source": [
    "# horsepower 열을 Standard Scaling 적용 (사이킷런)\n",
    "from sklearn.preprocessing import StandardScaler\n",
    "\n",
    "scaler = StandardScaler()\n",
    "df['horsepower_standard'] = scaler.fit_transform(df[['horsepower']])\n",
    "df['horsepower_standard'].head()"
   ]
  },
  {
   "cell_type": "code",
   "execution_count": 4,
   "id": "28ab12ae",
   "metadata": {},
   "outputs": [
    {
     "data": {
      "text/plain": [
       "<Axes: >"
      ]
     },
     "execution_count": 4,
     "metadata": {},
     "output_type": "execute_result"
    },
    {
     "data": {
      "image/png": "[encoded data removed]",
      "text/plain": [
       "<Figure size 1200x500 with 2 Axes>"
      ]
     },
     "metadata": {},
     "output_type": "display_data"
    }
   ],
   "source": [
    "import matplotlib.pylab as plt\n",
    "f,ax = plt.subplots(1,2,figsize=(12,5))\n",
    "df['horsepower_standard'].hist(ax=ax[0])\n",
    "df['horsepower'].hist(ax=ax[1])"
   ]
  }
 ],
 "metadata": {
  "kernelspec": {
   "display_name": ".venv (3.13.7)",
   "language": "python",
   "name": "python3"
  },
  "language_info": {
   "codemirror_mode": {
    "name": "ipython",
    "version": 3
   },
   "file_extension": ".py",
   "mimetype": "text/x-python",
   "name": "python",
   "nbconvert_exporter": "python",
   "pygments_lexer": "ipython3",
   "version": "3.13.7"
  }
 },
 "nbformat": 4,
 "nbformat_minor": 5
}
