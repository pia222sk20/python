{
 "cells": [
  {
   "cell_type": "code",
   "execution_count": 1,
   "id": "bf64c97f",
   "metadata": {},
   "outputs": [
    {
     "data": {
      "text/plain": [
       "(878049, 9)"
      ]
     },
     "execution_count": 1,
     "metadata": {},
     "output_type": "execute_result"
    }
   ],
   "source": [
    "# 데이터 위치\n",
    "# https://drive.google.com/drive/folders/1bnxQ55Y0IeuS0wHXyPd_r7Q6-8R5qBUN?usp=sharing\n",
    "\n",
    "\n",
    "import pandas as pd\n",
    "url = 'C:/python_src2/data/San-Francisco-Crime.csv'\n",
    "df = pd.read_csv(url)\n",
    "df.shape"
   ]
  },
  {
   "cell_type": "code",
   "execution_count": 2,
   "id": "782ebdde",
   "metadata": {},
   "outputs": [
    {
     "data": {
      "text/html": [
       "<div>\n",
       "<style scoped>\n",
       "    .dataframe tbody tr th:only-of-type {\n",
       "        vertical-align: middle;\n",
       "    }\n",
       "\n",
       "    .dataframe tbody tr th {\n",
       "        vertical-align: top;\n",
       "    }\n",
       "\n",
       "    .dataframe thead th {\n",
       "        text-align: right;\n",
       "    }\n",
       "</style>\n",
       "<table border=\"1\" class=\"dataframe\">\n",
       "  <thead>\n",
       "    <tr style=\"text-align: right;\">\n",
       "      <th></th>\n",
       "      <th>Dates</th>\n",
       "      <th>Category</th>\n",
       "      <th>Descript</th>\n",
       "      <th>DayOfWeek</th>\n",
       "      <th>PdDistrict</th>\n",
       "      <th>Resolution</th>\n",
       "      <th>Address</th>\n",
       "      <th>X</th>\n",
       "      <th>Y</th>\n",
       "    </tr>\n",
       "  </thead>\n",
       "  <tbody>\n",
       "    <tr>\n",
       "      <th>0</th>\n",
       "      <td>2015-05-13 23:53:00</td>\n",
       "      <td>WARRANTS</td>\n",
       "      <td>WARRANT ARREST</td>\n",
       "      <td>Wednesday</td>\n",
       "      <td>NORTHERN</td>\n",
       "      <td>ARREST, BOOKED</td>\n",
       "      <td>OAK ST / LAGUNA ST</td>\n",
       "      <td>-122.425892</td>\n",
       "      <td>37.774599</td>\n",
       "    </tr>\n",
       "    <tr>\n",
       "      <th>1</th>\n",
       "      <td>2015-05-13 23:53:00</td>\n",
       "      <td>OTHER OFFENSES</td>\n",
       "      <td>TRAFFIC VIOLATION ARREST</td>\n",
       "      <td>Wednesday</td>\n",
       "      <td>NORTHERN</td>\n",
       "      <td>ARREST, BOOKED</td>\n",
       "      <td>OAK ST / LAGUNA ST</td>\n",
       "      <td>-122.425892</td>\n",
       "      <td>37.774599</td>\n",
       "    </tr>\n",
       "    <tr>\n",
       "      <th>2</th>\n",
       "      <td>2015-05-13 23:33:00</td>\n",
       "      <td>OTHER OFFENSES</td>\n",
       "      <td>TRAFFIC VIOLATION ARREST</td>\n",
       "      <td>Wednesday</td>\n",
       "      <td>NORTHERN</td>\n",
       "      <td>ARREST, BOOKED</td>\n",
       "      <td>VANNESS AV / GREENWICH ST</td>\n",
       "      <td>-122.424363</td>\n",
       "      <td>37.800414</td>\n",
       "    </tr>\n",
       "    <tr>\n",
       "      <th>3</th>\n",
       "      <td>2015-05-13 23:30:00</td>\n",
       "      <td>LARCENY/THEFT</td>\n",
       "      <td>GRAND THEFT FROM LOCKED AUTO</td>\n",
       "      <td>Wednesday</td>\n",
       "      <td>NORTHERN</td>\n",
       "      <td>NONE</td>\n",
       "      <td>1500 Block of LOMBARD ST</td>\n",
       "      <td>-122.426995</td>\n",
       "      <td>37.800873</td>\n",
       "    </tr>\n",
       "    <tr>\n",
       "      <th>4</th>\n",
       "      <td>2015-05-13 23:30:00</td>\n",
       "      <td>LARCENY/THEFT</td>\n",
       "      <td>GRAND THEFT FROM LOCKED AUTO</td>\n",
       "      <td>Wednesday</td>\n",
       "      <td>PARK</td>\n",
       "      <td>NONE</td>\n",
       "      <td>100 Block of BRODERICK ST</td>\n",
       "      <td>-122.438738</td>\n",
       "      <td>37.771541</td>\n",
       "    </tr>\n",
       "  </tbody>\n",
       "</table>\n",
       "</div>"
      ],
      "text/plain": [
       "                 Dates        Category  ...           X          Y\n",
       "0  2015-05-13 23:53:00        WARRANTS  ... -122.425892  37.774599\n",
       "1  2015-05-13 23:53:00  OTHER OFFENSES  ... -122.425892  37.774599\n",
       "2  2015-05-13 23:33:00  OTHER OFFENSES  ... -122.424363  37.800414\n",
       "3  2015-05-13 23:30:00   LARCENY/THEFT  ... -122.426995  37.800873\n",
       "4  2015-05-13 23:30:00   LARCENY/THEFT  ... -122.438738  37.771541\n",
       "\n",
       "[5 rows x 9 columns]"
      ]
     },
     "execution_count": 2,
     "metadata": {},
     "output_type": "execute_result"
    }
   ],
   "source": [
    "df.head()"
   ]
  },
  {
   "cell_type": "code",
   "execution_count": 3,
   "id": "73d72465",
   "metadata": {},
   "outputs": [
    {
     "name": "stdout",
     "output_type": "stream",
     "text": [
      "<class 'pandas.core.frame.DataFrame'>\n",
      "RangeIndex: 878049 entries, 0 to 878048\n",
      "Data columns (total 9 columns):\n",
      " #   Column      Non-Null Count   Dtype  \n",
      "---  ------      --------------   -----  \n",
      " 0   Dates       878049 non-null  object \n",
      " 1   Category    878049 non-null  object \n",
      " 2   Descript    878049 non-null  object \n",
      " 3   DayOfWeek   878049 non-null  object \n",
      " 4   PdDistrict  878049 non-null  object \n",
      " 5   Resolution  878049 non-null  object \n",
      " 6   Address     878049 non-null  object \n",
      " 7   X           878049 non-null  float64\n",
      " 8   Y           878049 non-null  float64\n",
      "dtypes: float64(2), object(7)\n",
      "memory usage: 60.3+ MB\n"
     ]
    }
   ],
   "source": [
    "df.info()"
   ]
  },
  {
   "cell_type": "code",
   "execution_count": 4,
   "id": "31ea524d",
   "metadata": {},
   "outputs": [],
   "source": [
    "# # Domain 지식   컬럼정보\n",
    "# Dates: 범죄 사건이 발생한 날짜와 시간 (타임스탬프)\n",
    "\n",
    "# Category: 범죄 사건의 유형 ( 예측해야 할 목표 변수)\n",
    "\n",
    "# Descript: 범죄 사건에 대한 상세한 설명\n",
    "\n",
    "# DayOfWeek: 요일\n",
    "\n",
    "# PdDistrict: 경찰서 관할 구역명\n",
    "\n",
    "# Resolution: 사건이 어떻게 해결되었는지에 대한 정보\n",
    "\n",
    "# Address: 범죄 사건이 발생한 대략적인 주소\n",
    "\n",
    "# X: 경도 (Longitude)\n",
    "\n",
    "# Y: 위도 (Latitude)"
   ]
  },
  {
   "cell_type": "code",
   "execution_count": 5,
   "id": "cf5df80d",
   "metadata": {},
   "outputs": [],
   "source": [
    "vc = df.Category.value_counts()\n",
    "keep = vc[vc > 6].index\n",
    "df_filtered = df[df.Category.isin(keep)]"
   ]
  },
  {
   "cell_type": "code",
   "execution_count": 6,
   "id": "df1989aa",
   "metadata": {},
   "outputs": [
    {
     "data": {
      "text/plain": [
       "((175608, 2), (175608,))"
      ]
     },
     "execution_count": 6,
     "metadata": {},
     "output_type": "execute_result"
    }
   ],
   "source": [
    "# 데이터 셈플링\n",
    "from sklearn.model_selection import train_test_split\n",
    "X_ = df_filtered.iloc[:,-2:]\n",
    "y_ = df_filtered.Category\n",
    "X,_,y,_ = train_test_split(X_,y_,stratify=y_, train_size=0.2,random_state=50)\n",
    "X.shape, y.shape"
   ]
  },
  {
   "cell_type": "code",
   "execution_count": 11,
   "id": "fe14c43e",
   "metadata": {},
   "outputs": [
    {
     "data": {
      "text/plain": [
       "Category\n",
       "LARCENY/THEFT                  34980\n",
       "OTHER OFFENSES                 25236\n",
       "NON-CRIMINAL                   18461\n",
       "ASSAULT                        15375\n",
       "DRUG/NARCOTIC                  10794\n",
       "VEHICLE THEFT                  10756\n",
       "VANDALISM                       8945\n",
       "WARRANTS                        8443\n",
       "BURGLARY                        7351\n",
       "SUSPICIOUS OCC                  6283\n",
       "MISSING PERSON                  5198\n",
       "ROBBERY                         4600\n",
       "FRAUD                           3336\n",
       "FORGERY/COUNTERFEITING          2122\n",
       "SECONDARY CODES                 1997\n",
       "WEAPON LAWS                     1711\n",
       "PROSTITUTION                    1497\n",
       "TRESPASS                        1465\n",
       "STOLEN PROPERTY                  908\n",
       "SEX OFFENSES FORCIBLE            877\n",
       "DISORDERLY CONDUCT               864\n",
       "DRUNKENNESS                      856\n",
       "RECOVERED VEHICLE                627\n",
       "KIDNAPPING                       468\n",
       "DRIVING UNDER THE INFLUENCE      454\n",
       "RUNAWAY                          389\n",
       "LIQUOR LAWS                      381\n",
       "ARSON                            303\n",
       "LOITERING                        245\n",
       "EMBEZZLEMENT                     233\n",
       "SUICIDE                          102\n",
       "FAMILY OFFENSES                   98\n",
       "BAD CHECKS                        81\n",
       "BRIBERY                           58\n",
       "EXTORTION                         51\n",
       "SEX OFFENSES NON FORCIBLE         30\n",
       "GAMBLING                          29\n",
       "PORNOGRAPHY/OBSCENE MAT            4\n",
       "Name: count, dtype: int64"
      ]
     },
     "execution_count": 11,
     "metadata": {},
     "output_type": "execute_result"
    }
   ],
   "source": [
    "y.value_counts()"
   ]
  },
  {
   "cell_type": "code",
   "execution_count": 12,
   "id": "566e3e95",
   "metadata": {},
   "outputs": [
    {
     "name": "stdout",
     "output_type": "stream",
     "text": [
      "                             precision    recall  f1-score   support\n",
      "\n",
      "                      ARSON       0.00      0.00      0.00        61\n",
      "                    ASSAULT       0.00      0.00      0.00      3075\n",
      "                 BAD CHECKS       0.00      0.00      0.00        16\n",
      "                    BRIBERY       0.00      0.00      0.00        12\n",
      "                   BURGLARY       0.00      0.00      0.00      1470\n",
      "         DISORDERLY CONDUCT       0.00      0.00      0.00       173\n",
      "DRIVING UNDER THE INFLUENCE       0.00      0.00      0.00        91\n",
      "              DRUG/NARCOTIC       0.00      0.00      0.00      2159\n",
      "                DRUNKENNESS       0.00      0.00      0.00       171\n",
      "               EMBEZZLEMENT       0.00      0.00      0.00        47\n",
      "                  EXTORTION       0.00      0.00      0.00        10\n",
      "            FAMILY OFFENSES       0.00      0.00      0.00        20\n",
      "     FORGERY/COUNTERFEITING       0.00      0.00      0.00       424\n",
      "                      FRAUD       0.00      0.00      0.00       667\n",
      "                   GAMBLING       0.00      0.00      0.00         6\n",
      "                 KIDNAPPING       0.00      0.00      0.00        94\n",
      "              LARCENY/THEFT       0.20      1.00      0.33      6996\n",
      "                LIQUOR LAWS       0.00      0.00      0.00        76\n",
      "                  LOITERING       0.00      0.00      0.00        49\n",
      "             MISSING PERSON       0.00      0.00      0.00      1040\n",
      "               NON-CRIMINAL       0.00      0.00      0.00      3692\n",
      "             OTHER OFFENSES       0.00      0.00      0.00      5047\n",
      "    PORNOGRAPHY/OBSCENE MAT       0.00      0.00      0.00         1\n",
      "               PROSTITUTION       0.00      0.00      0.00       299\n",
      "          RECOVERED VEHICLE       0.00      0.00      0.00       125\n",
      "                    ROBBERY       0.00      0.00      0.00       920\n",
      "                    RUNAWAY       0.00      0.00      0.00        78\n",
      "            SECONDARY CODES       0.00      0.00      0.00       399\n",
      "      SEX OFFENSES FORCIBLE       0.00      0.00      0.00       175\n",
      "  SEX OFFENSES NON FORCIBLE       0.00      0.00      0.00         6\n",
      "            STOLEN PROPERTY       0.00      0.00      0.00       182\n",
      "                    SUICIDE       0.00      0.00      0.00        20\n",
      "             SUSPICIOUS OCC       0.00      0.00      0.00      1257\n",
      "                   TRESPASS       0.00      0.00      0.00       293\n",
      "                  VANDALISM       0.00      0.00      0.00      1789\n",
      "              VEHICLE THEFT       0.00      0.00      0.00      2151\n",
      "                   WARRANTS       0.00      0.00      0.00      1689\n",
      "                WEAPON LAWS       0.00      0.00      0.00       342\n",
      "\n",
      "                   accuracy                           0.20     35122\n",
      "                  macro avg       0.01      0.03      0.01     35122\n",
      "               weighted avg       0.04      0.20      0.07     35122\n",
      "\n"
     ]
    },
    {
     "name": "stderr",
     "output_type": "stream",
     "text": [
      "c:\\python_src2\\.venv\\Lib\\site-packages\\sklearn\\metrics\\_classification.py:1731: UndefinedMetricWarning: Precision is ill-defined and being set to 0.0 in labels with no predicted samples. Use `zero_division` parameter to control this behavior.\n",
      "  _warn_prf(average, modifier, f\"{metric.capitalize()} is\", result.shape[0])\n",
      "c:\\python_src2\\.venv\\Lib\\site-packages\\sklearn\\metrics\\_classification.py:1731: UndefinedMetricWarning: Precision is ill-defined and being set to 0.0 in labels with no predicted samples. Use `zero_division` parameter to control this behavior.\n",
      "  _warn_prf(average, modifier, f\"{metric.capitalize()} is\", result.shape[0])\n",
      "c:\\python_src2\\.venv\\Lib\\site-packages\\sklearn\\metrics\\_classification.py:1731: UndefinedMetricWarning: Precision is ill-defined and being set to 0.0 in labels with no predicted samples. Use `zero_division` parameter to control this behavior.\n",
      "  _warn_prf(average, modifier, f\"{metric.capitalize()} is\", result.shape[0])\n"
     ]
    }
   ],
   "source": [
    "# # 8 : 2\n",
    "from sklearn.svm import LinearSVC\n",
    "from sklearn.neighbors import KNeighborsClassifier\n",
    "from sklearn.metrics import classification_report\n",
    "x_train,x_test,y_train,y_test = train_test_split(X,y, stratify=y ,test_size=0.2, random_state=42)\n",
    "\n",
    "svm = LinearSVC()\n",
    "svm.fit(x_train,y_train)\n",
    "y_pred = svm.predict(x_test)\n",
    "print( classification_report(y_test, y_pred) )"
   ]
  }
 ],
 "metadata": {
  "kernelspec": {
   "display_name": ".venv (3.13.7)",
   "language": "python",
   "name": "python3"
  },
  "language_info": {
   "codemirror_mode": {
    "name": "ipython",
    "version": 3
   },
   "file_extension": ".py",
   "mimetype": "text/x-python",
   "name": "python",
   "nbconvert_exporter": "python",
   "pygments_lexer": "ipython3",
   "version": "3.13.7"
  }
 },
 "nbformat": 4,
 "nbformat_minor": 5
}
