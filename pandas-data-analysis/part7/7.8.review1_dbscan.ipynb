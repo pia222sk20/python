{
 "cells": [
  {
   "cell_type": "code",
   "execution_count": null,
   "id": "fde1180f",
   "metadata": {},
   "outputs": [],
   "source": [
    "# DBSCAN  데이터의 밀도를 기반으로 군집을 형성\n",
    "# 데이터가 붐비는 정도를 파악해서 복잡한 모양의 군집을 찾고 노이지를 구분\n",
    "# 군집에 속하지 않는 데이터를 구분하는데 효과적\n",
    "\n",
    "# 입실론  : 개별데이터를 기준으로 반경을 정의해서 그 안에 있는 데이터는 이웃\n",
    "# 최소점 : 하나의 점이 밀집지역의 중심으로 인정받기위해 필요한 최소한의 이웃 데이터 개수(자신을 포함)"
   ]
  }
 ],
 "metadata": {
  "kernelspec": {
   "display_name": ".venv (3.13.7)",
   "language": "python",
   "name": "python3"
  },
  "language_info": {
   "name": "python",
   "version": "3.13.7"
  }
 },
 "nbformat": 4,
 "nbformat_minor": 5
}
