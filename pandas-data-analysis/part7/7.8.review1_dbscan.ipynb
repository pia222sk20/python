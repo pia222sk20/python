{
 "cells": [
  {
   "cell_type": "code",
   "execution_count": null,
   "id": "fde1180f",
   "metadata": {},
   "outputs": [],
   "source": [
    "# DBSCAN  데이터의 밀도를 기반으로 군집을 형성\n",
    "# 데이터가 붐비는 정도를 파악해서 복잡한 모양의 군집을 찾고 노이지를 구분\n",
    "# 군집에 속하지 않는 데이터를 구분하는데 효과적\n",
    "\n",
    "# 입실론  : 개별데이터를 기준으로 반경을 정의해서 그 안에 있는 데이터는 이웃\n",
    "# 최소점 : 하나의 점이 밀집지역의 중심으로 인정받기위해 필요한 최소한의 이웃 데이터 개수(자신을 포함)\n",
    "\n",
    "# 군집형성과정:\n",
    "# 1. 핵심점(core point) : 반경 eps 안에 min_samples 개 이상의 점을 가진 점 \n",
    "# 2. 경계점(Border point) : 핵심점은 아니지만 다른 핵심점의 반경  eps내에 위치한 점\n",
    "# 3. 잡음은.. 어느 클러스터에도 속하지 않은 점  --> out lier  이상치\n",
    "\n",
    "# 장점 : 군집개수가 불필요\n",
    "# 데이터의 밀도가 다르기때문에 원형이 아니고 다양한 모양의 군집도 잘 찾\n",
    "# 노이즈 식별이 잘됨\n",
    "\n",
    "# 데이터의 분포 형태를 모를때, 노이즈가 많을거로 예상될때.... 상권 등..."
   ]
  },
  {
   "cell_type": "code",
   "execution_count": null,
   "id": "611bb770",
   "metadata": {},
   "outputs": [],
   "source": [
    "import numpy as np\n",
    "import matplotlib.pyplot as plt\n",
    "from sklearn.datasets import make_moons\n",
    "from sklearn.cluster import KMeans, DBSCAN"
   ]
  },
  {
   "cell_type": "code",
   "execution_count": null,
   "id": "46d0fe06",
   "metadata": {},
   "outputs": [],
   "source": [
    "# 1. 초승달 모양의 샘플 데이터 생성\n",
    "X, y = make_moons(n_samples=200, noise=0.05, random_state=0)"
   ]
  },
  {
   "cell_type": "code",
   "execution_count": null,
   "id": "51f5027d",
   "metadata": {},
   "outputs": [],
   "source": [
    "# 2. 알고리즘 적용\n",
    "# K-Means (군집 개수 k=2로 지정)\n",
    "kmeans = KMeans(n_clusters=2, random_state=0, n_init=10)\n",
    "kmeans_labels = kmeans.fit_predict(X)"
   ]
  },
  {
   "cell_type": "code",
   "execution_count": null,
   "id": "e8d1b3e9",
   "metadata": {},
   "outputs": [],
   "source": [
    "# DBSCAN 적용\n",
    "dbscan = DBSCAN(eps=0.3, min_samples=5)\n",
    "dbscan_labels = dbscan.fit_predict(X)"
   ]
  },
  {
   "cell_type": "code",
   "execution_count": null,
   "id": "51f4bbaf",
   "metadata": {},
   "outputs": [],
   "source": [
    "# X y 데이터 시각화\n",
    "# 3. 시각화\n",
    "plt.figure(figsize=(12, 4))\n",
    "\n",
    "# 원본 데이터 시각화\n",
    "plt.subplot(1, 3, 1)\n",
    "plt.scatter(X[:, 0], X[:, 1], c=y, cmap='viridis', s=50)\n",
    "plt.title('Original Data')\n",
    "\n",
    "# K-Means 결과 시각화\n",
    "plt.subplot(1, 3, 2)\n",
    "plt.scatter(X[:, 0], X[:, 1], c=kmeans_labels, cmap='viridis', s=50)\n",
    "plt.title('K-Means Clustering')\n",
    "\n",
    "# DBSCAN 결과 시각화\n",
    "plt.subplot(1, 3, 3)\n",
    "plt.scatter(X[:, 0], X[:, 1], c=dbscan_labels, cmap='viridis', s=50)\n",
    "plt.title('DBSCAN Clustering')\n",
    "\n",
    "plt.tight_layout()\n",
    "plt.show()"
   ]
  }
 ],
 "metadata": {
  "kernelspec": {
   "display_name": ".venv (3.13.7)",
   "language": "python",
   "name": "python3"
  },
  "language_info": {
   "name": "python",
   "version": "3.13.7"
  }
 },
 "nbformat": 4,
 "nbformat_minor": 5
}
