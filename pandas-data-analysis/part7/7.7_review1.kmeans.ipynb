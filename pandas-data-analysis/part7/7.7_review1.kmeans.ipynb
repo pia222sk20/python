{
 "cells": [
  {
   "cell_type": "markdown",
   "id": "845c84f1",
   "metadata": {},
   "source": [
    "#### K-Means   k-평균 - 비지도 학습 - 군집(Cluster)\n",
    "```\n",
    "초기 중심점 설정 (Centroid)\n",
    "데이터 할당(Assignment)\n",
    "중심점 업데이트(Update)\n",
    "```"
   ]
  },
  {
   "cell_type": "code",
   "execution_count": null,
   "id": "37c54538",
   "metadata": {},
   "outputs": [],
   "source": [
    "# 6명의 학생 수학 영어점수 2개의 그룹으로 나눈다\n",
    "import matplotlib.pyplot as plt\n",
    "import numpy as np\n",
    "X = np.array([\n",
    "    [1,1],[1,2],[2,1],\n",
    "    [5,4],[5,5],[6,5]\n",
    "])\n",
    "plt.scatter(X[:,0], X[:,1],s=100,color='gray')\n",
    "plt.grid(True)\n",
    "plt.show()"
   ]
  }
 ],
 "metadata": {
  "kernelspec": {
   "display_name": ".venv (3.13.7)",
   "language": "python",
   "name": "python3"
  },
  "language_info": {
   "codemirror_mode": {
    "name": "ipython",
    "version": 3
   },
   "file_extension": ".py",
   "mimetype": "text/x-python",
   "name": "python",
   "nbconvert_exporter": "python",
   "pygments_lexer": "ipython3",
   "version": "3.13.7"
  }
 },
 "nbformat": 4,
 "nbformat_minor": 5
}
