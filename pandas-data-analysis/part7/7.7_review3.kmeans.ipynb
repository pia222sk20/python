{
 "cells": [
  {
   "cell_type": "markdown",
   "id": "845c84f1",
   "metadata": {},
   "source": [
    "#### K-Means   k-평균 - 비지도 학습 - 군집(Cluster)\n",
    "```\n",
    "초기 중심점 설정 (Centroid)\n",
    "데이터 할당(Assignment)\n",
    "중심점 업데이트(Update)\n",
    "```"
   ]
  },
  {
   "cell_type": "markdown",
   "id": "862d3bcd",
   "metadata": {},
   "source": [
    "```\n",
    "CUST_ID\t신용카드 사용자 식별자 (범주형 데이터)\n",
    "BALANCE\t사용자가 구매를 위해 계좌에 남겨놓은 잔액\n",
    "BALANCE_FREQUENCY\t잔액이 얼마나 자주 업데이트되는지를 나타내는 점수 (0 ~ 1 사이, 1에 가까울수록 자주 업데이트됨)\n",
    "PURCHASES\t계좌를 통해 이루어진 총 구매 금액\n",
    "ONEOFF_PURCHASES\t한 번에 이루어진 최대 금액의 구매\n",
    "INSTALLMENTS_PURCHASES\t할부로 이루어진 구매 금액 총합\n",
    "CASH_ADVANCE\t사용자가 받은 선불 현금 금액\n",
    "PURCHASES_FREQUENCY\t얼마나 자주 구매가 이루어졌는지를 나타내는 점수 (0 ~ 1 사이)\n",
    "ONEOFFPURCHASESFREQUENCY\t한 번에 이루어지는 구매의 빈도 (0 ~ 1 사이)\n",
    "PURCHASESINSTALLMENTSFREQUENCY\t할부 구매가 얼마나 자주 이루어졌는지를 나타내는 빈도 점수 (0 ~ 1 사이)\n",
    "CASHADVANCEFREQUENCY\t선불 현금 인출이 얼마나 자주 이루어졌는지 (0 ~ 1 사이)\n",
    "CASHADVANCETRX\t선불 현금 인출 거래 횟수\n",
    "PURCHASES_TRX\t총 구매 거래 횟수\n",
    "CREDIT_LIMIT\t사용자에게 부여된 신용카드 한도\n",
    "PAYMENTS\t사용자가 지불한 총 금액\n",
    "MINIMUM_PAYMENTS\t사용자가 납부한 최소 금액\n",
    "PRCFULLPAYMENT\t전액 결제한 비율 (0 ~ 1 사이)\n",
    "TENURE\t사용자의 신용카드 사용 기간\n",
    "```"
   ]
  },
  {
   "cell_type": "code",
   "execution_count": null,
   "id": "993f7cd4",
   "metadata": {},
   "outputs": [],
   "source": [
    "# 카드사 고객 분석\n"
   ]
  }
 ],
 "metadata": {
  "kernelspec": {
   "display_name": ".venv (3.13.7)",
   "language": "python",
   "name": "python3"
  },
  "language_info": {
   "codemirror_mode": {
    "name": "ipython",
    "version": 3
   },
   "file_extension": ".py",
   "mimetype": "text/x-python",
   "name": "python",
   "nbconvert_exporter": "python",
   "pygments_lexer": "ipython3",
   "version": "3.13.7"
  }
 },
 "nbformat": 4,
 "nbformat_minor": 5
}
