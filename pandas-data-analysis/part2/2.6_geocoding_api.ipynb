{
 "cells": [
  {
   "cell_type": "code",
   "execution_count": 59,
   "metadata": {},
   "outputs": [
    {
     "name": "stdout",
     "output_type": "stream",
     "text": [
      "Requirement already satisfied: dotenv in c:\\python_src\\.venv\\lib\\site-packages (0.9.9)\n",
      "Requirement already satisfied: python-dotenv in c:\\python_src\\.venv\\lib\\site-packages (from dotenv) (1.1.1)\n",
      "Note: you may need to restart the kernel to use updated packages.\n"
     ]
    }
   ],
   "source": [
    "%pip install dotenv"
   ]
  },
  {
   "cell_type": "code",
   "execution_count": 60,
   "metadata": {
    "executionInfo": {
     "elapsed": 2337,
     "status": "ok",
     "timestamp": 1706180950836,
     "user": {
      "displayName": "Steve",
      "userId": "13015281013241816762"
     },
     "user_tz": -540
    },
    "id": "PSJ0UQVYOkXc",
    "tags": []
   },
   "outputs": [],
   "source": [
    "# 라이브러리 가져오기\n",
    "import requests\n",
    "import pandas as pd\n",
    "import os\n",
    "import dotenv"
   ]
  },
  {
   "cell_type": "code",
   "execution_count": 61,
   "metadata": {
    "tags": []
   },
   "outputs": [],
   "source": [
    "dotenv.load_dotenv()\n",
    "my_key = os.getenv('KAKAO_RESTFULL_KEY')"
   ]
  },
  {
   "cell_type": "code",
   "execution_count": 62,
   "metadata": {
    "tags": []
   },
   "outputs": [],
   "source": [
    "# Kakao Map API 통해 위도, 경도 데이터 가져오는 함수를 정의\n",
    "def get_geocoding(place):\n",
    "    try:\n",
    "        url = f\"https://dapi.kakao.com/v2/local/search/address\"\n",
    "        headers = {\"Authorization\": f\"KakaoAK {my_key}\"}\n",
    "        params = {\n",
    "            'query' : place\n",
    "        }\n",
    "        response = requests.get(url, headers=headers,params=params)\n",
    "        result = response.json()\n",
    "        if result[\"documents\"]:\n",
    "            return result[\"documents\"][0][\"y\"], result[\"documents\"][0][\"x\"]\n",
    "        else:\n",
    "            return None,None\n",
    "    except:\n",
    "        return None,None"
   ]
  },
  {
   "cell_type": "code",
   "execution_count": 73,
   "metadata": {},
   "outputs": [
    {
     "data": {
      "text/plain": [
       "{'documents': [],\n",
       " 'meta': {'is_end': True, 'pageable_count': 0, 'total_count': 0}}"
      ]
     },
     "execution_count": 73,
     "metadata": {},
     "output_type": "execute_result"
    }
   ],
   "source": [
    "url = f\"https://dapi.kakao.com/v2/local/search/address\"\n",
    "headers = {\"Authorization\": f\"KakaoAK {my_key}\"}\n",
    "params = {\n",
    "    'query' : '서울특별시 종로구 상하동'\n",
    "}\n",
    "response = requests.get(url, headers=headers,params=params)\n",
    "result = response.json()\n",
    "result"
   ]
  },
  {
   "cell_type": "code",
   "execution_count": 63,
   "metadata": {
    "tags": []
   },
   "outputs": [
    {
     "name": "stdout",
     "output_type": "stream",
     "text": [
      "1 서울특별시 종로구 세종대로 175\n",
      "2 서울특별시 서초구 서초동 700\n",
      "3 부산광역시 해운대구 해운대해변로 264\n"
     ]
    },
    {
     "data": {
      "text/html": [
       "<div>\n",
       "<style scoped>\n",
       "    .dataframe tbody tr th:only-of-type {\n",
       "        vertical-align: middle;\n",
       "    }\n",
       "\n",
       "    .dataframe tbody tr th {\n",
       "        vertical-align: top;\n",
       "    }\n",
       "\n",
       "    .dataframe thead th {\n",
       "        text-align: right;\n",
       "    }\n",
       "</style>\n",
       "<table border=\"1\" class=\"dataframe\">\n",
       "  <thead>\n",
       "    <tr style=\"text-align: right;\">\n",
       "      <th></th>\n",
       "      <th>위도</th>\n",
       "      <th>경도</th>\n",
       "    </tr>\n",
       "  </thead>\n",
       "  <tbody>\n",
       "    <tr>\n",
       "      <th>서울특별시 종로구 세종대로 175</th>\n",
       "      <td>37.5718478584908</td>\n",
       "      <td>126.976168275947</td>\n",
       "    </tr>\n",
       "    <tr>\n",
       "      <th>서울특별시 서초구 서초동 700</th>\n",
       "      <td>37.4810862955299</td>\n",
       "      <td>127.015245160054</td>\n",
       "    </tr>\n",
       "    <tr>\n",
       "      <th>부산광역시 해운대구 해운대해변로 264</th>\n",
       "      <td>35.1591069824231</td>\n",
       "      <td>129.160283786856</td>\n",
       "    </tr>\n",
       "  </tbody>\n",
       "</table>\n",
       "</div>"
      ],
      "text/plain": [
       "                                     위도                경도\n",
       "서울특별시 종로구 세종대로 175     37.5718478584908  126.976168275947\n",
       "서울특별시 서초구 서초동 700      37.4810862955299  127.015245160054\n",
       "부산광역시 해운대구 해운대해변로 264  35.1591069824231  129.160283786856"
      ]
     },
     "execution_count": 63,
     "metadata": {},
     "output_type": "execute_result"
    }
   ],
   "source": [
    "lat = []  #위도\n",
    "lng = []  #경도\n",
    "\n",
    "# 장소(주소) 리스트\n",
    "places = [\"서울특별시 종로구 세종대로 175\", \n",
    "          \"서울특별시 서초구 서초동 700\", \n",
    "          \"부산광역시 해운대구 해운대해변로 264\"]\n",
    "\n",
    "i=0\n",
    "for place in places:   \n",
    "    i = i + 1\n",
    "    try:\n",
    "        print(i, place)\n",
    "        # get_geocoding 함수의 리턴값 호출하여 geo_location 변수에 저장\n",
    "        place_lat, place_lon = get_geocoding(place)\n",
    "        lat.append(place_lat)\n",
    "        lng.append(place_lon)\n",
    "        \n",
    "    except:\n",
    "        lat.append('')\n",
    "        lng.append('')\n",
    "\n",
    "# 데이터프레임으로 변환하기\n",
    "df = pd.DataFrame({'위도':lat, '경도':lng}, index=places)\n",
    "\n",
    "df"
   ]
  },
  {
   "cell_type": "code",
   "execution_count": 64,
   "metadata": {},
   "outputs": [
    {
     "data": {
      "text/html": [
       "<div>\n",
       "<style scoped>\n",
       "    .dataframe tbody tr th:only-of-type {\n",
       "        vertical-align: middle;\n",
       "    }\n",
       "\n",
       "    .dataframe tbody tr th {\n",
       "        vertical-align: top;\n",
       "    }\n",
       "\n",
       "    .dataframe thead th {\n",
       "        text-align: right;\n",
       "    }\n",
       "</style>\n",
       "<table border=\"1\" class=\"dataframe\">\n",
       "  <thead>\n",
       "    <tr style=\"text-align: right;\">\n",
       "      <th></th>\n",
       "      <th>상호명</th>\n",
       "      <th>도로명주소</th>\n",
       "    </tr>\n",
       "  </thead>\n",
       "  <tbody>\n",
       "    <tr>\n",
       "      <th>0</th>\n",
       "      <td>하나산부인과</td>\n",
       "      <td>경기도 안산시 단원구 달미로 10</td>\n",
       "    </tr>\n",
       "    <tr>\n",
       "      <th>1</th>\n",
       "      <td>타워광명내과의원</td>\n",
       "      <td>서울특별시 강남구 언주로30길 39</td>\n",
       "    </tr>\n",
       "    <tr>\n",
       "      <th>2</th>\n",
       "      <td>조정현신경외과의원</td>\n",
       "      <td>경기도 시흥시 중심상가로 178</td>\n",
       "    </tr>\n",
       "    <tr>\n",
       "      <th>3</th>\n",
       "      <td>한귀원정신과의원</td>\n",
       "      <td>부산광역시 수영구 수영로 688</td>\n",
       "    </tr>\n",
       "    <tr>\n",
       "      <th>4</th>\n",
       "      <td>더블유스토어수지점</td>\n",
       "      <td>경기도 용인시 수지구 문정로 32</td>\n",
       "    </tr>\n",
       "  </tbody>\n",
       "</table>\n",
       "</div>"
      ],
      "text/plain": [
       "         상호명                도로명주소\n",
       "0     하나산부인과   경기도 안산시 단원구 달미로 10\n",
       "1   타워광명내과의원  서울특별시 강남구 언주로30길 39\n",
       "2  조정현신경외과의원    경기도 시흥시 중심상가로 178\n",
       "3   한귀원정신과의원    부산광역시 수영구 수영로 688\n",
       "4  더블유스토어수지점   경기도 용인시 수지구 문정로 32"
      ]
     },
     "execution_count": 64,
     "metadata": {},
     "output_type": "execute_result"
    }
   ],
   "source": [
    "df = pd.read_csv('https://raw.githubusercontent.com/pia222sk20/python/main/data/sample.csv'\n",
    "                 ,encoding='cp949')\n",
    "df_simple = df.loc[:,['상호명','도로명주소']]\n",
    "df_simple.head()"
   ]
  },
  {
   "cell_type": "code",
   "execution_count": 65,
   "metadata": {},
   "outputs": [
    {
     "data": {
      "text/plain": [
       "RangeIndex(start=0, stop=91335, step=1)"
      ]
     },
     "execution_count": 65,
     "metadata": {},
     "output_type": "execute_result"
    }
   ],
   "source": [
    "#위도 경고를 추가  apply\n",
    "# df_simple['위경도'] = df_simple['도로명주소'].apply(lambda x : get_geocoding(x))\n",
    "df_simple['도로명주소'].index"
   ]
  },
  {
   "cell_type": "code",
   "execution_count": 66,
   "metadata": {},
   "outputs": [
    {
     "data": {
      "text/plain": [
       "[19252, 52166, 66250, 73379, 22156, 78011, 64324, 79414, 15360, 86921]"
      ]
     },
     "execution_count": 66,
     "metadata": {},
     "output_type": "execute_result"
    }
   ],
   "source": [
    "import random\n",
    "radom_index = random.sample(range(91335),50)\n",
    "radom_index[:10]"
   ]
  },
  {
   "cell_type": "code",
   "execution_count": null,
   "metadata": {},
   "outputs": [],
   "source": [
    "df_simple = df_simple.dropna()  # 데이터 중에서 None 또는 NaN 없는 데이터 row를 삭제"
   ]
  },
  {
   "cell_type": "code",
   "execution_count": 68,
   "metadata": {},
   "outputs": [
    {
     "data": {
      "text/plain": [
       "[('35.8425738690814', '127.140054344904'),\n",
       " ('37.8687445127498', '127.714867915848'),\n",
       " ('37.4050705280976', '126.909517658269'),\n",
       " ('34.9553665923882', '127.692842356847'),\n",
       " ('36.8335382459996', '127.137145348787'),\n",
       " ('37.5686335795096', '127.184751315964'),\n",
       " ('37.6509740519626', '127.142176639613'),\n",
       " ('35.1765258048493', '129.085439791267'),\n",
       " ('37.5101663829521', '127.11797580084'),\n",
       " ('34.9569538715888', '127.483864759802')]"
      ]
     },
     "execution_count": 68,
     "metadata": {},
     "output_type": "execute_result"
    }
   ],
   "source": [
    "df_simple_50 =  df_simple.iloc[radom_index]\n",
    "results = [ get_geocoding(addr) for addr in df_simple_50['도로명주소'].values]\n",
    "results[:10]"
   ]
  },
  {
   "cell_type": "code",
   "execution_count": 69,
   "metadata": {},
   "outputs": [
    {
     "name": "stderr",
     "output_type": "stream",
     "text": [
      "C:\\Users\\playdata2\\AppData\\Local\\Temp\\ipykernel_13380\\497364495.py:1: SettingWithCopyWarning: \n",
      "A value is trying to be set on a copy of a slice from a DataFrame.\n",
      "Try using .loc[row_indexer,col_indexer] = value instead\n",
      "\n",
      "See the caveats in the documentation: https://pandas.pydata.org/pandas-docs/stable/user_guide/indexing.html#returning-a-view-versus-a-copy\n",
      "  df_simple_50.loc[:,'위도'], df_simple_50.loc[:,'경도'] = zip(*results)\n",
      "C:\\Users\\playdata2\\AppData\\Local\\Temp\\ipykernel_13380\\497364495.py:1: SettingWithCopyWarning: \n",
      "A value is trying to be set on a copy of a slice from a DataFrame.\n",
      "Try using .loc[row_indexer,col_indexer] = value instead\n",
      "\n",
      "See the caveats in the documentation: https://pandas.pydata.org/pandas-docs/stable/user_guide/indexing.html#returning-a-view-versus-a-copy\n",
      "  df_simple_50.loc[:,'위도'], df_simple_50.loc[:,'경도'] = zip(*results)\n"
     ]
    }
   ],
   "source": [
    "df_simple_50.loc[:,'위도'], df_simple_50.loc[:,'경도'] = zip(*results)"
   ]
  },
  {
   "cell_type": "code",
   "execution_count": 70,
   "metadata": {},
   "outputs": [
    {
     "data": {
      "text/html": [
       "<div>\n",
       "<style scoped>\n",
       "    .dataframe tbody tr th:only-of-type {\n",
       "        vertical-align: middle;\n",
       "    }\n",
       "\n",
       "    .dataframe tbody tr th {\n",
       "        vertical-align: top;\n",
       "    }\n",
       "\n",
       "    .dataframe thead th {\n",
       "        text-align: right;\n",
       "    }\n",
       "</style>\n",
       "<table border=\"1\" class=\"dataframe\">\n",
       "  <thead>\n",
       "    <tr style=\"text-align: right;\">\n",
       "      <th></th>\n",
       "      <th>상호명</th>\n",
       "      <th>도로명주소</th>\n",
       "      <th>위도</th>\n",
       "      <th>경도</th>\n",
       "    </tr>\n",
       "  </thead>\n",
       "  <tbody>\n",
       "    <tr>\n",
       "      <th>19252</th>\n",
       "      <td>고려마취통증의학과의원</td>\n",
       "      <td>전라북도 전주시 덕진구 백제대로 646</td>\n",
       "      <td>35.8425738690814</td>\n",
       "      <td>127.140054344904</td>\n",
       "    </tr>\n",
       "    <tr>\n",
       "      <th>52166</th>\n",
       "      <td>백세약국</td>\n",
       "      <td>강원도 춘천시 스포츠타운길 530</td>\n",
       "      <td>37.8687445127498</td>\n",
       "      <td>127.714867915848</td>\n",
       "    </tr>\n",
       "    <tr>\n",
       "      <th>66250</th>\n",
       "      <td>정한의원</td>\n",
       "      <td>경기도 안양시 만안구 양화로136번길 5</td>\n",
       "      <td>37.4050705280976</td>\n",
       "      <td>126.909517658269</td>\n",
       "    </tr>\n",
       "    <tr>\n",
       "      <th>73379</th>\n",
       "      <td>w-store광양서울약국</td>\n",
       "      <td>전라남도 광양시 진등6길 51</td>\n",
       "      <td>34.9553665923882</td>\n",
       "      <td>127.692842356847</td>\n",
       "    </tr>\n",
       "    <tr>\n",
       "      <th>22156</th>\n",
       "      <td>수의원</td>\n",
       "      <td>충청남도 천안시 서북구 원두정3길 37</td>\n",
       "      <td>36.8335382459996</td>\n",
       "      <td>127.137145348787</td>\n",
       "    </tr>\n",
       "  </tbody>\n",
       "</table>\n",
       "</div>"
      ],
      "text/plain": [
       "                 상호명                   도로명주소                위도  \\\n",
       "19252    고려마취통증의학과의원   전라북도 전주시 덕진구 백제대로 646  35.8425738690814   \n",
       "52166           백세약국      강원도 춘천시 스포츠타운길 530  37.8687445127498   \n",
       "66250           정한의원  경기도 안양시 만안구 양화로136번길 5  37.4050705280976   \n",
       "73379  w-store광양서울약국        전라남도 광양시 진등6길 51  34.9553665923882   \n",
       "22156            수의원   충청남도 천안시 서북구 원두정3길 37  36.8335382459996   \n",
       "\n",
       "                     경도  \n",
       "19252  127.140054344904  \n",
       "52166  127.714867915848  \n",
       "66250  126.909517658269  \n",
       "73379  127.692842356847  \n",
       "22156  127.137145348787  "
      ]
     },
     "execution_count": 70,
     "metadata": {},
     "output_type": "execute_result"
    }
   ],
   "source": [
    "df_simple_50.head()"
   ]
  },
  {
   "cell_type": "code",
   "execution_count": null,
   "metadata": {},
   "outputs": [],
   "source": [
    "# 지도\n",
    "%pip install folium"
   ]
  },
  {
   "cell_type": "code",
   "execution_count": 82,
   "metadata": {},
   "outputs": [
    {
     "name": "stdout",
     "output_type": "stream",
     "text": [
      "상호명\n",
      "도로명주소\n",
      "위도\n",
      "경도\n"
     ]
    }
   ],
   "source": [
    "for i in df_simple_50:\n",
    "    print(i)    "
   ]
  },
  {
   "cell_type": "code",
   "execution_count": 87,
   "metadata": {},
   "outputs": [
    {
     "name": "stdout",
     "output_type": "stream",
     "text": [
      "19252 35.8425738690814 127.140054344904\n"
     ]
    }
   ],
   "source": [
    "for idx, row in df_simple_50.iterrows():\n",
    "    print(idx, row['위도'], row['경도'])\n",
    "    break"
   ]
  },
  {
   "cell_type": "code",
   "execution_count": 89,
   "metadata": {},
   "outputs": [],
   "source": [
    "import folium\n",
    "\n",
    "m = folium.Map(location=(35.8425738690814, 127.140054344904))  # 최초지도 로드할때. 중심좌표\n",
    "for idx, row in df_simple_50.iterrows():\n",
    "    folium.Marker(\n",
    "        location=[ row['위도'], row['경도'] ],\n",
    "        popup=row['상호명'],\n",
    "        tooltip=row['상호명'][-2:]\n",
    "    ).add_to(m)    \n",
    "\n",
    "m.save('map.html')"
   ]
  },
  {
   "cell_type": "code",
   "execution_count": null,
   "metadata": {},
   "outputs": [],
   "source": []
  }
 ],
 "metadata": {
  "colab": {
   "authorship_tag": "ABX9TyMmPDgPDlEQ9VJpxhthoipr",
   "provenance": []
  },
  "kernelspec": {
   "display_name": ".venv (3.13.7)",
   "language": "python",
   "name": "python3"
  },
  "language_info": {
   "codemirror_mode": {
    "name": "ipython",
    "version": 3
   },
   "file_extension": ".py",
   "mimetype": "text/x-python",
   "name": "python",
   "nbconvert_exporter": "python",
   "pygments_lexer": "ipython3",
   "version": "3.13.7"
  }
 },
 "nbformat": 4,
 "nbformat_minor": 4
}
