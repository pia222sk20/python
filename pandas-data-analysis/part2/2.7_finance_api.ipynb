{
 "cells": [
  {
   "cell_type": "code",
   "execution_count": null,
   "metadata": {
    "executionInfo": {
     "elapsed": 2337,
     "status": "ok",
     "timestamp": 1706180950836,
     "user": {
      "displayName": "Steve",
      "userId": "13015281013241816762"
     },
     "user_tz": -540
    },
    "id": "PSJ0UQVYOkXc",
    "tags": []
   },
   "outputs": [],
   "source": [
    "# 라이브러리 가져오기 \n",
    "import requests\n",
    "import pandas as pd\n",
    "\n",
    "my_key = \"----발급받은 API 키를 입력-----\"\n",
    "\n",
    "# 특정 종목(stockCode)의 재무항목(indicatorName) 데이터를 가져오는 함수를 정의\n",
    "def get_financials(stockCode, indicatorName, apiKey, consolidated=True, ttm=True):\n",
    "    \n",
    "    if consolidated:   # 연결 기준\n",
    "        if ttm:        # Trailing 12 Months (12개월 누적)\n",
    "            url = f\"https://api.dapada.io/company/getConsolidatedFinancialDataByTTM?apiKey={apiKey}&indicatorName={indicatorName}&stockCode={stockCode}\"            \n",
    "        else:          # 해당 분기 기준 (3개월 집계)\n",
    "            url = f\"https://api.dapada.io/company/getConsolidatedFinancialDataByCUR?apiKey={apiKey}&indicatorName={indicatorName}&stockCode={stockCode}\"       \n",
    "            \n",
    "    else:              # 별도 기준\n",
    "        if ttm:        # Trailing 12 Months (12개월 누적)\n",
    "            url = f\"https://api.dapada.io/company/getSeparatedFinancialDataByTTM?apiKey={apiKey}&indicatorName={indicatorName}&stockCode={stockCode}\"            \n",
    "        else:          # 해당 분기 기준 (3개월 집계)\n",
    "            url = f\"https://api.dapada.io/company/getSeparatedFinancialDataByCUR?apiKey={apiKey}&indicatorName={indicatorName}&stockCode={stockCode}\"       \n",
    "           \n",
    "    headers = {\"apiKey\": f\"{apiKey}\"}\n",
    "    response = requests.get(url, headers=headers)\n",
    "    result = response.json()\n",
    "    return pd.DataFrame(result)"
   ]
  },
  {
   "cell_type": "code",
   "execution_count": null,
   "metadata": {
    "tags": []
   },
   "outputs": [],
   "source": [
    "# 삼성전자(005930)의 연결 재무제표 (TTM 기준)에서 \"매출액\" 항목의 데이터 수집\n",
    "df_ttm_consolidated = get_financials(stockCode='005930', \n",
    "                                     indicatorName='매출액', \n",
    "                                     apiKey=my_key, \n",
    "                                     consolidated=True, \n",
    "                                     ttm=True)\n",
    "\n",
    "df_ttm_consolidated"
   ]
  },
  {
   "cell_type": "code",
   "execution_count": null,
   "metadata": {
    "tags": []
   },
   "outputs": [],
   "source": [
    "# 삼성전자(005930)의 연결 재무제표 (분기 기준)에서 \"매출액\" 항목의 데이터 수집\n",
    "df_cur_consolidated = get_financials(stockCode='005930', \n",
    "                                     indicatorName='매출액', \n",
    "                                     apiKey=my_key, \n",
    "                                     consolidated=True, \n",
    "                                     ttm=False)\n",
    "\n",
    "df_cur_consolidated"
   ]
  },
  {
   "cell_type": "code",
   "execution_count": null,
   "metadata": {
    "tags": []
   },
   "outputs": [],
   "source": [
    "# CSV 파일로 저장\n",
    "df_cur_consolidated.to_csv(\"./data/삼성전자_분기별_매출액.csv\", index=False)"
   ]
  },
  {
   "cell_type": "markdown",
   "metadata": {},
   "source": [
    "금융감독원 OPEN DART"
   ]
  },
  {
   "cell_type": "code",
   "execution_count": null,
   "metadata": {},
   "outputs": [],
   "source": [
    "import requests\n",
    "import dotenv\n",
    "import os\n",
    "dotenv.load_dotenv()\n",
    "key = os.getenv('OPEN_DART_KEY')\n",
    "print(len(key))\n",
    "url = 'https://opendart.fss.or.kr/api/list.json'\n",
    "params = {\n",
    "    'crtfc_key' : key,\n",
    "    'page_count' : 100\n",
    "}\n",
    "\n",
    "response = requests.get(url,params=params)\n",
    "if response.status_code == 200:  # 통신성공\n",
    "    print(response.json())\n",
    "else:\n",
    "    print(\"통신오류\")"
   ]
  },
  {
   "cell_type": "code",
   "execution_count": null,
   "metadata": {},
   "outputs": [],
   "source": [
    "response.json()['list']"
   ]
  },
  {
   "cell_type": "code",
   "execution_count": null,
   "metadata": {},
   "outputs": [],
   "source": [
    "import requests\n",
    "import dotenv\n",
    "import os\n",
    "dotenv.load_dotenv()\n",
    "key = os.getenv('OPEN_DART_KEY')\n",
    "print(len(key))\n",
    "url = 'https://opendart.fss.or.kr/api/corpCode.xml'\n",
    "params = {\n",
    "    'crtfc_key' : key,    \n",
    "}\n",
    "\n",
    "response = requests.get(url,params=params)\n",
    "response"
   ]
  },
  {
   "cell_type": "code",
   "execution_count": null,
   "metadata": {},
   "outputs": [],
   "source": [
    "response.content"
   ]
  },
  {
   "cell_type": "code",
   "execution_count": null,
   "metadata": {},
   "outputs": [],
   "source": [
    "with open('code.zip','wb') as f:\n",
    "    f.write(response.content)"
   ]
  },
  {
   "cell_type": "code",
   "execution_count": null,
   "metadata": {},
   "outputs": [],
   "source": [
    "import pandas as pd\n",
    "pd.read_xml(\"C:/python_src/pandas-data-analysis/part2/code/CORPCODE.xml\")"
   ]
  }
 ],
 "metadata": {
  "colab": {
   "authorship_tag": "ABX9TyMmPDgPDlEQ9VJpxhthoipr",
   "provenance": []
  },
  "kernelspec": {
   "display_name": ".venv (3.13.7)",
   "language": "python",
   "name": "python3"
  },
  "language_info": {
   "codemirror_mode": {
    "name": "ipython",
    "version": 3
   },
   "file_extension": ".py",
   "mimetype": "text/x-python",
   "name": "python",
   "nbconvert_exporter": "python",
   "pygments_lexer": "ipython3",
   "version": "3.13.7"
  }
 },
 "nbformat": 4,
 "nbformat_minor": 4
}
