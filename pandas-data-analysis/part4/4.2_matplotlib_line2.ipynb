{
 "cells": [
  {
   "cell_type": "code",
   "execution_count": 64,
   "id": "2522c4cf",
   "metadata": {},
   "outputs": [
    {
     "name": "stdout",
     "output_type": "stream",
     "text": [
      "결측치 확인(isna)\n",
      "       A      B      C\n",
      "0  False  False  False\n",
      "1  False   True  False\n",
      "2   True   True  False\n",
      "3  False  False  False\n",
      "열별 결측치 개수 확인\n",
      "A    1\n",
      "B    2\n",
      "C    0\n",
      "dtype: int64\n",
      "info\n",
      "<class 'pandas.core.frame.DataFrame'>\n",
      "RangeIndex: 4 entries, 0 to 3\n",
      "Data columns (total 3 columns):\n",
      " #   Column  Non-Null Count  Dtype  \n",
      "---  ------  --------------  -----  \n",
      " 0   A       3 non-null      float64\n",
      " 1   B       2 non-null      float64\n",
      " 2   C       4 non-null      int64  \n",
      "dtypes: float64(2), int64(1)\n",
      "memory usage: 228.0 bytes\n"
     ]
    }
   ],
   "source": [
    "# 결측치 : 다양한 이유로 불완전한 데이터 - 누락  None NaN\n",
    "import pandas as pd\n",
    "import numpy as np\n",
    "# [1,2,3 ] + [1,2,3 ]\n",
    "# [1,2,3]*5\n",
    "# np.array( [1,2,3 ]) + np.array( [1,2,3 ])\n",
    "# np.array( [1,2,3 ])*3\n",
    "df = pd.DataFrame({\n",
    "    'A' : [1,2,np.nan,4],\n",
    "    'B' : [5,np.nan,np.nan,8],\n",
    "    'C' : [9,10,11,12],\n",
    "})\n",
    "print('결측치 확인(isna)')\n",
    "print(df.isna())\n",
    "print('열별 결측치 개수 확인')\n",
    "print(df.isna().sum())\n",
    "print('info')\n",
    "df.info()"
   ]
  },
  {
   "cell_type": "code",
   "execution_count": 65,
   "id": "9ea3e534",
   "metadata": {},
   "outputs": [
    {
     "data": {
      "text/html": [
       "<div>\n",
       "<style scoped>\n",
       "    .dataframe tbody tr th:only-of-type {\n",
       "        vertical-align: middle;\n",
       "    }\n",
       "\n",
       "    .dataframe tbody tr th {\n",
       "        vertical-align: top;\n",
       "    }\n",
       "\n",
       "    .dataframe thead th {\n",
       "        text-align: right;\n",
       "    }\n",
       "</style>\n",
       "<table border=\"1\" class=\"dataframe\">\n",
       "  <thead>\n",
       "    <tr style=\"text-align: right;\">\n",
       "      <th></th>\n",
       "      <th>A</th>\n",
       "      <th>B</th>\n",
       "      <th>C</th>\n",
       "    </tr>\n",
       "  </thead>\n",
       "  <tbody>\n",
       "    <tr>\n",
       "      <th>0</th>\n",
       "      <td>1.0</td>\n",
       "      <td>5.0</td>\n",
       "      <td>9</td>\n",
       "    </tr>\n",
       "    <tr>\n",
       "      <th>1</th>\n",
       "      <td>2.0</td>\n",
       "      <td>NaN</td>\n",
       "      <td>10</td>\n",
       "    </tr>\n",
       "    <tr>\n",
       "      <th>3</th>\n",
       "      <td>4.0</td>\n",
       "      <td>8.0</td>\n",
       "      <td>12</td>\n",
       "    </tr>\n",
       "  </tbody>\n",
       "</table>\n",
       "</div>"
      ],
      "text/plain": [
       "     A    B   C\n",
       "0  1.0  5.0   9\n",
       "1  2.0  NaN  10\n",
       "3  4.0  8.0  12"
      ]
     },
     "execution_count": 65,
     "metadata": {},
     "output_type": "execute_result"
    }
   ],
   "source": [
    "# 결측치 제거\n",
    "# dropna() 결측치가 포함된 행 또는 열을 제거 axis = 0 기본값/ how='any'  행을제거   axis=1 열을 제거\n",
    "# how = 'all' 모든 값이 결측치일때 삭제  thresh  : 지정한 개수이상의 비결측치값이 있는 행 , 열을 유지\n",
    "\n",
    "df.dropna()\n",
    "df.dropna(axis=1)\n",
    "df.dropna(how='all')\n",
    "df.dropna(thresh=2)   # 정상데이터가 2개이상인 행만 유지"
   ]
  },
  {
   "cell_type": "code",
   "execution_count": 66,
   "id": "9e40ecc2",
   "metadata": {},
   "outputs": [
    {
     "name": "stdout",
     "output_type": "stream",
     "text": [
      "각 컬럼의 평균값 \n",
      "A     2.333333\n",
      "B     6.500000\n",
      "C    10.500000\n",
      "dtype: float64\n"
     ]
    },
    {
     "name": "stderr",
     "output_type": "stream",
     "text": [
      "C:\\Users\\playdata2\\AppData\\Local\\Temp\\ipykernel_10360\\2379648566.py:7: FutureWarning: DataFrame.fillna with 'method' is deprecated and will raise in a future version. Use obj.ffill() or obj.bfill() instead.\n",
      "  df.fillna(method='ffill') # bfill\n"
     ]
    },
    {
     "data": {
      "text/html": [
       "<div>\n",
       "<style scoped>\n",
       "    .dataframe tbody tr th:only-of-type {\n",
       "        vertical-align: middle;\n",
       "    }\n",
       "\n",
       "    .dataframe tbody tr th {\n",
       "        vertical-align: top;\n",
       "    }\n",
       "\n",
       "    .dataframe thead th {\n",
       "        text-align: right;\n",
       "    }\n",
       "</style>\n",
       "<table border=\"1\" class=\"dataframe\">\n",
       "  <thead>\n",
       "    <tr style=\"text-align: right;\">\n",
       "      <th></th>\n",
       "      <th>A</th>\n",
       "      <th>B</th>\n",
       "      <th>C</th>\n",
       "    </tr>\n",
       "  </thead>\n",
       "  <tbody>\n",
       "    <tr>\n",
       "      <th>0</th>\n",
       "      <td>1.0</td>\n",
       "      <td>5.0</td>\n",
       "      <td>9</td>\n",
       "    </tr>\n",
       "    <tr>\n",
       "      <th>1</th>\n",
       "      <td>2.0</td>\n",
       "      <td>5.0</td>\n",
       "      <td>10</td>\n",
       "    </tr>\n",
       "    <tr>\n",
       "      <th>2</th>\n",
       "      <td>2.0</td>\n",
       "      <td>5.0</td>\n",
       "      <td>11</td>\n",
       "    </tr>\n",
       "    <tr>\n",
       "      <th>3</th>\n",
       "      <td>4.0</td>\n",
       "      <td>8.0</td>\n",
       "      <td>12</td>\n",
       "    </tr>\n",
       "  </tbody>\n",
       "</table>\n",
       "</div>"
      ],
      "text/plain": [
       "     A    B   C\n",
       "0  1.0  5.0   9\n",
       "1  2.0  5.0  10\n",
       "2  2.0  5.0  11\n",
       "3  4.0  8.0  12"
      ]
     },
     "execution_count": 66,
     "metadata": {},
     "output_type": "execute_result"
    }
   ],
   "source": [
    "# 결측치 대처\n",
    "# fillna() : 특정값으로 채움\n",
    "df.fillna(0)\n",
    "print(f'각 컬럼의 평균값 \\n{df.mean()}')\n",
    "df.fillna(df.mean())  #df.max() df.min()\n",
    "# 수치데이터가 아닌 object형은  df.mode() 최빈값\n",
    "df.fillna(method='ffill') # bfill"
   ]
  },
  {
   "cell_type": "code",
   "execution_count": 67,
   "id": "a69693ff",
   "metadata": {},
   "outputs": [
    {
     "name": "stdout",
     "output_type": "stream",
     "text": [
      "     A\n",
      "0  1.0\n",
      "1  NaN\n",
      "2  3.0\n",
      "3  NaN\n",
      "4  NaN\n",
      "5  6.0\n",
      "0    1.0\n",
      "1    1.0\n",
      "2    3.0\n",
      "3    3.0\n",
      "4    3.0\n",
      "5    6.0\n",
      "Name: A, dtype: float64\n",
      "0    1.0\n",
      "1    3.0\n",
      "2    3.0\n",
      "3    6.0\n",
      "4    6.0\n",
      "5    6.0\n",
      "Name: A, dtype: float64\n"
     ]
    }
   ],
   "source": [
    "df = pd.DataFrame({\n",
    "    'A' : [1,np.nan,3,np.nan,np.nan,6]\n",
    "})\n",
    "print(df)\n",
    "print(df['A'].ffill())\n",
    "print(df['A'].bfill())"
   ]
  },
  {
   "cell_type": "code",
   "execution_count": 68,
   "id": "919dfaa2",
   "metadata": {},
   "outputs": [],
   "source": [
    "# 보간법 interpolation  결측치 주변값들을 기반으로 한 선형적인 값으로 채움 - 주로 x축이 시계열 데이터일때 추세를 반영\n",
    "# 머신러닝 기반 : knn, randomforest  등등...svn.."
   ]
  },
  {
   "cell_type": "code",
   "execution_count": 69,
   "id": "2d7c937d",
   "metadata": {},
   "outputs": [
    {
     "data": {
      "text/plain": [
       "0    1.0\n",
       "1    2.0\n",
       "2    3.0\n",
       "3    4.0\n",
       "4    5.5\n",
       "5    7.0\n",
       "Name: A, dtype: float64"
      ]
     },
     "execution_count": 69,
     "metadata": {},
     "output_type": "execute_result"
    }
   ],
   "source": [
    "df = pd.DataFrame({\n",
    "    'A' : [1,2,np.nan,4,np.nan,7]\n",
    "})\n",
    "df['A'].interpolate()\n",
    "# df['A'].fillna(df['A'].mean())"
   ]
  },
  {
   "cell_type": "code",
   "execution_count": 79,
   "id": "4f9f7670",
   "metadata": {},
   "outputs": [],
   "source": [
    "import matplotlib.pyplot as plt\n",
    "\n",
    "# matplotlib 한글 폰트 오류 문제 해결\n",
    "from matplotlib import font_manager, rc\n",
    "# font_path = \"./data/malgun.ttf\"   #폰트파일의 위치\n",
    "font_path = 'C:/Windows/Fonts/gulim.ttc'\n",
    "font_name = font_manager.FontProperties(fname=font_path).get_name()\n",
    "rc('font', family=font_name)"
   ]
  },
  {
   "cell_type": "code",
   "execution_count": 80,
   "id": "bb12202f-d4dd-41d5-b8bd-f4c78b69b0f9",
   "metadata": {
    "tags": []
   },
   "outputs": [
    {
     "data": {
      "image/png": "[encoded data removed]",
      "text/plain": [
       "<Figure size 1200x500 with 1 Axes>"
      ]
     },
     "metadata": {},
     "output_type": "display_data"
    }
   ],
   "source": [
    "# 라이브러리 불러오기\n",
    "import pandas as pd\n",
    "import matplotlib.pyplot as plt\n",
    "\n",
    "# Excel 데이터를 데이터프레임 변환 \n",
    "df = pd.read_excel('./data/시도별_전출입_인구수.xlsx')\n",
    "\n",
    "# 누락값(NaN)을 앞 데이터로 채움 (엑셀 양식 병합 부분)\n",
    "df = df.ffill()\n",
    "\n",
    "# 서울에서 다른 지역으로 이동한 데이터만 추출하여 정리\n",
    "mask = (df['전출지별'] == '서울특별시') & (df['전입지별'] != '서울특별시') \n",
    "df_seoul = df[mask]\n",
    "df_seoul = df_seoul.drop(['전출지별'], axis=1)\n",
    "df_seoul = df_seoul.rename({'전입지별':'전입지'}, axis=1)\n",
    "df_seoul = df_seoul.set_index('전입지')\n",
    "\n",
    "# 서울에서 경기도로 이동한 인구 데이터 값만 선택 \n",
    "sr_one = df_seoul.loc['경기도']\n",
    "\n",
    "plt.figure(figsize=(12,5))\n",
    "# x, y축 데이터를 plot 함수에 입력\n",
    "plt.plot(sr_one.index, sr_one.values, linestyle=\"--\")\n",
    "\n",
    "# 차트 제목 추가\n",
    "plt.title('서울 -> 경기 인구 이동')\n",
    "\n",
    "plt.xticks(rotation=45)\n",
    "# 축이름 추가\n",
    "plt.xlabel('기간')\n",
    "plt.ylabel('이동 인구수')\n",
    "\n",
    "plt.show()  # 변경사항 저장하고 그래프 출력"
   ]
  },
  {
   "cell_type": "code",
   "execution_count": null,
   "id": "a74d9848",
   "metadata": {},
   "outputs": [],
   "source": []
  }
 ],
 "metadata": {
  "kernelspec": {
   "display_name": ".venv (3.13.7)",
   "language": "python",
   "name": "python3"
  },
  "language_info": {
   "codemirror_mode": {
    "name": "ipython",
    "version": 3
   },
   "file_extension": ".py",
   "mimetype": "text/x-python",
   "name": "python",
   "nbconvert_exporter": "python",
   "pygments_lexer": "ipython3",
   "version": "3.13.7"
  }
 },
 "nbformat": 4,
 "nbformat_minor": 5
}
