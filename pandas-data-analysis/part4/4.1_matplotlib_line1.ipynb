{
 "cells": [
  {
   "cell_type": "code",
   "execution_count": null,
   "id": "6c64b595-4641-40ef-8f09-20530678668f",
   "metadata": {
    "tags": []
   },
   "outputs": [],
   "source": [
    "# 라이브러리 불러오기\n",
    "import pandas as pd\n",
    "import matplotlib.pyplot as plt\n",
    "\n",
    "# Excel 데이터를 데이터프레임 변환 \n",
    "df = pd.read_excel('./data/시도별_전출입_인구수.xlsx')\n",
    "\n",
    "# 첫 5행 출력\n",
    "df.head(2)"
   ]
  },
  {
   "cell_type": "code",
   "execution_count": null,
   "id": "17ae3fe2",
   "metadata": {},
   "outputs": [],
   "source": [
    "#nan  NaN  결측치 -- 데이터 없음\n",
    "# 1. 제거 - 데이터가 충분해서 해당 결측치 해당 데이터를 삭제해도 충분할때...\n",
    "# 2. 대처 \n",
    "    # 단순실수로 누락되어서 뻔히 어떤값인지 알수 있을때\n",
    "    # 결측치가 전체데이터대비 적다.. 대략 15% 미만이고. 데이터가적어서 살려야 할때 - 평균,표준편차,빈도수 등 다양하게 채움\n",
    "    # 보간기법이라고 함--> 자체 머신러닝을 이용해서 해당 부분의 값을 예측"
   ]
  },
  {
   "cell_type": "code",
   "execution_count": null,
   "id": "22e56931-a5ce-4a84-9fb2-d96e3a1742b5",
   "metadata": {
    "tags": []
   },
   "outputs": [],
   "source": [
    "# 누락값(NaN)을 앞 데이터로 채움 (엑셀 양식 병합 부분)\n",
    "df = df.ffill()\n",
    "df.head(2)"
   ]
  },
  {
   "cell_type": "code",
   "execution_count": null,
   "id": "47bbb143",
   "metadata": {},
   "outputs": [],
   "source": [
    "# 한글 폰트설정\n",
    "import matplotlib.pyplot as plt\n",
    "import matplotlib as mpl\n",
    "\n",
    "mpl.rcParams['font.family'] = 'Malgun Gothic'\n",
    "mpl.rcParams['axes.unicode_minus'] = False"
   ]
  },
  {
   "cell_type": "code",
   "execution_count": null,
   "id": "b7ccb769-126f-4fe6-8a1d-eb851e307f19",
   "metadata": {
    "tags": []
   },
   "outputs": [],
   "source": [
    "# 서울에서 다른 지역으로 이동한 데이터만 추출하여 정리\n",
    "mask = (df['전출지별'] == '서울특별시') & (df['전입지별'] != '서울특별시') \n",
    "df_seoul = df[mask]\n",
    "df_seoul = df_seoul.drop(['전출지별'], axis=1)\n",
    "df_seoul = df_seoul.rename({'전입지별':'전입지'}, axis=1)\n",
    "df_seoul = df_seoul.set_index('전입지')\n",
    "df_seoul = df_seoul.drop(index=['전국'])\n",
    "df_seoul.T.drop(columns=['경기도']).plot()"
   ]
  },
  {
   "cell_type": "code",
   "execution_count": null,
   "id": "1d2056dd",
   "metadata": {},
   "outputs": [],
   "source": [
    "# 다른 지역에서 서울로 이동한 데이터\n",
    "mask = (df['전출지별'] != '서울특별시') & (df['전입지별'] == '서울특별시') \n",
    "df_seoul = df[mask]\n",
    "df_seoul = df_seoul.drop(columns=['전입지별'])\n",
    "df_seoul = df_seoul.rename(columns={'전출지별':'전출지'})\n",
    "df_seoul = df_seoul.set_index('전출지')\n",
    "df_seoul = df_seoul.drop(index=['전국'])\n",
    "# 시각화\n",
    "df_seoul.T.drop(columns=['경기도']).plot()\n",
    "# df_seoul.plot()"
   ]
  },
  {
   "cell_type": "code",
   "execution_count": null,
   "id": "e46adce4-31d8-4d09-b4f5-57c49fde9526",
   "metadata": {
    "tags": []
   },
   "outputs": [],
   "source": [
    "# 서울에서 경기도로 이동한 인구 데이터 값만 선택 \n",
    "sr_one = df_seoul.loc['경기도']\n",
    "sr_one.head()"
   ]
  },
  {
   "cell_type": "code",
   "execution_count": null,
   "id": "8d1135c2-d5ee-4414-8206-3b6bcae94cec",
   "metadata": {
    "tags": []
   },
   "outputs": [],
   "source": [
    "# x, y축 데이터를 plot 함수에 입력\n",
    "plt.plot(sr_one.index, sr_one.values)"
   ]
  },
  {
   "cell_type": "code",
   "execution_count": null,
   "id": "06665d82-b336-42b0-8ba1-468d76176a5b",
   "metadata": {
    "tags": []
   },
   "outputs": [],
   "source": [
    "# 판다스 객체를 plot 함수에 입력\n",
    "plt.plot(sr_one)\n",
    "plt.show()"
   ]
  },
  {
   "cell_type": "markdown",
   "id": "c0db5776",
   "metadata": {},
   "source": [
    "응용"
   ]
  },
  {
   "cell_type": "code",
   "execution_count": null,
   "id": "895b437e",
   "metadata": {},
   "outputs": [],
   "source": [
    " # https://drive.google.com/file/d/1oxUlhFbbJqUEdAZnynTJUav5mCkM9sb7/view?usp=sharing"
   ]
  },
  {
   "cell_type": "code",
   "execution_count": null,
   "id": "b9a0bcc6",
   "metadata": {},
   "outputs": [],
   "source": [
    "%pip install pandas gdown  "
   ]
  },
  {
   "cell_type": "code",
   "execution_count": null,
   "id": "3bfe6ab7",
   "metadata": {},
   "outputs": [],
   "source": [
    "import gdown\n",
    "\n",
    "file_id = '1oxUlhFbbJqUEdAZnynTJUav5mCkM9sb7'\n",
    "url = f'https://drive.google.com/uc?id={file_id}'\n",
    "output = 'credit.csv'\n",
    "\n",
    "gdown.download(url,output,quiet=False)\n",
    "df = pd.read_csv(output)\n",
    "df.head()\n",
    "\n",
    "# installments 할부개월수\n",
    "# days_of_week 월요일 0  일요일 6\n",
    "# holyday 1이면 공휴일 0이면 공휴일이 아님"
   ]
  },
  {
   "cell_type": "code",
   "execution_count": null,
   "id": "acdda8c1",
   "metadata": {},
   "outputs": [],
   "source": [
    "df['datetime'] = pd.to_datetime(df.date)\n",
    "df['year'] = df['datetime'].dt.year\n",
    "df['month'] = df['datetime'].dt.month\n",
    "\n",
    "df.head()"
   ]
  },
  {
   "cell_type": "code",
   "execution_count": null,
   "id": "bc95dd61",
   "metadata": {},
   "outputs": [],
   "source": [
    "#연도별 신용카드 사용액\n",
    "temp = df.groupby('year')[['amount']].sum()\n",
    "print(temp)\n",
    "ax = temp.plot(kind='bar')"
   ]
  },
  {
   "cell_type": "code",
   "execution_count": null,
   "id": "be009e3e",
   "metadata": {},
   "outputs": [],
   "source": [
    "temp.index = temp.index.astype('str')"
   ]
  },
  {
   "cell_type": "code",
   "execution_count": null,
   "id": "cd094c54",
   "metadata": {},
   "outputs": [],
   "source": [
    "plt.figure(figsize=(10,3))\n",
    "plt.title = '연도별 신용카드 사용액'\n",
    "plt.plot(temp.index, temp.amount)\n",
    "# temp.plot()\n",
    "plt.show()"
   ]
  },
  {
   "cell_type": "code",
   "execution_count": null,
   "id": "99b16af6",
   "metadata": {},
   "outputs": [],
   "source": [
    "# 2017월별 신용카드 사용액"
   ]
  },
  {
   "cell_type": "code",
   "execution_count": null,
   "id": "acb9a9de",
   "metadata": {},
   "outputs": [],
   "source": []
  }
 ],
 "metadata": {
  "kernelspec": {
   "display_name": ".venv (3.13.7)",
   "language": "python",
   "name": "python3"
  },
  "language_info": {
   "codemirror_mode": {
    "name": "ipython",
    "version": 3
   },
   "file_extension": ".py",
   "mimetype": "text/x-python",
   "name": "python",
   "nbconvert_exporter": "python",
   "pygments_lexer": "ipython3",
   "version": "3.13.7"
  }
 },
 "nbformat": 4,
 "nbformat_minor": 5
}
