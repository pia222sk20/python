{
 "cells": [
  {
   "cell_type": "code",
   "execution_count": null,
   "id": "bb12202f-d4dd-41d5-b8bd-f4c78b69b0f9",
   "metadata": {
    "tags": []
   },
   "outputs": [],
   "source": [
    "import pandas as pd\n",
    "\n",
    "# read_csv() 함수로 df 생성\n",
    "df = pd.read_csv('./data/auto-mpg.csv', header=None)\n",
    "\n",
    "# 열 이름을 지정\n",
    "df.columns = ['mpg','cylinders','displacement','horsepower','weight',\n",
    "              'acceleration','model year','origin','name']\n",
    "\n",
    "# 데이터프레임 df의 각 열이 가지고 있는 원소 개수 확인 \n",
    "df.count()"
   ]
  },
  {
   "cell_type": "code",
   "execution_count": null,
   "id": "74bcb12d-e2bf-4b01-894d-8df3587a0e04",
   "metadata": {
    "tags": []
   },
   "outputs": [],
   "source": [
    "# df.count()가 반환하는 객체 타입 출력\n",
    "df.count()"
   ]
  },
  {
   "cell_type": "code",
   "execution_count": null,
   "id": "529a2f3f-42ce-4a68-83dd-5625ec106f57",
   "metadata": {
    "tags": []
   },
   "outputs": [],
   "source": [
    "# 데이터프레임 df의 특정 열이 가지고 있는 고유값의 개수를 확인\n",
    "unique_values = df['origin'].value_counts() \n",
    "unique_values"
   ]
  },
  {
   "cell_type": "code",
   "execution_count": null,
   "id": "59fe2364-e776-4b63-bc2a-96738f689eb4",
   "metadata": {
    "tags": []
   },
   "outputs": [],
   "source": [
    "# 데이터프레임 df의 특정 열이 가지고 있는 고유값의 비율을 확인\n",
    "unique_values_ratio = df['origin'].value_counts(normalize=True) \n",
    "unique_values_ratio"
   ]
  },
  {
   "cell_type": "code",
   "execution_count": null,
   "id": "f8b75a92-173d-44a2-bdf8-4152a493bc43",
   "metadata": {
    "tags": []
   },
   "outputs": [],
   "source": [
    "# 데이터프레임 df의 특정 열이 가지고 있는 고유값의 비율을 확인 (백분율로 변환)\n",
    "unique_values_percentage = (df['origin'].value_counts(normalize=True) * 100 ).round(1)\n",
    "unique_values_percentage"
   ]
  }
 ],
 "metadata": {
  "kernelspec": {
   "display_name": ".venv (3.13.7)",
   "language": "python",
   "name": "python3"
  },
  "language_info": {
   "codemirror_mode": {
    "name": "ipython",
    "version": 3
   },
   "file_extension": ".py",
   "mimetype": "text/x-python",
   "name": "python",
   "nbconvert_exporter": "python",
   "pygments_lexer": "ipython3",
   "version": "3.13.7"
  }
 },
 "nbformat": 4,
 "nbformat_minor": 5
}
