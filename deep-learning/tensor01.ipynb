{
 "cells": [
  {
   "cell_type": "code",
   "execution_count": 1,
   "id": "246f1992",
   "metadata": {},
   "outputs": [],
   "source": [
    "# Tensor\n",
    "# 데이터를 저장하는 다차원 배열 또는 컨테이너\n",
    "# 딥러닝이 학습할때 사용하는 자료구조\n",
    "# 0차원 텐서 : 스칼라 25 - 단일 데이터\n",
    "# 1차원 텐서(벡터) : 리스트 형태  [1,2,3,4]\n",
    "# 2차원 텐서(행렬) : 행 과 열로 이루어진 데이터 표데이터, 흑백 이미지(가로픽셀 x 세로픽셀)\n",
    "# 3차원 텐서 : 컬러이미지 흑백이미지 + 채널정보(R G B)\n",
    "# 고차원 텐서 : 동영상 : 이미지개수 x 가로픽셀 x 세로픽셀 x 채널정보\n",
    "\n",
    "# 데이터의 표준 형식 : 일관된 숫자 형식\n",
    "# 효율적인 계산 : GPU 지원 병열연산에 유리\n",
    "# 딥러닝 프레임워크 : 텐서플로, 파이토치"
   ]
  },
  {
   "cell_type": "code",
   "execution_count": null,
   "id": "4986ddae",
   "metadata": {},
   "outputs": [],
   "source": [
    "%pip install torch torchvision"
   ]
  },
  {
   "cell_type": "code",
   "execution_count": 36,
   "id": "87816c3f",
   "metadata": {},
   "outputs": [
    {
     "data": {
      "text/plain": [
       "tensor([[3.8993e+25, 1.2724e-42, 3.8412e-01, 3.5774e-01],\n",
       "        [7.3501e-01, 1.0821e-01, 8.3247e-01, 8.1851e-01],\n",
       "        [6.2914e-01, 1.0362e-01, 4.8689e-01, 4.5083e-01]])"
      ]
     },
     "execution_count": 36,
     "metadata": {},
     "output_type": "execute_result"
    }
   ],
   "source": [
    "# 기본연산\n",
    "import torch\n",
    "# 빈 텐서 생성\n",
    "x = torch.empty(3,4)\n",
    "x"
   ]
  },
  {
   "cell_type": "code",
   "execution_count": 11,
   "id": "7e223e5c",
   "metadata": {},
   "outputs": [
    {
     "data": {
      "text/plain": [
       "tensor([[0.4669, 0.5657, 0.1163, 0.0650],\n",
       "        [0.7728, 0.6520, 0.0274, 0.6068],\n",
       "        [0.2508, 0.3299, 0.3981, 0.4049]])"
      ]
     },
     "execution_count": 11,
     "metadata": {},
     "output_type": "execute_result"
    }
   ],
   "source": [
    "# 랜덤 텐서\n",
    "x = torch.rand(3,4)\n",
    "x"
   ]
  },
  {
   "cell_type": "code",
   "execution_count": 38,
   "id": "0afd8a39",
   "metadata": {},
   "outputs": [
    {
     "data": {
      "text/plain": [
       "tensor([[0, 0, 0, 0],\n",
       "        [0, 0, 0, 0],\n",
       "        [0, 0, 0, 0]])"
      ]
     },
     "execution_count": 38,
     "metadata": {},
     "output_type": "execute_result"
    }
   ],
   "source": [
    "# 0으로 텐서 초기화\n",
    "torch.zeros(3,4,dtype=torch.long)"
   ]
  },
  {
   "cell_type": "code",
   "execution_count": 39,
   "id": "d3d1e918",
   "metadata": {},
   "outputs": [
    {
     "data": {
      "text/plain": [
       "tensor([[1, 1, 1, 1],\n",
       "        [1, 1, 1, 1],\n",
       "        [1, 1, 1, 1]])"
      ]
     },
     "execution_count": 39,
     "metadata": {},
     "output_type": "execute_result"
    }
   ],
   "source": [
    "# 1로 채워진 텐서\n",
    "x = torch.ones(3,4, dtype=torch.long)\n",
    "x"
   ]
  },
  {
   "cell_type": "code",
   "execution_count": 43,
   "id": "c798f181",
   "metadata": {},
   "outputs": [
    {
     "name": "stdout",
     "output_type": "stream",
     "text": [
      "tensor([3.5000, 3.0000, 2.1000])\n",
      "[3.5 3.  2.1]\n"
     ]
    }
   ],
   "source": [
    "import numpy as np\n",
    "print( torch.tensor( [3.5,3,2.1] ) )\n",
    "print( np.array( [3.5,3,2.1] )  )"
   ]
  },
  {
   "cell_type": "code",
   "execution_count": 45,
   "id": "44548fd2",
   "metadata": {},
   "outputs": [
    {
     "data": {
      "text/plain": [
       "(tensor([[1., 1., 1., 1.],\n",
       "         [1., 1., 1., 1.],\n",
       "         [1., 1., 1., 1.]]),\n",
       " tensor([[-0.0163,  0.0294, -1.7189,  0.2684],\n",
       "         [-0.2964,  0.8398, -0.3335,  1.9050],\n",
       "         [-0.0994, -1.9712, -0.9993, -1.2988]]))"
      ]
     },
     "execution_count": 45,
     "metadata": {},
     "output_type": "execute_result"
    }
   ],
   "source": [
    "# 기존의 텐서를 기반으로 새로운 텐서 생성\n",
    "x = torch.ones(3,4)\n",
    "y = torch.randn_like(x, dtype= torch.float)\n",
    "x,  y"
   ]
  },
  {
   "cell_type": "code",
   "execution_count": 47,
   "id": "e63d3f2c",
   "metadata": {},
   "outputs": [
    {
     "data": {
      "text/plain": [
       "(tensor([[0.4988, 0.1275, 0.3183, 0.2456],\n",
       "         [0.1980, 0.1445, 0.9776, 0.9252],\n",
       "         [0.9166, 0.3505, 0.7453, 0.4773]]),\n",
       " tensor([[0.6852, 0.2295, 0.0325, 0.8326],\n",
       "         [0.3532, 0.5794, 0.7210, 0.5174],\n",
       "         [0.3159, 0.5675, 0.8700, 0.1350]]),\n",
       " tensor([[1.1840, 0.3569, 0.3508, 1.0781],\n",
       "         [0.5512, 0.7239, 1.6987, 1.4426],\n",
       "         [1.2325, 0.9180, 1.6153, 0.6123]]))"
      ]
     },
     "execution_count": 47,
     "metadata": {},
     "output_type": "execute_result"
    }
   ],
   "source": [
    "import torch\n",
    "x = torch.rand(3,4)\n",
    "y = torch.rand(3,4)\n",
    "x ,  y, x+y\n"
   ]
  },
  {
   "cell_type": "code",
   "execution_count": 48,
   "id": "f04ab7f8",
   "metadata": {},
   "outputs": [
    {
     "data": {
      "text/plain": [
       "tensor([[1.1840, 0.3569, 0.3508, 1.0781],\n",
       "        [0.5512, 0.7239, 1.6987, 1.4426],\n",
       "        [1.2325, 0.9180, 1.6153, 0.6123]])"
      ]
     },
     "execution_count": 48,
     "metadata": {},
     "output_type": "execute_result"
    }
   ],
   "source": [
    "torch.add(x,y)"
   ]
  },
  {
   "cell_type": "code",
   "execution_count": 49,
   "id": "fe325bce",
   "metadata": {},
   "outputs": [
    {
     "data": {
      "text/plain": [
       "tensor([[1.1840, 0.3569, 0.3508, 1.0781],\n",
       "        [0.5512, 0.7239, 1.6987, 1.4426],\n",
       "        [1.2325, 0.9180, 1.6153, 0.6123]])"
      ]
     },
     "execution_count": 49,
     "metadata": {},
     "output_type": "execute_result"
    }
   ],
   "source": [
    "#in-place   y = y + x   y += x\n",
    "y.add_(x)"
   ]
  },
  {
   "cell_type": "code",
   "execution_count": 50,
   "id": "00b51ca8",
   "metadata": {},
   "outputs": [
    {
     "data": {
      "text/plain": [
       "tensor([[1.1840, 0.3569, 0.3508, 1.0781],\n",
       "        [0.5512, 0.7239, 1.6987, 1.4426],\n",
       "        [1.2325, 0.9180, 1.6153, 0.6123]])"
      ]
     },
     "execution_count": 50,
     "metadata": {},
     "output_type": "execute_result"
    }
   ],
   "source": [
    "y"
   ]
  },
  {
   "cell_type": "code",
   "execution_count": null,
   "id": "21a44804",
   "metadata": {},
   "outputs": [
    {
     "data": {
      "text/plain": [
       "(tensor([[0.4268, 0.6410, 0.9104, 0.9407],\n",
       "         [0.5068, 0.3030, 0.5365, 0.5436],\n",
       "         [0.4020, 0.0376, 0.3778, 0.5776]]),\n",
       " tensor([[0.7224, 0.2634, 0.4158, 0.1821, 0.7458],\n",
       "         [0.9044, 0.8935, 0.7327, 0.9384, 0.5317],\n",
       "         [0.6226, 0.4863, 0.4647, 0.4513, 0.0581],\n",
       "         [0.6434, 0.5071, 0.0539, 0.0536, 0.5537]]),\n",
       " tensor([[2.0603, 1.6051, 1.1209, 1.1405, 1.2329],\n",
       "         [1.3239, 0.9408, 0.7113, 0.6478, 0.8712],\n",
       "         [0.9312, 0.6161, 0.4013, 0.3099, 0.6616]]),\n",
       " tensor([[2.0603, 1.6051, 1.1209, 1.1405, 1.2329],\n",
       "         [1.3239, 0.9408, 0.7113, 0.6478, 0.8712],\n",
       "         [0.9312, 0.6161, 0.4013, 0.3099, 0.6616]]))"
      ]
     },
     "execution_count": 56,
     "metadata": {},
     "output_type": "execute_result"
    }
   ],
   "source": [
    "# 행렬 곱셈 \n",
    "x = torch.rand(3,4)\n",
    "y = torch.rand(4,5)\n",
    "x, y, torch.mm(x,y),x@y # 파이썬 3.5  x@y"
   ]
  },
  {
   "cell_type": "code",
   "execution_count": 62,
   "id": "9bf807a6",
   "metadata": {},
   "outputs": [
    {
     "data": {
      "text/plain": [
       "(tensor(0.2955), 0.29545629024505615, torch.Tensor, float)"
      ]
     },
     "execution_count": 62,
     "metadata": {},
     "output_type": "execute_result"
    }
   ],
   "source": [
    "# 슬라이싱 가능\n",
    "x = torch.rand(4,5)\n",
    "x[1,1], x[1,1].item(), type(x[1,1]), type(x[1,1].item() )"
   ]
  },
  {
   "cell_type": "code",
   "execution_count": null,
   "id": "c3301cb1",
   "metadata": {},
   "outputs": [],
   "source": []
  }
 ],
 "metadata": {
  "kernelspec": {
   "display_name": ".venv (3.13.7)",
   "language": "python",
   "name": "python3"
  },
  "language_info": {
   "codemirror_mode": {
    "name": "ipython",
    "version": 3
   },
   "file_extension": ".py",
   "mimetype": "text/x-python",
   "name": "python",
   "nbconvert_exporter": "python",
   "pygments_lexer": "ipython3",
   "version": "3.13.7"
  }
 },
 "nbformat": 4,
 "nbformat_minor": 5
}
