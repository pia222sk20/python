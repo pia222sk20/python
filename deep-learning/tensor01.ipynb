{
 "cells": [
  {
   "cell_type": "code",
   "execution_count": 30,
   "id": "246f1992",
   "metadata": {},
   "outputs": [],
   "source": [
    "# Tensor\n",
    "# 데이터를 저장하는 다차원 배열 또는 컨테이너\n",
    "# 딥러닝이 학습할때 사용하는 자료구조\n",
    "# 0차원 텐서 : 스칼라 25 - 단일 데이터\n",
    "# 1차원 텐서(벡터) : 리스트 형태  [1,2,3,4]\n",
    "# 2차원 텐서(행렬) : 행 과 열로 이루어진 데이터 표데이터, 흑백 이미지(가로픽셀 x 세로픽셀)\n",
    "# 3차원 텐서 : 컬러이미지 흑백이미지 + 채널정보(R G B)\n",
    "# 고차원 텐서 : 동영상 : 이미지개수 x 가로픽셀 x 세로픽셀 x 채널정보\n",
    "\n",
    "# 데이터의 표준 형식 : 일관된 숫자 형식\n",
    "# 효율적인 계산 : GPU 지원 병열연산에 유리\n",
    "# 딥러닝 프레임워크 : 텐서플로, 파이토치"
   ]
  },
  {
   "cell_type": "code",
   "execution_count": 31,
   "id": "4986ddae",
   "metadata": {},
   "outputs": [
    {
     "name": "stdout",
     "output_type": "stream",
     "text": [
      "Requirement already satisfied: torch in c:\\users\\playdata2\\miniconda3\\envs\\deep\\lib\\site-packages (2.5.1)\n",
      "Requirement already satisfied: torchvision in c:\\users\\playdata2\\miniconda3\\envs\\deep\\lib\\site-packages (0.20.1)\n",
      "Requirement already satisfied: filelock in c:\\users\\playdata2\\miniconda3\\envs\\deep\\lib\\site-packages (from torch) (3.17.0)\n",
      "Requirement already satisfied: typing-extensions>=4.8.0 in c:\\users\\playdata2\\miniconda3\\envs\\deep\\lib\\site-packages (from torch) (4.15.0)\n",
      "Requirement already satisfied: sympy==1.13.1 in c:\\users\\playdata2\\miniconda3\\envs\\deep\\lib\\site-packages (from torch) (1.13.1)\n",
      "Requirement already satisfied: networkx in c:\\users\\playdata2\\miniconda3\\envs\\deep\\lib\\site-packages (from torch) (3.5)\n",
      "Requirement already satisfied: jinja2 in c:\\users\\playdata2\\miniconda3\\envs\\deep\\lib\\site-packages (from torch) (3.1.6)\n",
      "Requirement already satisfied: fsspec in c:\\users\\playdata2\\miniconda3\\envs\\deep\\lib\\site-packages (from torch) (2025.9.0)\n",
      "Requirement already satisfied: mpmath<1.4,>=1.1.0 in c:\\users\\playdata2\\miniconda3\\envs\\deep\\lib\\site-packages (from sympy==1.13.1->torch) (1.3.0)\n",
      "Requirement already satisfied: numpy in c:\\users\\playdata2\\miniconda3\\envs\\deep\\lib\\site-packages (from torchvision) (2.3.1)\n",
      "Requirement already satisfied: pillow!=8.3.*,>=5.3.0 in c:\\users\\playdata2\\miniconda3\\envs\\deep\\lib\\site-packages (from torchvision) (11.3.0)\n",
      "Requirement already satisfied: MarkupSafe>=2.0 in c:\\users\\playdata2\\miniconda3\\envs\\deep\\lib\\site-packages (from jinja2->torch) (3.0.2)\n",
      "Note: you may need to restart the kernel to use updated packages.\n"
     ]
    }
   ],
   "source": [
    "%pip install torch torchvision"
   ]
  },
  {
   "cell_type": "code",
   "execution_count": 32,
   "id": "87816c3f",
   "metadata": {},
   "outputs": [
    {
     "data": {
      "text/plain": [
       "tensor([[0., 0., 0., 0.],\n",
       "        [0., 0., 0., 0.],\n",
       "        [0., 0., 0., 0.]])"
      ]
     },
     "execution_count": 32,
     "metadata": {},
     "output_type": "execute_result"
    }
   ],
   "source": [
    "# 기본연산\n",
    "import torch\n",
    "# 빈 텐서 생성\n",
    "x = torch.empty(3,4)\n",
    "x"
   ]
  },
  {
   "cell_type": "code",
   "execution_count": 33,
   "id": "7e223e5c",
   "metadata": {},
   "outputs": [
    {
     "data": {
      "text/plain": [
       "tensor([[0.9200, 0.3567, 0.0971, 0.6197],\n",
       "        [0.6275, 0.3261, 0.0780, 0.9039],\n",
       "        [0.4007, 0.5679, 0.1523, 0.7741]])"
      ]
     },
     "execution_count": 33,
     "metadata": {},
     "output_type": "execute_result"
    }
   ],
   "source": [
    "# 랜덤 텐서\n",
    "x = torch.rand(3,4)\n",
    "x"
   ]
  },
  {
   "cell_type": "code",
   "execution_count": 34,
   "id": "0afd8a39",
   "metadata": {},
   "outputs": [
    {
     "data": {
      "text/plain": [
       "tensor([[0, 0, 0, 0],\n",
       "        [0, 0, 0, 0],\n",
       "        [0, 0, 0, 0]])"
      ]
     },
     "execution_count": 34,
     "metadata": {},
     "output_type": "execute_result"
    }
   ],
   "source": [
    "# 0으로 텐서 초기화\n",
    "torch.zeros(3,4,dtype=torch.long)"
   ]
  },
  {
   "cell_type": "code",
   "execution_count": 35,
   "id": "d3d1e918",
   "metadata": {},
   "outputs": [
    {
     "data": {
      "text/plain": [
       "tensor([[1, 1, 1, 1],\n",
       "        [1, 1, 1, 1],\n",
       "        [1, 1, 1, 1]])"
      ]
     },
     "execution_count": 35,
     "metadata": {},
     "output_type": "execute_result"
    }
   ],
   "source": [
    "# 1로 채워진 텐서\n",
    "x = torch.ones(3,4, dtype=torch.long)\n",
    "x"
   ]
  },
  {
   "cell_type": "code",
   "execution_count": 36,
   "id": "c798f181",
   "metadata": {},
   "outputs": [
    {
     "name": "stdout",
     "output_type": "stream",
     "text": [
      "tensor([3.5000, 3.0000, 2.1000])\n",
      "[3.5 3.  2.1]\n"
     ]
    }
   ],
   "source": [
    "import numpy as np\n",
    "print( torch.tensor( [3.5,3,2.1] ) )\n",
    "print( np.array( [3.5,3,2.1] )  )"
   ]
  },
  {
   "cell_type": "code",
   "execution_count": 37,
   "id": "44548fd2",
   "metadata": {},
   "outputs": [
    {
     "data": {
      "text/plain": [
       "(tensor([[1., 1., 1., 1.],\n",
       "         [1., 1., 1., 1.],\n",
       "         [1., 1., 1., 1.]]),\n",
       " tensor([[-0.2634,  0.3866, -1.3909,  0.0482],\n",
       "         [-0.6666,  1.8090,  0.1843,  0.5932],\n",
       "         [ 0.9245,  0.5797,  1.1657,  0.7997]]))"
      ]
     },
     "execution_count": 37,
     "metadata": {},
     "output_type": "execute_result"
    }
   ],
   "source": [
    "# 기존의 텐서를 기반으로 새로운 텐서 생성\n",
    "x = torch.ones(3,4)\n",
    "y = torch.randn_like(x, dtype= torch.float)\n",
    "x,  y"
   ]
  },
  {
   "cell_type": "code",
   "execution_count": 38,
   "id": "e63d3f2c",
   "metadata": {},
   "outputs": [
    {
     "data": {
      "text/plain": [
       "(tensor([[0.3494, 0.6993, 0.0313, 0.1467],\n",
       "         [0.2644, 0.1406, 0.3892, 0.7455],\n",
       "         [0.2303, 0.6121, 0.7172, 0.5979]]),\n",
       " tensor([[0.2643, 0.6292, 0.2764, 0.2030],\n",
       "         [0.4635, 0.2146, 0.1557, 0.8818],\n",
       "         [0.6765, 0.8198, 0.8927, 0.1635]]),\n",
       " tensor([[0.6137, 1.3285, 0.3077, 0.3497],\n",
       "         [0.7278, 0.3552, 0.5449, 1.6273],\n",
       "         [0.9068, 1.4319, 1.6100, 0.7614]]))"
      ]
     },
     "execution_count": 38,
     "metadata": {},
     "output_type": "execute_result"
    }
   ],
   "source": [
    "import torch\n",
    "x = torch.rand(3,4)\n",
    "y = torch.rand(3,4)\n",
    "x ,  y, x+y\n"
   ]
  },
  {
   "cell_type": "code",
   "execution_count": 39,
   "id": "f04ab7f8",
   "metadata": {},
   "outputs": [
    {
     "data": {
      "text/plain": [
       "tensor([[0.6137, 1.3285, 0.3077, 0.3497],\n",
       "        [0.7278, 0.3552, 0.5449, 1.6273],\n",
       "        [0.9068, 1.4319, 1.6100, 0.7614]])"
      ]
     },
     "execution_count": 39,
     "metadata": {},
     "output_type": "execute_result"
    }
   ],
   "source": [
    "torch.add(x,y)"
   ]
  },
  {
   "cell_type": "code",
   "execution_count": 40,
   "id": "fe325bce",
   "metadata": {},
   "outputs": [
    {
     "data": {
      "text/plain": [
       "tensor([[0.6137, 1.3285, 0.3077, 0.3497],\n",
       "        [0.7278, 0.3552, 0.5449, 1.6273],\n",
       "        [0.9068, 1.4319, 1.6100, 0.7614]])"
      ]
     },
     "execution_count": 40,
     "metadata": {},
     "output_type": "execute_result"
    }
   ],
   "source": [
    "#in-place   y = y + x   y += x\n",
    "y.add_(x)"
   ]
  },
  {
   "cell_type": "code",
   "execution_count": 41,
   "id": "00b51ca8",
   "metadata": {},
   "outputs": [
    {
     "data": {
      "text/plain": [
       "tensor([[0.6137, 1.3285, 0.3077, 0.3497],\n",
       "        [0.7278, 0.3552, 0.5449, 1.6273],\n",
       "        [0.9068, 1.4319, 1.6100, 0.7614]])"
      ]
     },
     "execution_count": 41,
     "metadata": {},
     "output_type": "execute_result"
    }
   ],
   "source": [
    "y"
   ]
  },
  {
   "cell_type": "code",
   "execution_count": 42,
   "id": "21a44804",
   "metadata": {},
   "outputs": [
    {
     "data": {
      "text/plain": [
       "(tensor([[0.5913, 0.7876, 0.0183, 0.7857],\n",
       "         [0.3302, 0.6521, 0.0160, 0.3452],\n",
       "         [0.2022, 0.3863, 0.0115, 0.0849]]),\n",
       " tensor([[0.3830, 0.8887, 0.3900, 0.0383, 0.9243],\n",
       "         [0.4736, 0.6343, 0.7619, 0.1343, 0.0705],\n",
       "         [0.4082, 0.1656, 0.2829, 0.3524, 0.0772],\n",
       "         [0.0244, 0.3072, 0.1597, 0.0526, 0.9075]]),\n",
       " tensor([[0.6261, 1.2694, 0.9613, 0.1762, 1.3165],\n",
       "         [0.4503, 0.8158, 0.6853, 0.1240, 0.6658],\n",
       "         [0.2672, 0.4528, 0.3901, 0.0682, 0.2922]]),\n",
       " tensor([[0.6261, 1.2694, 0.9613, 0.1762, 1.3165],\n",
       "         [0.4503, 0.8158, 0.6853, 0.1240, 0.6658],\n",
       "         [0.2672, 0.4528, 0.3901, 0.0682, 0.2922]]))"
      ]
     },
     "execution_count": 42,
     "metadata": {},
     "output_type": "execute_result"
    }
   ],
   "source": [
    "# 행렬 곱셈 \n",
    "x = torch.rand(3,4)\n",
    "y = torch.rand(4,5)\n",
    "x, y, torch.mm(x,y),x@y # 파이썬 3.5  x@y"
   ]
  },
  {
   "cell_type": "code",
   "execution_count": 43,
   "id": "9bf807a6",
   "metadata": {},
   "outputs": [
    {
     "data": {
      "text/plain": [
       "(tensor(0.9011), 0.9011301398277283, torch.Tensor, float)"
      ]
     },
     "execution_count": 43,
     "metadata": {},
     "output_type": "execute_result"
    }
   ],
   "source": [
    "# 슬라이싱 가능\n",
    "x = torch.rand(4,5)\n",
    "x[1,1], x[1,1].item(), type(x[1,1]), type(x[1,1].item() )"
   ]
  },
  {
   "cell_type": "code",
   "execution_count": 44,
   "id": "c3301cb1",
   "metadata": {},
   "outputs": [
    {
     "data": {
      "text/plain": [
       "(tensor([[0.5918, 0.9389, 0.3467, 0.6196],\n",
       "         [0.1439, 0.0189, 0.0574, 0.8693],\n",
       "         [0.2204, 0.6408, 0.7296, 0.1820],\n",
       "         [0.2842, 0.9524, 0.7370, 0.5032]]),\n",
       " tensor([0.5918, 0.9389, 0.3467, 0.6196, 0.1439, 0.0189, 0.0574, 0.8693, 0.2204,\n",
       "         0.6408, 0.7296, 0.1820, 0.2842, 0.9524, 0.7370, 0.5032]),\n",
       " torch.Size([4, 4]),\n",
       " torch.Size([16]))"
      ]
     },
     "execution_count": 44,
     "metadata": {},
     "output_type": "execute_result"
    }
   ],
   "source": [
    "# 텐서 크기 변경  reshape, view   numpy 동일한 기능  reshape\n",
    "import torch\n",
    "x = torch.rand(4,4)\n",
    "y = x.view(-1)  # -1 자동 계산\n",
    "x , y, x.shape, y.shape"
   ]
  },
  {
   "cell_type": "code",
   "execution_count": 45,
   "id": "23ac76f2",
   "metadata": {},
   "outputs": [
    {
     "data": {
      "text/plain": [
       "(tensor([[0.5918, 0.9389, 0.3467, 0.6196, 0.1439, 0.0189, 0.0574, 0.8693],\n",
       "         [0.2204, 0.6408, 0.7296, 0.1820, 0.2842, 0.9524, 0.7370, 0.5032]]),\n",
       " torch.Size([4, 4]))"
      ]
     },
     "execution_count": 45,
     "metadata": {},
     "output_type": "execute_result"
    }
   ],
   "source": [
    "# x  4 by 4\n",
    "# view  : reshape  # 텐서 모양 변경\n",
    "# size : shape  # 텐서 모양 확인\n",
    "# 가독성.... view size 사용되었다는 것은 해당 자료구조가 텐서라는것을 명시\n",
    "x.view(-1 , 8)  , x.size()"
   ]
  },
  {
   "cell_type": "code",
   "execution_count": 46,
   "id": "96466be1",
   "metadata": {},
   "outputs": [
    {
     "data": {
      "text/plain": [
       "array([1., 1., 1., 1., 1.], dtype=float32)"
      ]
     },
     "execution_count": 46,
     "metadata": {},
     "output_type": "execute_result"
    }
   ],
   "source": [
    "# 텐서 -> 넘파이\n",
    "import torch\n",
    "import numpy as np\n",
    "a = torch.ones(5)\n",
    "a.numpy()"
   ]
  },
  {
   "cell_type": "code",
   "execution_count": 47,
   "id": "bf354e95",
   "metadata": {},
   "outputs": [
    {
     "data": {
      "text/plain": [
       "tensor([1, 2, 3, 4, 5])"
      ]
     },
     "execution_count": 47,
     "metadata": {},
     "output_type": "execute_result"
    }
   ],
   "source": [
    "# 넘파이 -> 텐서\n",
    "import torch\n",
    "import numpy as np\n",
    "a = np.array([1,2,3,4,5])\n",
    "torch.from_numpy(a)"
   ]
  },
  {
   "cell_type": "code",
   "execution_count": 48,
   "id": "38e84a63",
   "metadata": {},
   "outputs": [
    {
     "name": "stdout",
     "output_type": "stream",
     "text": [
      "CUDA를 사용할 수 없습니다.\n"
     ]
    }
   ],
   "source": [
    "# GPU 사용\n",
    "import torch\n",
    "if torch.cuda.is_available():\n",
    "    device = torch.device('cuda')  # gpu\n",
    "    # 텐서들은 gpu에서 연산해되기 때문에 생성을 gpu에서 생성\n",
    "    x = torch.ones(5, device=device)  # gpu\n",
    "    y = torch.ones(5)  # cpu\n",
    "    y = y.to(device)  # cpu->gpu로 이동\n",
    "    z = x + y\n",
    "    print(f'GPU 연산결과 : {z}')\n",
    "    print(f'다시 CPU로  : { z.to(\"cpu\", torch.double)  }')\n",
    "else:\n",
    "    print('CUDA를 사용할 수 없습니다.')    \n",
    "    device = torch.device('cpu')"
   ]
  },
  {
   "cell_type": "code",
   "execution_count": 49,
   "id": "abfb849c",
   "metadata": {},
   "outputs": [
    {
     "data": {
      "text/plain": [
       "False"
      ]
     },
     "execution_count": 49,
     "metadata": {},
     "output_type": "execute_result"
    }
   ],
   "source": [
    "torch.cuda.is_available()"
   ]
  },
  {
   "cell_type": "code",
   "execution_count": 50,
   "id": "f958041c",
   "metadata": {},
   "outputs": [],
   "source": [
    "# 행렬의 곱\n",
    "# ( x, y )  *  (x1 , y1)\n",
    "#  y , x1의 차수는 같아야한다...\n",
    "# 행렬곱의 결과는 x , y1\n",
    "\n",
    "# 텐서는 딥러닝을위해 만들 자료구조... 내부에 gpu 연산에 특화된 구조 일반적인 모양은 넘파이와 동일\n",
    "# 텐서는 gpu연산을 지원"
   ]
  },
  {
   "cell_type": "code",
   "execution_count": 51,
   "id": "e26c0d24",
   "metadata": {},
   "outputs": [],
   "source": [
    "# 자동 미분(Autograd) 매 계산과정마다 해당 계산과정의 미분값을 저장\n",
    "# 파이토치 required_grad = True 로 설정하면  계산그래프라는 형태로 기록 - 동영상 녹화와 비슷한 원리\n",
    "# .backword() 호출하면 이 과정을 꺼꾸로 되감으면서 각 단계의 미분값을 계산해 최종 기울기를 얻는다"
   ]
  },
  {
   "cell_type": "code",
   "execution_count": 52,
   "id": "e6ea8e3c",
   "metadata": {},
   "outputs": [
    {
     "data": {
      "text/plain": [
       "(tensor([[1., 1.],\n",
       "         [1., 1.]], requires_grad=True),\n",
       " torch.Size([2, 2]))"
      ]
     },
     "execution_count": 52,
     "metadata": {},
     "output_type": "execute_result"
    }
   ],
   "source": [
    "x = torch.ones(2,2, requires_grad=True)\n",
    "x,  x.size()"
   ]
  },
  {
   "cell_type": "code",
   "execution_count": 53,
   "id": "c466e6b5",
   "metadata": {},
   "outputs": [
    {
     "name": "stdout",
     "output_type": "stream",
     "text": [
      "tensor([[3., 3.],\n",
      "        [3., 3.]], grad_fn=<AddBackward0>) <AddBackward0 object at 0x000002750DF9AE60>\n"
     ]
    },
    {
     "data": {
      "text/plain": [
       "(tensor([[27., 27.],\n",
       "         [27., 27.]], grad_fn=<MulBackward0>),\n",
       " tensor(27., grad_fn=<MeanBackward0>))"
      ]
     },
     "execution_count": 53,
     "metadata": {},
     "output_type": "execute_result"
    }
   ],
   "source": [
    "y = x + 2   # y도 계산 그래프에 추가\n",
    "print(y, y.grad_fn)\n",
    "z = y*y*3\n",
    "out = z.mean()\n",
    "z, out"
   ]
  },
  {
   "cell_type": "code",
   "execution_count": 54,
   "id": "53a6fcd2",
   "metadata": {},
   "outputs": [
    {
     "data": {
      "text/plain": [
       "tensor([[4.5000, 4.5000],\n",
       "        [4.5000, 4.5000]])"
      ]
     },
     "execution_count": 54,
     "metadata": {},
     "output_type": "execute_result"
    }
   ],
   "source": [
    "# 기울기.... 구하는 과정을... 역전파 --> 기울기 계산\n",
    "# 최종결과가 out에서부터 시작해서 계산그래프를 꺼꾸로 거슬러 올라가면서 미분의 연쇄법칙을 사용해서 미분값을 계산\n",
    "# out을 x에 대해서 미분 \n",
    "out.backward()\n",
    "x.grad"
   ]
  },
  {
   "attachments": {
    "image.png": {
     "image/png": "[encoded data removed]"
    }
   },
   "cell_type": "markdown",
   "id": "52f4950f",
   "metadata": {},
   "source": [
    "![image.png](attachment:image.png)"
   ]
  },
  {
   "cell_type": "code",
   "execution_count": null,
   "id": "5afa5f6d",
   "metadata": {},
   "outputs": [],
   "source": [
    "# out = 1/4(z1+z2+z3+z4)\n",
    "# z = 3y^2\n",
    "# y = x + 2\n",
    "\n",
    "# d-out/dxi = "
   ]
  },
  {
   "cell_type": "code",
   "execution_count": null,
   "id": "a38c7569",
   "metadata": {},
   "outputs": [
    {
     "name": "stdout",
     "output_type": "stream",
     "text": [
      "tensor([0.8674, 0.6542, 0.8145], requires_grad=True)\n",
      "y: tensor([888.2574, 669.9235, 834.0939], grad_fn=<MulBackward0>)\n",
      "반복횟수 : 9\n"
     ]
    }
   ],
   "source": [
    "# 기울기 제어\n",
    "# 역전파, torch.no_grad, detach\n",
    "# required_grad = True 연산 추적\n",
    "import torch\n",
    "x = torch.randn(3, requires_grad=True)\n",
    "print(x)\n",
    "# y 는 x로부터 연산기록을 물려받음\n",
    "y = x * 2\n",
    "# 노름(유클리드 노름)  벡터의 크기를 측정하는 방법(원점으로부터 벡터까지의 거리)  모든 요소를각각 제곱하고 모두 더해서 결과에 제곱근(루트)\n",
    "# y의 실제데이터의 크기를 확인해서 반복\n",
    "i = 0\n",
    "while y.data.norm()  < 1000:\n",
    "    y = y*2\n",
    "    i += 1\n",
    "print(f'y: {y}')    \n",
    "print(f'반복횟수 : {i}   y = x*2^i+1')  \n",
    "\n",
    "# 벡터에 대한 역전파\n"
   ]
  },
  {
   "cell_type": "code",
   "execution_count": null,
   "id": "9575282c",
   "metadata": {},
   "outputs": [],
   "source": []
  }
 ],
 "metadata": {
  "kernelspec": {
   "display_name": "deep",
   "language": "python",
   "name": "python3"
  },
  "language_info": {
   "codemirror_mode": {
    "name": "ipython",
    "version": 3
   },
   "file_extension": ".py",
   "mimetype": "text/x-python",
   "name": "python",
   "nbconvert_exporter": "python",
   "pygments_lexer": "ipython3",
   "version": "3.11.13"
  }
 },
 "nbformat": 4,
 "nbformat_minor": 5
}
