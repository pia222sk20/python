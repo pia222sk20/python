{
 "cells": [
  {
   "cell_type": "code",
   "execution_count": 2,
   "id": "c2ebe12b",
   "metadata": {},
   "outputs": [],
   "source": [
    "# 회귀\n",
    "# 출력의 개수를 1개로\n",
    "# 손실함수를 MSE나 기타 등등..\n",
    "# 데이터셋 과 데이터 로드를 커스텀하게 정의해서 사용\n",
    "# 나머지는 동일한 패턴으로 ... 학습 평가"
   ]
  },
  {
   "cell_type": "code",
   "execution_count": null,
   "id": "3bcc8eba",
   "metadata": {},
   "outputs": [],
   "source": [
    "# from sklearn.datasets import load_boston"
   ]
  },
  {
   "cell_type": "code",
   "execution_count": null,
   "id": "f19f5a8a",
   "metadata": {},
   "outputs": [],
   "source": [
    "import pandas as pd\n",
    "import numpy as np\n",
    "from torch.utils.data import Dataset, DataLoader\n",
    "import pandas as pd\n",
    "import numpy as np\n",
    "import torch\n",
    "\n",
    "data_url = \"http://lib.stat.cmu.edu/datasets/boston\"\n",
    "raw_df = pd.read_csv(data_url, sep=\"\\s+\", skiprows=22, header=None)\n",
    "data = np.hstack([raw_df.values[::2, :], raw_df.values[1::2, :2]])\n",
    "target = raw_df.values[1::2, 2]\n",
    "\n",
    "class BostonDataSet(Dataset):\n",
    "    def __init__(self,X,y):\n",
    "        self.X = torch.tensor(X, dtype=torch.float32)\n",
    "        self.y = torch.tensor(y, dtype=torch.float32).view(-1,1)\n",
    "    def __len__(self):\n",
    "        return len(self.X)\n",
    "    def __getitem__(self,idx):\n",
    "        return self.X[idx], self.y[idx]"
   ]
  },
  {
   "cell_type": "code",
   "execution_count": 16,
   "id": "2a468c0a",
   "metadata": {},
   "outputs": [],
   "source": [
    "X_dataset = BostonDataSet(data, target)  # 데이터를 X, y 를 한쌍으로 묶어\n",
    "X_train_loader = DataLoader(X_dataset ,batch_size=32,shuffle=True)"
   ]
  },
  {
   "cell_type": "code",
   "execution_count": 17,
   "id": "3a834d4e",
   "metadata": {},
   "outputs": [],
   "source": [
    "# 회귀 모델 정의\n",
    "import torch.nn as nn\n",
    "class BostonRegression(nn.Module):\n",
    "    def __init__(self, input_dim):\n",
    "        super(BostonRegression,self).__init__()\n",
    "        self.model = nn.Sequential(\n",
    "            nn.Linear(input_dim, 64),\n",
    "            nn.ReLU(),\n",
    "            nn.Linear(64, 32),\n",
    "            nn.ReLU(),\n",
    "            nn.Linear(32, 1),\n",
    "        )\n",
    "    def forward(self, x):\n",
    "        return self.model(x)"
   ]
  },
  {
   "cell_type": "code",
   "execution_count": 18,
   "id": "fabfe71e",
   "metadata": {},
   "outputs": [],
   "source": [
    "from torch.optim import Adam\n",
    "model = BostonRegression(data.shape[1])\n",
    "criterion = nn.MSELoss()\n",
    "optim = Adam(model.parameters(), lr = 1e-3)"
   ]
  },
  {
   "cell_type": "code",
   "execution_count": null,
   "id": "b8a23471",
   "metadata": {},
   "outputs": [
    {
     "name": "stderr",
     "output_type": "stream",
     "text": [
      "epoch : 1/20: 100%|██████████| 16/16 [00:00<00:00, 183.30it/s, loss=108]\n",
      "epoch : 2/20: 100%|██████████| 16/16 [00:00<00:00, 287.92it/s, loss=97]\n",
      "epoch : 3/20: 100%|██████████| 16/16 [00:00<00:00, 313.66it/s, loss=88.5]\n",
      "epoch : 4/20: 100%|██████████| 16/16 [00:00<00:00, 317.94it/s, loss=80.5]\n",
      "epoch : 5/20: 100%|██████████| 16/16 [00:00<00:00, 310.98it/s, loss=65.3]\n",
      "epoch : 6/20: 100%|██████████| 16/16 [00:00<00:00, 328.79it/s, loss=95.2]\n",
      "epoch : 7/20: 100%|██████████| 16/16 [00:00<00:00, 312.98it/s, loss=17.7]\n",
      "epoch : 8/20: 100%|██████████| 16/16 [00:00<00:00, 319.95it/s, loss=31.9]\n",
      "epoch : 9/20: 100%|██████████| 16/16 [00:00<00:00, 321.68it/s, loss=61.7]\n",
      "epoch : 10/20: 100%|██████████| 16/16 [00:00<00:00, 289.86it/s, loss=73.9]\n",
      "epoch : 11/20: 100%|██████████| 16/16 [00:00<00:00, 300.69it/s, loss=48.4]\n",
      "epoch : 12/20: 100%|██████████| 16/16 [00:00<00:00, 316.09it/s, loss=32.1]\n",
      "epoch : 13/20: 100%|██████████| 16/16 [00:00<00:00, 326.44it/s, loss=25.1]\n",
      "epoch : 14/20: 100%|██████████| 16/16 [00:00<00:00, 323.64it/s, loss=50.3]\n",
      "epoch : 15/20: 100%|██████████| 16/16 [00:00<00:00, 276.80it/s, loss=21.2]\n",
      "epoch : 16/20: 100%|██████████| 16/16 [00:00<00:00, 298.27it/s, loss=112]\n",
      "epoch : 17/20: 100%|██████████| 16/16 [00:00<00:00, 325.59it/s, loss=28.5]\n",
      "epoch : 18/20: 100%|██████████| 16/16 [00:00<00:00, 296.70it/s, loss=63.4]\n",
      "epoch : 19/20: 100%|██████████| 16/16 [00:00<00:00, 313.28it/s, loss=54.2]\n",
      "epoch : 20/20: 100%|██████████| 16/16 [00:00<00:00, 325.37it/s, loss=26]\n"
     ]
    }
   ],
   "source": [
    "from tqdm import tqdm\n",
    "device = 'cuda' if torch.cuda.is_available() else 'cpu'\n",
    "model.to(device)\n",
    "epochs = 500\n",
    "# 학습루프\n",
    "for epoch in range(epochs):\n",
    "    tqdm_obj = tqdm(X_train_loader,desc=f'epoch : {epoch+1}/{epochs}')\n",
    "    for data, label in tqdm_obj:\n",
    "        optim.zero_grad()\n",
    "        preds = model(data.to(device))\n",
    "        loss = criterion(preds, label.to(device))\n",
    "        loss.backward()\n",
    "        optim.step()\n",
    "\n",
    "        tqdm_obj.set_postfix(loss=loss.item())\n",
    "        \n",
    "\n",
    "torch.save(model.state_dict(), 'bostonRegression.pth') "
   ]
  }
 ],
 "metadata": {
  "kernelspec": {
   "display_name": "deep",
   "language": "python",
   "name": "python3"
  },
  "language_info": {
   "codemirror_mode": {
    "name": "ipython",
    "version": 3
   },
   "file_extension": ".py",
   "mimetype": "text/x-python",
   "name": "python",
   "nbconvert_exporter": "python",
   "pygments_lexer": "ipython3",
   "version": "3.11.13"
  }
 },
 "nbformat": 4,
 "nbformat_minor": 5
}
