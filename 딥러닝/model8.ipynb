{
 "cells": [
  {
   "cell_type": "code",
   "execution_count": null,
   "id": "eea3995f",
   "metadata": {},
   "outputs": [],
   "source": [
    "# RestNet(Skip connection, Regidual Block)  잔차를 레이어에 더해준다"
   ]
  },
  {
   "attachments": {
    "image.png": {
     "image/png": "[encoded data removed]"
    }
   },
   "cell_type": "markdown",
   "id": "0c04e121",
   "metadata": {},
   "source": [
    "![image.png](attachment:image.png)"
   ]
  },
  {
   "cell_type": "code",
   "execution_count": 4,
   "id": "382c0db6",
   "metadata": {},
   "outputs": [
    {
     "data": {
      "text/plain": [
       "(torch.Size([2, 64, 32, 32]), torch.Size([2, 3, 32, 32]))"
      ]
     },
     "execution_count": 4,
     "metadata": {},
     "output_type": "execute_result"
    }
   ],
   "source": [
    "# conv - batchn - Relu - conv -batchn \n",
    "import torch.nn as nn\n",
    "import torch\n",
    "conv1 = nn.Conv2d(3,32,kernel_size=3,padding=1)\n",
    "batch1 = nn.BatchNorm2d(32)\n",
    "relu = nn.ReLU()\n",
    "conv2 = nn.Conv2d(32,64,kernel_size=3,padding=1)\n",
    "batch2 = nn.BatchNorm2d(64)\n",
    "\n",
    "x = torch.randn(2,3,32,32)\n",
    "x_ = x  # 스킵커넥션을 위해서 초기 입력을 저장\n",
    "\n",
    "x = conv1(x)\n",
    "x = batch1(x)\n",
    "x = relu(x)\n",
    "x = conv2(x)\n",
    "x = batch2(x)\n",
    "x.size() , x_.size()\n"
   ]
  },
  {
   "cell_type": "code",
   "execution_count": 5,
   "id": "d0a9272f",
   "metadata": {},
   "outputs": [
    {
     "data": {
      "text/plain": [
       "torch.Size([2, 64, 32, 32])"
      ]
     },
     "execution_count": 5,
     "metadata": {},
     "output_type": "execute_result"
    }
   ],
   "source": [
    "downsample = nn.Conv2d(3,64,kernel_size=1)\n",
    "down_x = downsample(x_)\n",
    "down_x.size()\n"
   ]
  },
  {
   "cell_type": "code",
   "execution_count": null,
   "id": "a1628f55",
   "metadata": {},
   "outputs": [],
   "source": [
    "import torch\n",
    "import torch.nn as nn\n",
    "class BasicBlock(nn.Module):\n",
    "    def __init__(self, in_channel,out_channel,hidden_dim):\n",
    "        super(BasicBlock, self).__init__()\n",
    "        self.conv1 = nn.Conv2d(in_channel,hidden_dim,kernel_size=3,padding=1)\n",
    "        self.conv2 = nn.Conv2d(hidden_dim,out_channel,kernel_size=3,padding=1)\n",
    "        self.batch1 = nn.BatchNorm2d(hidden_dim)\n",
    "        self.batch2 = nn.BatchNorm2d(out_channel)\n",
    "        self.relu = nn.ReLU()\n",
    "        self.downsample = nn.Conv2d(in_channel,out_channel,kernel_size=1)\n",
    "    def forward(self, x):\n",
    "        x_ = x\n",
    "        x = self.relu(self.batch1(self.conv1(x)))\n",
    "        x = self.batch2(self.conv2(x))\n",
    "        x += x_\n",
    "        out = self.relu(x)\n",
    "        return out"
   ]
  },
  {
   "cell_type": "code",
   "execution_count": 6,
   "id": "a9c52f42",
   "metadata": {},
   "outputs": [],
   "source": [
    "class ResNet(nn.Module):\n",
    "    def __init__(self, class_num = 10):\n",
    "        super(ResNet,self).__init__()\n",
    "        self.b1 = BasicBlock(3,64,32) \n",
    "        self.b2 = BasicBlock(64,256,128)\n",
    "        self.b3 = BasicBlock(256,256)\n",
    "\n",
    "        self.pool = nn.AvgPool2d(2)\n",
    "\n",
    "        self.fc1 = nn.Linear(256*32*32 , 2048)\n",
    "        self.fc2 = nn.Linear(2048 , 512)\n",
    "        self.fc3 = nn.Linear(2048 , class_num)\n",
    "\n",
    "        self.relu = nn.Relu()\n",
    "    def forward(self,x):\n",
    "        x = self.pool(self.b1(x))\n",
    "        x = self.pool(self.b2(x))\n",
    "        x = self.pool(self.b3(x))\n",
    "        x = torch.flatten(x, start_dim=1)\n",
    "\n",
    "        x = self.relu(self.fc1(x))\n",
    "        x = self.relu(self.fc2(x))\n",
    "        out = self.fc3(x)\n",
    "\n",
    "        return out\n"
   ]
  },
  {
   "cell_type": "code",
   "execution_count": null,
   "id": "84efccc3",
   "metadata": {},
   "outputs": [],
   "source": [
    "# 데이터는 인간 - 말\n",
    "# 학습 - 평가"
   ]
  }
 ],
 "metadata": {
  "kernelspec": {
   "display_name": "deep",
   "language": "python",
   "name": "python3"
  },
  "language_info": {
   "codemirror_mode": {
    "name": "ipython",
    "version": 3
   },
   "file_extension": ".py",
   "mimetype": "text/x-python",
   "name": "python",
   "nbconvert_exporter": "python",
   "pygments_lexer": "ipython3",
   "version": "3.11.13"
  }
 },
 "nbformat": 4,
 "nbformat_minor": 5
}
