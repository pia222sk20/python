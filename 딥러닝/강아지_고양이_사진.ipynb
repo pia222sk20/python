{
  "nbformat": 4,
  "nbformat_minor": 0,
  "metadata": {
    "colab": {
      "provenance": []
    },
    "kernelspec": {
      "name": "python3",
      "display_name": "Python 3"
    },
    "language_info": {
      "name": "python"
    }
  },
  "cells": [
    {
      "cell_type": "code",
      "execution_count": 56,
      "metadata": {
        "id": "n08d0gc2zcAo"
      },
      "outputs": [],
      "source": [
        "import tensorflow as tf"
      ]
    },
    {
      "cell_type": "code",
      "source": [
        "vggnet = tf.keras.applications.VGG16(weights='imagenet')"
      ],
      "metadata": {
        "id": "NRtM8DOBzow_"
      },
      "execution_count": 57,
      "outputs": []
    },
    {
      "cell_type": "code",
      "source": [
        "# 이미지 파일을 넘파이 배열로 변환\n",
        "from PIL import Image\n",
        "import numpy as np\n",
        "dog_png = Image.open('/content/cat.png')\n",
        "dog_array = np.array(dog_png)\n",
        "dog_array.shape\n"
      ],
      "metadata": {
        "colab": {
          "base_uri": "https://localhost:8080/"
        },
        "id": "604B4t3mz8N8",
        "outputId": "0650371a-4d36-4693-9db8-426084603be0"
      },
      "execution_count": 58,
      "outputs": [
        {
          "output_type": "execute_result",
          "data": {
            "text/plain": [
              "(224, 224, 3)"
            ]
          },
          "metadata": {},
          "execution_count": 58
        }
      ]
    },
    {
      "cell_type": "code",
      "source": [
        "vgg_prep_dog = tf.keras.applications.vgg16.preprocess_input(dog_array)\n",
        "vgg_prep_dog.shape"
      ],
      "metadata": {
        "colab": {
          "base_uri": "https://localhost:8080/"
        },
        "id": "zJTL9Wpo1e9C",
        "outputId": "90ba656d-89d2-4c2c-eb7f-c9040b949cd4"
      },
      "execution_count": 59,
      "outputs": [
        {
          "output_type": "execute_result",
          "data": {
            "text/plain": [
              "(224, 224, 3)"
            ]
          },
          "metadata": {},
          "execution_count": 59
        }
      ]
    },
    {
      "cell_type": "code",
      "source": [
        "# 분류\n",
        "prediction = vggnet.predict(vgg_prep_dog[np.newaxis,:])  # 배치차원 추가"
      ],
      "metadata": {
        "colab": {
          "base_uri": "https://localhost:8080/"
        },
        "collapsed": true,
        "id": "gZSNFeRs0nId",
        "outputId": "9bbdd998-8299-4153-c5fd-3139f13116f6"
      },
      "execution_count": 60,
      "outputs": [
        {
          "output_type": "stream",
          "name": "stdout",
          "text": [
            "\u001b[1m1/1\u001b[0m \u001b[32m━━━━━━━━━━━━━━━━━━━━\u001b[0m\u001b[37m\u001b[0m \u001b[1m1s\u001b[0m 1s/step\n"
          ]
        }
      ]
    },
    {
      "cell_type": "code",
      "source": [
        "np.argmax(prediction[0]),  prediction[0][208]"
      ],
      "metadata": {
        "colab": {
          "base_uri": "https://localhost:8080/"
        },
        "id": "XbxXVfm704OW",
        "outputId": "bc698412-fcb2-4be3-db3f-a2710b122f97"
      },
      "execution_count": 61,
      "outputs": [
        {
          "output_type": "execute_result",
          "data": {
            "text/plain": [
              "(np.int64(281), np.float32(3.6522097e-06))"
            ]
          },
          "metadata": {},
          "execution_count": 61
        }
      ]
    },
    {
      "cell_type": "code",
      "source": [
        "from tensorflow.keras.applications.vgg16 import decode_predictions\n",
        "decode_predictions(prediction)"
      ],
      "metadata": {
        "colab": {
          "base_uri": "https://localhost:8080/"
        },
        "id": "0EQUoO7-2beb",
        "outputId": "621fea55-abc7-4467-8461-d6cbbddd41f6"
      },
      "execution_count": 62,
      "outputs": [
        {
          "output_type": "execute_result",
          "data": {
            "text/plain": [
              "[[('n02123045', 'tabby', np.float32(0.43275443)),\n",
              "  ('n02124075', 'Egyptian_cat', np.float32(0.31127918)),\n",
              "  ('n02123159', 'tiger_cat', np.float32(0.21606451)),\n",
              "  ('n02971356', 'carton', np.float32(0.0035795602)),\n",
              "  ('n03223299', 'doormat', np.float32(0.0031308173))]]"
            ]
          },
          "metadata": {},
          "execution_count": 62
        }
      ]
    },
    {
      "cell_type": "code",
      "source": [
        "# ResNet\n",
        "# 층을 깊게 쌓으면 -> 더 복잡한 패턴을 학습\n",
        "# 네트웍이 깊어지면\n",
        "  # 기울기 소실(소실 / 폭발)\n",
        "# Residual Learning  잔차 연결\n",
        "# x-> H(x)\n",
        "# F(x) = H(x) - x  Residual 잔차를 학습\n",
        "# 최종 출력 H(x) = F(x) + x  스킵커넥"
      ],
      "metadata": {
        "id": "t-ejwX5Y38Mj"
      },
      "execution_count": 63,
      "outputs": []
    },
    {
      "cell_type": "code",
      "source": [
        "# ResNet 모델\n",
        "import keras\n",
        "from keras import layers\n",
        "inputs = layers.Input(shape=(224,224,3))\n",
        "x = layers.ZeroPadding2D(padding=3)(inputs)\n",
        "x = layers.Conv2D(64,kernel_size=7,strides=2)(x)\n",
        "x = layers.BatchNormalization()(x)\n",
        "x = layers.Activation('relu')(x)\n",
        "x = layers.ZeroPadding2D(padding=1)(x)\n",
        "x = layers.MaxPooling2D(pool_size=3,strides=2)(x)"
      ],
      "metadata": {
        "id": "O665qU_76Rxq"
      },
      "execution_count": 64,
      "outputs": []
    },
    {
      "cell_type": "code",
      "source": [
        "def residual_block(x, filters, first_stride=1, conv_skip=False):\n",
        "    skip_conn = x\n",
        "    x = layers.Conv2D(filters=filters, kernel_size=1,\n",
        "                      strides=first_stride)(x)\n",
        "    x = layers.BatchNormalization(epsilon=1e-5)(x)\n",
        "    x = layers.Activation('relu')(x)\n",
        "    x = layers.Conv2D(filters=filters, kernel_size=3,\n",
        "                      padding='same')(x)\n",
        "    x = layers.BatchNormalization(epsilon=1e-5)(x)\n",
        "    x = layers.Activation('relu')(x)\n",
        "    x = layers.Conv2D(filters=filters*4, kernel_size=1)(x)\n",
        "    x = layers.BatchNormalization(epsilon=1e-5)(x)\n",
        "    # conv_skip이 True 이면 1x1 합성곱ㅇ르 사용해 채널 크기를 fillers*4로 늘려준다\n",
        "    if conv_skip == True:\n",
        "        skip_conn = layers.Conv2D(filters=filters*4, kernel_size=1,\n",
        "                                  strides=first_stride)(skip_conn)\n",
        "        skip_conn = layers.BatchNormalization(epsilon=1e-5)(skip_conn)\n",
        "    x = layers.Add()([skip_conn, x])\n",
        "    x = layers.Activation('relu')(x)\n",
        "    return x"
      ],
      "metadata": {
        "id": "Qsk42EOm831U"
      },
      "execution_count": 65,
      "outputs": []
    },
    {
      "cell_type": "code",
      "source": [
        "# 잔차 스택\n",
        "def build_stack(x):\n",
        "  #  첫번째 잔차스택의 첫번째 잔차 블럭만 스트라이드 1\n",
        "  x = residual_stack(x, 3, 64, first_stride=1)\n",
        "  for blocks, filters in [(4, 128), (6, 256), (3, 512)]:\n",
        "      x = residual_stack(x, blocks, filters, first_stride=2)\n",
        "  return x\n",
        "\n",
        "def residual_stack(x, blocks, filters, first_stride=2):\n",
        "  # 합성곱 스킵커넥션\n",
        "  x = residual_block(x, filters, first_stride=first_stride, conv_skip=True)\n",
        "  for _ in range(1, blocks):\n",
        "      x = residual_block(x, filters, first_stride=1, conv_skip=False)\n",
        "  return x"
      ],
      "metadata": {
        "id": "JJo54FWz3vBj"
      },
      "execution_count": 66,
      "outputs": []
    },
    {
      "cell_type": "code",
      "source": [
        "# ResNet 모델\n",
        "x = build_stack(x)\n",
        "x = layers.GlobalAveragePooling2D()(x)\n",
        "output = layers.Dense(1000, activation='softmax')(x)\n",
        "model = keras.Model(inputs=inputs, outputs=output)\n",
        "model.compile(optimizer='adam', loss='categorical_crossentropy', metrics=['accuracy'])"
      ],
      "metadata": {
        "id": "qPwD6fF-82g0"
      },
      "execution_count": 67,
      "outputs": []
    },
    {
      "cell_type": "code",
      "source": [],
      "metadata": {
        "id": "BOL-WuzqBDn5"
      },
      "execution_count": 67,
      "outputs": []
    }
  ]
}