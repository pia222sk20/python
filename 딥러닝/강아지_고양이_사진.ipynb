{
  "cells": [
    {
      "cell_type": "code",
      "execution_count": 1,
      "metadata": {
        "id": "n08d0gc2zcAo"
      },
      "outputs": [],
      "source": [
        "import tensorflow as tf"
      ]
    },
    {
      "cell_type": "code",
      "execution_count": 2,
      "metadata": {
        "colab": {
          "base_uri": "https://localhost:8080/"
        },
        "id": "NRtM8DOBzow_",
        "outputId": "8c403d37-3470-48ac-a09f-9955a8be536c"
      },
      "outputs": [
        {
          "name": "stdout",
          "output_type": "stream",
          "text": [
            "Downloading data from https://storage.googleapis.com/tensorflow/keras-applications/vgg16/vgg16_weights_tf_dim_ordering_tf_kernels.h5\n",
            "\u001b[1m553467096/553467096\u001b[0m \u001b[32m━━━━━━━━━━━━━━━━━━━━\u001b[0m\u001b[37m\u001b[0m \u001b[1m18s\u001b[0m 0us/step\n"
          ]
        }
      ],
      "source": [
        "vggnet = tf.keras.applications.VGG16(weights='imagenet')"
      ]
    },
    {
      "cell_type": "code",
      "execution_count": 19,
      "metadata": {
        "colab": {
          "base_uri": "https://localhost:8080/"
        },
        "id": "604B4t3mz8N8",
        "outputId": "a05ecf87-7f91-4806-8435-d6f7ef3f96c1"
      },
      "outputs": [
        {
          "data": {
            "text/plain": [
              "(224, 224, 3)"
            ]
          },
          "execution_count": 19,
          "metadata": {},
          "output_type": "execute_result"
        }
      ],
      "source": [
        "# 이미지 파일을 넘파이 배열로 변환\n",
        "from PIL import Image\n",
        "import numpy as np\n",
        "dog_png = Image.open('/content/cat.png')\n",
        "dog_array = np.array(dog_png)\n",
        "dog_array.shape\n"
      ]
    },
    {
      "cell_type": "code",
      "execution_count": 20,
      "metadata": {
        "colab": {
          "base_uri": "https://localhost:8080/"
        },
        "id": "zJTL9Wpo1e9C",
        "outputId": "9750b5cb-0161-4e10-d6b1-e7c09f871be6"
      },
      "outputs": [
        {
          "data": {
            "text/plain": [
              "(224, 224, 3)"
            ]
          },
          "execution_count": 20,
          "metadata": {},
          "output_type": "execute_result"
        }
      ],
      "source": [
        "vgg_prep_dog = tf.keras.applications.vgg16.preprocess_input(dog_array)\n",
        "vgg_prep_dog.shape"
      ]
    },
    {
      "cell_type": "code",
      "execution_count": 21,
      "metadata": {
        "colab": {
          "base_uri": "https://localhost:8080/"
        },
        "collapsed": true,
        "id": "gZSNFeRs0nId",
        "outputId": "f11c82ba-b88f-4b2a-9821-113b2c7dc26f"
      },
      "outputs": [
        {
          "name": "stdout",
          "output_type": "stream",
          "text": [
            "\u001b[1m1/1\u001b[0m \u001b[32m━━━━━━━━━━━━━━━━━━━━\u001b[0m\u001b[37m\u001b[0m \u001b[1m1s\u001b[0m 691ms/step\n"
          ]
        }
      ],
      "source": [
        "# 분류\n",
        "prediction = vggnet.predict(vgg_prep_dog[np.newaxis,:])  # 배치차원 추가"
      ]
    },
    {
      "cell_type": "code",
      "execution_count": 22,
      "metadata": {
        "colab": {
          "base_uri": "https://localhost:8080/"
        },
        "id": "XbxXVfm704OW",
        "outputId": "0046e793-2a7b-4356-f412-eeab0fd5d41c"
      },
      "outputs": [
        {
          "data": {
            "text/plain": [
              "(np.int64(281), np.float32(3.6522097e-06))"
            ]
          },
          "execution_count": 22,
          "metadata": {},
          "output_type": "execute_result"
        }
      ],
      "source": [
        "np.argmax(prediction[0]),  prediction[0][208]"
      ]
    },
    {
      "cell_type": "code",
      "execution_count": 23,
      "metadata": {
        "colab": {
          "base_uri": "https://localhost:8080/"
        },
        "id": "0EQUoO7-2beb",
        "outputId": "f412ca68-e8b3-4fab-9ae5-649e4ca5df91"
      },
      "outputs": [
        {
          "data": {
            "text/plain": [
              "[[('n02123045', 'tabby', np.float32(0.43275443)),\n",
              "  ('n02124075', 'Egyptian_cat', np.float32(0.31127918)),\n",
              "  ('n02123159', 'tiger_cat', np.float32(0.21606451)),\n",
              "  ('n02971356', 'carton', np.float32(0.0035795602)),\n",
              "  ('n03223299', 'doormat', np.float32(0.0031308173))]]"
            ]
          },
          "execution_count": 23,
          "metadata": {},
          "output_type": "execute_result"
        }
      ],
      "source": [
        "from tensorflow.keras.applications.vgg16 import decode_predictions\n",
        "decode_predictions(prediction)"
      ]
    },
    {
      "cell_type": "code",
      "execution_count": null,
      "metadata": {
        "id": "t-ejwX5Y38Mj"
      },
      "outputs": [],
      "source": [
        "# ResNet\n",
        "# 층을 깊게 쌓으면 -> 더 복잡한 패턴을 학습\n",
        "# 네트웍이 깊어지면\n",
        "  # 기울기 소실(소실 / 폭발)\n",
        "# Residual Learning  잔차 연결\n",
        "# x-> H(x)\n",
        "# F(x) = H(x) - x  Residual 잔차를 학습\n",
        "# 최종 출력 H(x) = F(x) + x  스킵커넥"
      ]
    },
    {
      "cell_type": "code",
      "execution_count": null,
      "metadata": {
        "id": "O665qU_76Rxq"
      },
      "outputs": [],
      "source": [
        "# ResNet 모델\n",
        "import keras\n",
        "from keras import layers\n",
        "inputs = layers.Input(shape=(224,224,3))\n",
        "x = layers.ZeroPadding2D(padding=3)(inputs)\n",
        "x = layers.Conv2D(64,kernel_size=7,strides=2)(x)\n",
        "x = layers.BatchNormalization()(x)\n",
        "x = layers.Activation('relu')(x)\n",
        "x = layers.ZeroPadding2D(padding=1)(x)\n",
        "x = layers.MaxPooling2D(pool_size=3,strides=2)(x) "
      ]
    },
    {
      "cell_type": "code",
      "execution_count": 26,
      "metadata": {
        "id": "Qsk42EOm831U"
      },
      "outputs": [],
      "source": [
        "def residual_block(x, filters, first_stride=1, conv_skip=False):\n",
        "    skip_conn = x\n",
        "    x = layers.Conv2D(filters=filters, kernel_size=1,\n",
        "                      strides=first_stride)(x)\n",
        "    x = layers.BatchNormalization(epsilon=1e-5)(x)\n",
        "    x = layers.Activation('relu')(x)\n",
        "    x = layers.Conv2D(filters=filters, kernel_size=3,\n",
        "                      padding='same')(x)\n",
        "    x = layers.BatchNormalization(epsilon=1e-5)(x)\n",
        "    x = layers.Activation('relu')(x)\n",
        "    x = layers.Conv2D(filters=filters*4, kernel_size=1)(x)\n",
        "    x = layers.BatchNormalization(epsilon=1e-5)(x)\n",
        "    if conv_skip == True:\n",
        "        skip_conn = layers.Conv2D(filters=filters*4, kernel_size=1,\n",
        "                                  strides=first_stride)(skip_conn)\n",
        "        skip_conn = layers.BatchNormalization(epsilon=1e-5)(skip_conn)\n",
        "    x = layers.Add()([skip_conn, x])\n",
        "    x = layers.Activation('relu')(x)\n",
        "    return x"
      ]
    },
    {
      "cell_type": "code",
      "execution_count": null,
      "metadata": {
        "id": "JJo54FWz3vBj"
      },
      "outputs": [],
      "source": [
        "# 잔차 스택\n",
        "def build_stack(x):\n",
        "  #  첫번째 잔차스택의 첫번째 잔차 블럭만 스트라이드 1\n",
        "  x = residual_stack(x, 3, 64, first_stride=1)\n",
        "  for blocks, filters in [(4, 128), (6, 256), (3, 512)]:\n",
        "      x = residual_stack(x, blocks, filters, first_stride=2)\n",
        "  return x\n",
        "\n",
        "def residual_stack(x, blocks, filters, first_stride=2):\n",
        "  # 합성곱 스킵커넥션\n",
        "  x = residual_block(x, filters, first_stride=first_stride, convskip=True)\n",
        "  for _ in range(1, blocks):\n",
        "      x = residual_block(x, filters, first_stride=1, conv_skip=False)\n",
        "  return x"
      ]
    },
    {
      "cell_type": "code",
      "execution_count": null,
      "metadata": {
        "id": "qPwD6fF-82g0"
      },
      "outputs": [],
      "source": []
    }
  ],
  "metadata": {
    "colab": {
      "provenance": []
    },
    "kernelspec": {
      "display_name": "Python 3",
      "name": "python3"
    },
    "language_info": {
      "name": "python"
    }
  },
  "nbformat": 4,
  "nbformat_minor": 0
}
