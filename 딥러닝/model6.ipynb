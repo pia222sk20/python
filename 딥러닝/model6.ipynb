{
 "cells": [
  {
   "cell_type": "code",
   "execution_count": null,
   "id": "155e2907",
   "metadata": {},
   "outputs": [],
   "source": []
  },
  {
   "cell_type": "markdown",
   "id": "22b0a668",
   "metadata": {},
   "source": [
    "```\n",
    "data\n",
    "    train\n",
    "        class1\n",
    "            img1.jpg\n",
    "            img2.jpg\n",
    "            ...\n",
    "        class2\n",
    "            img1.jpg\n",
    "            img2.jpg\n",
    "    test\n",
    "        class1\n",
    "            img1.jpg\n",
    "            img2.jpg\n",
    "            ...\n",
    "        class2\n",
    "            img1.jpg\n",
    "            img2.jpg\n",
    "```"
   ]
  },
  {
   "cell_type": "code",
   "execution_count": 15,
   "id": "959cdd71",
   "metadata": {},
   "outputs": [],
   "source": [
    "import torch\n",
    "from torchvision import datasets, transforms\n",
    "from torch.utils.data import DataLoader\n",
    "transform = transforms.Compose([\n",
    "    transforms.Resize((32,32)),\n",
    "    transforms.ToTensor(),\n",
    "    transforms.Normalize((0.5,0.5,0.5),(0.5,0.5,0.5))\n",
    "])\n",
    "train_dataset =  datasets.ImageFolder(root = './data/train', transform=transform)\n",
    "test_dataset =  datasets.ImageFolder(root = './data/test', transform=transform)\n",
    "train_loader = DataLoader(train_dataset,batch_size=5,shuffle=True)\n",
    "test_loader = DataLoader(train_dataset,batch_size=5,shuffle=False)"
   ]
  },
  {
   "cell_type": "code",
   "execution_count": 23,
   "id": "b626fd00",
   "metadata": {},
   "outputs": [
    {
     "data": {
      "text/plain": [
       "(torch.Size([5, 3, 32, 32]), tensor([1, 0, 1, 1, 1]))"
      ]
     },
     "execution_count": 23,
     "metadata": {},
     "output_type": "execute_result"
    }
   ],
   "source": [
    "img,label = next(iter(train_loader))\n",
    "img.size(), label"
   ]
  },
  {
   "cell_type": "code",
   "execution_count": 17,
   "id": "85f3917d",
   "metadata": {},
   "outputs": [
    {
     "data": {
      "text/plain": [
       "['0', '1']"
      ]
     },
     "execution_count": 17,
     "metadata": {},
     "output_type": "execute_result"
    }
   ],
   "source": [
    "train_dataset.classes"
   ]
  },
  {
   "cell_type": "code",
   "execution_count": null,
   "id": "23335d88",
   "metadata": {},
   "outputs": [],
   "source": []
  }
 ],
 "metadata": {
  "kernelspec": {
   "display_name": "deep",
   "language": "python",
   "name": "python3"
  },
  "language_info": {
   "codemirror_mode": {
    "name": "ipython",
    "version": 3
   },
   "file_extension": ".py",
   "mimetype": "text/x-python",
   "name": "python",
   "nbconvert_exporter": "python",
   "pygments_lexer": "ipython3",
   "version": "3.11.13"
  }
 },
 "nbformat": 4,
 "nbformat_minor": 5
}
