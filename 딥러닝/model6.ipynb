{
 "cells": [
  {
   "cell_type": "code",
   "execution_count": null,
   "id": "155e2907",
   "metadata": {},
   "outputs": [],
   "source": []
  },
  {
   "cell_type": "markdown",
   "id": "22b0a668",
   "metadata": {},
   "source": [
    "```\n",
    "data\n",
    "    train\n",
    "        class1\n",
    "            img1.jpg\n",
    "            img2.jpg\n",
    "            ...\n",
    "        class2\n",
    "            img1.jpg\n",
    "            img2.jpg\n",
    "    test\n",
    "        class1\n",
    "            img1.jpg\n",
    "            img2.jpg\n",
    "            ...\n",
    "        class2\n",
    "            img1.jpg\n",
    "            img2.jpg\n",
    "```"
   ]
  },
  {
   "cell_type": "code",
   "execution_count": null,
   "id": "959cdd71",
   "metadata": {},
   "outputs": [],
   "source": [
    "import torch\n",
    "from torchvision import datasets, transforms\n",
    "from torch.utils.data import DataLoader\n",
    "transform = transforms.Compose([\n",
    "    transforms.Resize((32,32)),\n",
    "    transforms.ToTensor(),\n",
    "    transforms.Normalize((0.5,0.5,0.5),(0.5,0.5,0.5))\n",
    "])\n",
    "train_dataset =  datasets.ImageFolder(root = './data/train', transform=transform)\n",
    "test_dataset =  datasets.ImageFolder(root = './data/test', transform=transform)\n",
    "train_loader = DataLoader(train_dataset,batch_size=5,shuffle=True)\n",
    "test_loader = DataLoader(test_dataset,batch_size=5,shuffle=False)"
   ]
  },
  {
   "cell_type": "code",
   "execution_count": 23,
   "id": "b626fd00",
   "metadata": {},
   "outputs": [
    {
     "data": {
      "text/plain": [
       "(torch.Size([5, 3, 32, 32]), tensor([1, 0, 1, 1, 1]))"
      ]
     },
     "execution_count": 23,
     "metadata": {},
     "output_type": "execute_result"
    }
   ],
   "source": [
    "img,label = next(iter(train_loader))\n",
    "img.size(), label"
   ]
  },
  {
   "cell_type": "code",
   "execution_count": 17,
   "id": "85f3917d",
   "metadata": {},
   "outputs": [
    {
     "data": {
      "text/plain": [
       "['0', '1']"
      ]
     },
     "execution_count": 17,
     "metadata": {},
     "output_type": "execute_result"
    }
   ],
   "source": [
    "train_dataset.classes"
   ]
  },
  {
   "cell_type": "code",
   "execution_count": null,
   "id": "23335d88",
   "metadata": {},
   "outputs": [
    {
     "name": "stderr",
     "output_type": "stream",
     "text": [
      "epoch : 1/20: 100%|██████████| 206/206 [00:35<00:00,  5.79it/s, loss=0.33] \n",
      "epoch : 2/20:  79%|███████▊  | 162/206 [00:25<00:07,  6.22it/s, loss=0.0907]"
     ]
    }
   ],
   "source": [
    "import torch.nn as nn\n",
    "from tqdm import tqdm\n",
    "from torch.optim import Adam\n",
    "class BasicBlock(nn.Module):\n",
    "    def __init__(self, int_channels, out_channels, hidden_dim):\n",
    "        super(BasicBlock, self).__init__()\n",
    "        self.conv1 = nn.Conv2d(int_channels, hidden_dim, kernel_size=3,padding=1)\n",
    "        self.conv2 = nn.Conv2d(hidden_dim, out_channels,kernel_size=3,padding=1)\n",
    "        self.relu = nn.ReLU()\n",
    "        self.pool = nn.MaxPool2d(2)\n",
    "    def forward(self, x):\n",
    "        x = self.relu( self.conv1(x) )\n",
    "        x = self.relu( self.conv2(x) )\n",
    "        out = self.pool(x)\n",
    "        return out\n",
    "\n",
    "import torch\n",
    "class CNN(nn.Module):\n",
    "    def __init__(self, num_class):\n",
    "        super(CNN,self).__init__()\n",
    "        self.block1 = BasicBlock(3,32,16)  \n",
    "        self.block2 = BasicBlock(32,128,64)\n",
    "        self.block3 = BasicBlock(128,256,128)\n",
    "\n",
    "        # 분류기\n",
    "        self.fc1 = nn.Linear( 4096, 2048)\n",
    "        self.fc2 = nn.Linear(2048 , 256)\n",
    "        self.fc3 = nn.Linear(256 , num_class)\n",
    "        self.relu = nn.ReLU()\n",
    "    def forward(self, x):\n",
    "        x = self.block1(x)\n",
    "        x = self.block2(x)\n",
    "        x = self.block3(x)  #(N,256,4,4)        \n",
    "        x = torch.flatten(x, start_dim=1)\n",
    "        x = self.relu(self.fc1(x))\n",
    "        x = self.relu(self.fc2(x))\n",
    "        out = self.fc3(x)\n",
    "        return out    \n",
    "\n",
    "device = 'cuda' if torch.cuda.is_available() else 'cpu'\n",
    "model = CNN(2)\n",
    "model.to(device)\n",
    "\n",
    "lr = 1e-3\n",
    "optim = Adam(model.parameters(), lr=lr)\n",
    "epochs = 20\n",
    "# 학습루프\n",
    "for epoch in range(epochs):\n",
    "    tqdm_obj = tqdm(train_loader,desc=f'epoch : {epoch+1}/{epochs}')\n",
    "    for data, label in tqdm_obj:\n",
    "        optim.zero_grad()\n",
    "        preds = model(data.to(device))\n",
    "        loss = nn.CrossEntropyLoss()(preds, label.to(device))\n",
    "        loss.backward()\n",
    "        optim.step()\n",
    "\n",
    "        tqdm_obj.set_postfix(loss=loss.item())\n",
    "        \n",
    "\n",
    "torch.save(model.state_dict(), 'hm.pth')    "
   ]
  },
  {
   "cell_type": "code",
   "execution_count": null,
   "id": "418516dc",
   "metadata": {},
   "outputs": [],
   "source": []
  }
 ],
 "metadata": {
  "kernelspec": {
   "display_name": "deep",
   "language": "python",
   "name": "python3"
  },
  "language_info": {
   "codemirror_mode": {
    "name": "ipython",
    "version": 3
   },
   "file_extension": ".py",
   "mimetype": "text/x-python",
   "name": "python",
   "nbconvert_exporter": "python",
   "pygments_lexer": "ipython3",
   "version": "3.11.13"
  }
 },
 "nbformat": 4,
 "nbformat_minor": 5
}
