{
 "cells": [
  {
   "cell_type": "code",
   "execution_count": null,
   "id": "155e2907",
   "metadata": {},
   "outputs": [],
   "source": []
  },
  {
   "cell_type": "markdown",
   "id": "22b0a668",
   "metadata": {},
   "source": [
    "```\n",
    "data\n",
    "    train\n",
    "        class1\n",
    "            img1.jpg\n",
    "            img2.jpg\n",
    "            ...\n",
    "        class2\n",
    "            img1.jpg\n",
    "            img2.jpg\n",
    "    test\n",
    "        class1\n",
    "            img1.jpg\n",
    "            img2.jpg\n",
    "            ...\n",
    "        class2\n",
    "            img1.jpg\n",
    "            img2.jpg\n",
    "```"
   ]
  },
  {
   "cell_type": "code",
   "execution_count": null,
   "id": "959cdd71",
   "metadata": {},
   "outputs": [],
   "source": [
    "import torch\n",
    "from torchvision import datasets, transforms\n",
    "from torch.utils.data import DataLoader\n",
    "transform = transforms.Compose([\n",
    "    transforms.Resize((32,32)),\n",
    "    transforms.ToTensor(),\n",
    "    transforms.Normalize((0.5,0.5,0.5),(0.5,0.5,0.5))\n",
    "])\n",
    "train_dataset =  datasets.ImageFolder(root = './data/train', transform=transform)\n",
    "test_dataset =  datasets.ImageFolder(root = './data/test', transform=transform)\n",
    "train_loader = DataLoader(train_dataset,batch_size=5,shuffle=True)\n",
    "test_loader = DataLoader(test_dataset,batch_size=5,shuffle=False)"
   ]
  },
  {
   "cell_type": "code",
   "execution_count": 23,
   "id": "b626fd00",
   "metadata": {},
   "outputs": [
    {
     "data": {
      "text/plain": [
       "(torch.Size([5, 3, 32, 32]), tensor([1, 0, 1, 1, 1]))"
      ]
     },
     "execution_count": 23,
     "metadata": {},
     "output_type": "execute_result"
    }
   ],
   "source": [
    "img,label = next(iter(train_loader))\n",
    "img.size(), label"
   ]
  },
  {
   "cell_type": "code",
   "execution_count": 17,
   "id": "85f3917d",
   "metadata": {},
   "outputs": [
    {
     "data": {
      "text/plain": [
       "['0', '1']"
      ]
     },
     "execution_count": 17,
     "metadata": {},
     "output_type": "execute_result"
    }
   ],
   "source": [
    "train_dataset.classes"
   ]
  },
  {
   "cell_type": "code",
   "execution_count": 28,
   "id": "23335d88",
   "metadata": {},
   "outputs": [
    {
     "name": "stderr",
     "output_type": "stream",
     "text": [
      "epoch : 1/20: 100%|██████████| 206/206 [00:35<00:00,  5.79it/s, loss=0.33] \n",
      "epoch : 2/20: 100%|██████████| 206/206 [00:32<00:00,  6.32it/s, loss=0.0114]\n",
      "epoch : 3/20: 100%|██████████| 206/206 [00:32<00:00,  6.42it/s, loss=0.0073]  \n",
      "epoch : 4/20: 100%|██████████| 206/206 [00:32<00:00,  6.27it/s, loss=0.00768] \n",
      "epoch : 5/20: 100%|██████████| 206/206 [00:32<00:00,  6.35it/s, loss=9.7e-5]  \n",
      "epoch : 6/20: 100%|██████████| 206/206 [00:32<00:00,  6.39it/s, loss=0.295]   \n",
      "epoch : 7/20: 100%|██████████| 206/206 [00:31<00:00,  6.52it/s, loss=1.25e-6] \n",
      "epoch : 8/20: 100%|██████████| 206/206 [00:31<00:00,  6.60it/s, loss=0.000786]\n",
      "epoch : 9/20: 100%|██████████| 206/206 [00:32<00:00,  6.28it/s, loss=0.00268] \n",
      "epoch : 10/20: 100%|██████████| 206/206 [00:36<00:00,  5.67it/s, loss=0.000349]\n",
      "epoch : 11/20: 100%|██████████| 206/206 [00:35<00:00,  5.76it/s, loss=2.8e-6]  \n",
      "epoch : 12/20: 100%|██████████| 206/206 [00:35<00:00,  5.84it/s, loss=0]      \n",
      "epoch : 13/20: 100%|██████████| 206/206 [00:36<00:00,  5.68it/s, loss=0]      \n",
      "epoch : 14/20: 100%|██████████| 206/206 [00:35<00:00,  5.79it/s, loss=0]      \n",
      "epoch : 15/20: 100%|██████████| 206/206 [00:34<00:00,  5.89it/s, loss=5.96e-8]\n",
      "epoch : 16/20: 100%|██████████| 206/206 [00:33<00:00,  6.11it/s, loss=0]      \n",
      "epoch : 17/20: 100%|██████████| 206/206 [00:35<00:00,  5.79it/s, loss=0]      \n",
      "epoch : 18/20: 100%|██████████| 206/206 [00:33<00:00,  6.19it/s, loss=0]      \n",
      "epoch : 19/20: 100%|██████████| 206/206 [00:33<00:00,  6.10it/s, loss=0]      \n",
      "epoch : 20/20: 100%|██████████| 206/206 [00:34<00:00,  6.02it/s, loss=2.98e-7]\n"
     ]
    }
   ],
   "source": [
    "import torch.nn as nn\n",
    "from tqdm import tqdm\n",
    "from torch.optim import Adam\n",
    "class BasicBlock(nn.Module):\n",
    "    def __init__(self, int_channels, out_channels, hidden_dim):\n",
    "        super(BasicBlock, self).__init__()\n",
    "        self.conv1 = nn.Conv2d(int_channels, hidden_dim, kernel_size=3,padding=1)\n",
    "        self.conv2 = nn.Conv2d(hidden_dim, out_channels,kernel_size=3,padding=1)\n",
    "        self.relu = nn.ReLU()\n",
    "        self.pool = nn.MaxPool2d(2)\n",
    "    def forward(self, x):\n",
    "        x = self.relu( self.conv1(x) )\n",
    "        x = self.relu( self.conv2(x) )\n",
    "        out = self.pool(x)\n",
    "        return out\n",
    "\n",
    "import torch\n",
    "class CNN(nn.Module):\n",
    "    def __init__(self, num_class):\n",
    "        super(CNN,self).__init__()\n",
    "        self.block1 = BasicBlock(3,32,16)  \n",
    "        self.block2 = BasicBlock(32,128,64)\n",
    "        self.block3 = BasicBlock(128,256,128)\n",
    "\n",
    "        # 분류기\n",
    "        self.fc1 = nn.Linear( 4096, 2048)\n",
    "        self.fc2 = nn.Linear(2048 , 256)\n",
    "        self.fc3 = nn.Linear(256 , num_class)\n",
    "        self.relu = nn.ReLU()\n",
    "    def forward(self, x):\n",
    "        x = self.block1(x)\n",
    "        x = self.block2(x)\n",
    "        x = self.block3(x)  #(N,256,4,4)        \n",
    "        x = torch.flatten(x, start_dim=1)\n",
    "        x = self.relu(self.fc1(x))\n",
    "        x = self.relu(self.fc2(x))\n",
    "        out = self.fc3(x)\n",
    "        return out    \n",
    "\n",
    "device = 'cuda' if torch.cuda.is_available() else 'cpu'\n",
    "model = CNN(2)\n",
    "model.to(device)\n",
    "\n",
    "lr = 1e-3\n",
    "optim = Adam(model.parameters(), lr=lr)\n",
    "epochs = 20\n",
    "# 학습루프\n",
    "for epoch in range(epochs):\n",
    "    tqdm_obj = tqdm(train_loader,desc=f'epoch : {epoch+1}/{epochs}')\n",
    "    for data, label in tqdm_obj:\n",
    "        optim.zero_grad()\n",
    "        preds = model(data.to(device))\n",
    "        loss = nn.CrossEntropyLoss()(preds, label.to(device))\n",
    "        loss.backward()\n",
    "        optim.step()\n",
    "\n",
    "        tqdm_obj.set_postfix(loss=loss.item())\n",
    "        \n",
    "\n",
    "torch.save(model.state_dict(), 'hm.pth')    "
   ]
  },
  {
   "cell_type": "code",
   "execution_count": 34,
   "id": "418516dc",
   "metadata": {},
   "outputs": [
    {
     "name": "stderr",
     "output_type": "stream",
     "text": [
      "Evaluating: 100%|██████████| 206/206 [00:11<00:00, 18.45it/s]"
     ]
    },
    {
     "name": "stdout",
     "output_type": "stream",
     "text": [
      "Test Loss: 0.0000, Test Accuracy: 1.0000\n"
     ]
    },
    {
     "name": "stderr",
     "output_type": "stream",
     "text": [
      "\n"
     ]
    }
   ],
   "source": [
    "# 평가\n",
    "model.load_state_dict(torch.load('hm.pth',map_location=device,weights_only=True))\n",
    "# 예측\n",
    "# 평가 루프\n",
    "# test_loader가 이미 정의되어 있다고 가정\n",
    "model.eval()  # 평가 모드로 전환 (dropout, batchnorm 등 비활성화)\n",
    "total_loss = 0.0\n",
    "total_correct = 0\n",
    "total_samples = 0\n",
    "\n",
    "criterion = nn.CrossEntropyLoss()\n",
    "with torch.no_grad():  # 그래디언트 계산 비활성화\n",
    "    for data, label in tqdm(test_loader, desc=\"Evaluating\"):\n",
    "        data, label = data.to(device), label.to(device)\n",
    "        preds = model(data)\n",
    "        loss = criterion(preds, label)\n",
    "        total_loss += loss.item() * data.size(0)  # 배치 손실 합산\n",
    "        total_correct += (preds.argmax(dim=1) == label).sum().item()\n",
    "        total_samples += data.size(0)\n",
    "\n",
    "avg_loss = total_loss / total_samples\n",
    "accuracy = total_correct / total_samples\n",
    "\n",
    "print(f\"Test Loss: {avg_loss:.4f}, Test Accuracy: {accuracy:.4f}\")\n"
   ]
  },
  {
   "cell_type": "code",
   "execution_count": null,
   "id": "0ab44a54",
   "metadata": {},
   "outputs": [],
   "source": []
  }
 ],
 "metadata": {
  "kernelspec": {
   "display_name": "deep",
   "language": "python",
   "name": "python3"
  },
  "language_info": {
   "codemirror_mode": {
    "name": "ipython",
    "version": 3
   },
   "file_extension": ".py",
   "mimetype": "text/x-python",
   "name": "python",
   "nbconvert_exporter": "python",
   "pygments_lexer": "ipython3",
   "version": "3.11.13"
  }
 },
 "nbformat": 4,
 "nbformat_minor": 5
}
