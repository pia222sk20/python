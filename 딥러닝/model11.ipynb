{
 "cells": [
  {
   "cell_type": "code",
   "execution_count": 1,
   "id": "2102d5cc",
   "metadata": {},
   "outputs": [],
   "source": [
    "# 가우스 잡음 추가 함수\n",
    "import matplotlib.pyplot as plt\n",
    "import numpy as np\n",
    "import torch\n",
    "\n",
    "from torchvision.datasets.mnist import MNIST\n",
    "from torchvision.transforms import ToTensor\n",
    "\n",
    "# 가우스 노이즈\n",
    "# noiy_pixel = original_pixel + N(u=0, e = scale)\n",
    "# 평균 = 0 : 픽셀을 전체적으로 밝히거나 어둡게 하지 않음\n",
    "# 표준편차 = sacle-> 값이 클수록 노이즈가 강해짐\n",
    "# 0.8 - > 노이즈의 양 많고.. 숫자 일부를 흐릿"
   ]
  },
  {
   "cell_type": "code",
   "execution_count": 2,
   "id": "c8203cc5",
   "metadata": {},
   "outputs": [],
   "source": [
    "def gaussian_noise(x, scale=0.8):\n",
    "    gaussian_data_x = x +  np.random.normal(\n",
    "        loc = 0, scale =scale, size = x.shape\n",
    "    )\n",
    "    gaussian_data_x = np.clip(gaussian_data_x,0,1)  # 이미지픽셀의 값을 0과 1사이로 정규화\n",
    "    gaussian_data_x = torch.tensor(gaussian_data_x,dtype=torch.float32)\n",
    "    return gaussian_data_x"
   ]
  },
  {
   "cell_type": "code",
   "execution_count": null,
   "id": "7a2856e9",
   "metadata": {},
   "outputs": [],
   "source": [
    "traning_data = MNIST(root='./', train=True, download=True,transform=ToTensor())\n",
    "test_data = MNIST(root='./', train=False, download=True,transform=ToTensor())"
   ]
  },
  {
   "cell_type": "code",
   "execution_count": 13,
   "id": "a04c40a1",
   "metadata": {},
   "outputs": [
    {
     "name": "stderr",
     "output_type": "stream",
     "text": [
      "C:\\Users\\playdata2\\AppData\\Local\\Temp\\ipykernel_9028\\2047172819.py:2: DeprecationWarning: __array_wrap__ must accept context and return_scalar arguments (positionally) in the future. (Deprecated NumPy 2.0)\n",
      "  gaussian_data_x = x +  np.random.normal(\n",
      "C:\\Users\\playdata2\\AppData\\Local\\Temp\\ipykernel_9028\\2047172819.py:6: UserWarning: To copy construct from a tensor, it is recommended to use sourceTensor.clone().detach() or sourceTensor.clone().detach().requires_grad_(True), rather than torch.tensor(sourceTensor).\n",
      "  gaussian_data_x = torch.tensor(gaussian_data_x,dtype=torch.float32)\n"
     ]
    },
    {
     "data": {
      "text/plain": [
       "<matplotlib.image.AxesImage at 0x2102480cad0>"
      ]
     },
     "execution_count": 13,
     "metadata": {},
     "output_type": "execute_result"
    },
    {
     "data": {
      "image/png": "[encoded data removed]",
      "text/plain": [
       "<Figure size 640x480 with 2 Axes>"
      ]
     },
     "metadata": {},
     "output_type": "display_data"
    }
   ],
   "source": [
    "img,label = next(iter(traning_data))\n",
    "gaussian = gaussian_noise(img)\n",
    "img = img.permute(1,2,0)\n",
    "gaussian = gaussian.permute(1,2,0)\n",
    "plt.subplot(1,2,1)\n",
    "plt.imshow(img)\n",
    "plt.subplot(1,2,2)\n",
    "plt.imshow(gaussian)"
   ]
  },
  {
   "cell_type": "code",
   "execution_count": null,
   "id": "a875b7cd",
   "metadata": {},
   "outputs": [],
   "source": [
    "# 학습용 데이터셋\n"
   ]
  }
 ],
 "metadata": {
  "kernelspec": {
   "display_name": "deep",
   "language": "python",
   "name": "python3"
  },
  "language_info": {
   "codemirror_mode": {
    "name": "ipython",
    "version": 3
   },
   "file_extension": ".py",
   "mimetype": "text/x-python",
   "name": "python",
   "nbconvert_exporter": "python",
   "pygments_lexer": "ipython3",
   "version": "3.11.13"
  }
 },
 "nbformat": 4,
 "nbformat_minor": 5
}
