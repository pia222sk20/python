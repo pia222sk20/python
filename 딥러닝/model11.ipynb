{
 "cells": [
  {
   "cell_type": "code",
   "execution_count": 1,
   "id": "2102d5cc",
   "metadata": {},
   "outputs": [],
   "source": [
    "# 가우스 잡음 추가 함수\n",
    "import matplotlib.pyplot as plt\n",
    "import numpy as np\n",
    "import torch\n",
    "\n",
    "from torchvision.datasets.mnist import MNIST\n",
    "from torchvision.transforms import ToTensor\n",
    "\n",
    "# 가우스 노이즈\n",
    "# noiy_pixel = original_pixel + N(u=0, e = scale)\n",
    "# 평균 = 0 : 픽셀을 전체적으로 밝히거나 어둡게 하지 않음\n",
    "# 표준편차 = sacle-> 값이 클수록 노이즈가 강해짐\n",
    "# 0.8 - > 노이즈의 양 많고.. 숫자 일부를 흐릿"
   ]
  },
  {
   "cell_type": "code",
   "execution_count": null,
   "id": "1cd2eb9f",
   "metadata": {},
   "outputs": [
    {
     "data": {
      "text/plain": [
       "array([[[0.30514661, 0.833597  , 0.22960443, 0.18257816, 0.        ,\n",
       "         1.        , 1.        , 0.20515044, 1.        , 0.        ,\n",
       "         0.46448214, 0.        , 0.        , 0.05731997, 0.34666536,\n",
       "         0.84687448, 0.        , 0.        , 0.        , 0.        ,\n",
       "         0.        , 0.18219875, 0.        , 0.        , 1.        ,\n",
       "         0.12021162, 1.        , 0.        ],\n",
       "        [0.88661863, 0.37573889, 0.        , 1.        , 1.        ,\n",
       "         0.07372879, 1.        , 0.        , 0.30278095, 0.        ,\n",
       "         0.16553861, 0.        , 0.23244621, 1.        , 1.        ,\n",
       "         0.1948915 , 0.        , 0.        , 0.        , 0.        ,\n",
       "         0.22451731, 0.        , 0.65947007, 0.        , 0.48118014,\n",
       "         0.        , 0.24356017, 0.        ],\n",
       "        [0.        , 0.4350478 , 0.        , 0.93979288, 0.37991864,\n",
       "         1.        , 0.        , 0.        , 0.        , 1.        ,\n",
       "         0.42203193, 0.        , 1.        , 0.        , 0.        ,\n",
       "         0.        , 0.04879303, 0.58198433, 0.56845124, 0.        ,\n",
       "         0.        , 0.        , 0.48764222, 0.42477537, 0.58256513,\n",
       "         0.        , 0.54368925, 0.55934886],\n",
       "        [0.45776576, 0.08387444, 0.22924487, 0.        , 0.        ,\n",
       "         0.52449242, 0.        , 0.66932331, 0.        , 0.        ,\n",
       "         0.        , 0.56236596, 0.15789313, 0.        , 0.        ,\n",
       "         0.        , 0.        , 0.90459866, 0.        , 0.        ,\n",
       "         0.        , 0.        , 1.        , 0.        , 0.1503056 ,\n",
       "         0.54590481, 0.        , 0.        ],\n",
       "        [0.        , 0.19491238, 0.        , 0.34862239, 0.23574559,\n",
       "         0.        , 0.        , 0.2784175 , 1.        , 0.        ,\n",
       "         0.15497024, 0.47047431, 0.        , 1.        , 0.12800113,\n",
       "         0.        , 0.        , 0.        , 0.28720938, 0.98608542,\n",
       "         0.        , 0.16491672, 0.        , 0.20319223, 0.22451953,\n",
       "         0.25763039, 0.        , 0.        ],\n",
       "        [0.04828334, 0.        , 0.        , 0.        , 0.        ,\n",
       "         0.36438333, 0.49993269, 0.04195787, 0.73379094, 1.        ,\n",
       "         0.        , 1.        , 0.17870272, 0.        , 0.76613442,\n",
       "         0.        , 0.        , 0.        , 0.        , 0.        ,\n",
       "         0.        , 0.        , 0.48452351, 0.        , 0.        ,\n",
       "         0.        , 0.        , 0.        ],\n",
       "        [1.        , 0.29197797, 0.13063912, 0.45802586, 0.        ,\n",
       "         0.        , 0.        , 0.56398221, 0.        , 0.44928766,\n",
       "         0.30435961, 0.        , 0.        , 0.00787312, 1.        ,\n",
       "         0.        , 1.        , 0.0836295 , 0.        , 0.74341979,\n",
       "         0.        , 0.        , 0.80521449, 0.        , 0.        ,\n",
       "         0.        , 0.        , 0.07847399],\n",
       "        [0.        , 0.        , 0.        , 0.32621867, 0.85670407,\n",
       "         0.        , 0.        , 0.        , 0.6577828 , 0.96938438,\n",
       "         0.        , 0.        , 0.        , 0.        , 0.        ,\n",
       "         0.        , 0.66782634, 0.48777152, 0.        , 0.37584973,\n",
       "         0.28174743, 0.        , 0.59091022, 1.        , 0.        ,\n",
       "         0.58920678, 0.        , 0.95680929],\n",
       "        [0.        , 1.        , 1.        , 0.        , 0.        ,\n",
       "         0.        , 0.        , 0.        , 1.        , 0.        ,\n",
       "         0.        , 0.        , 0.02219967, 0.        , 0.52630972,\n",
       "         1.        , 0.        , 0.        , 0.        , 0.        ,\n",
       "         0.6606515 , 0.75932826, 1.        , 0.        , 0.8395552 ,\n",
       "         0.        , 0.        , 0.73165715],\n",
       "        [1.        , 0.        , 0.        , 1.        , 0.47340389,\n",
       "         0.51400349, 0.3507527 , 0.        , 1.        , 0.87074921,\n",
       "         0.17036088, 0.        , 0.45118666, 0.        , 0.        ,\n",
       "         1.        , 0.58501459, 0.        , 0.        , 0.        ,\n",
       "         0.        , 0.        , 0.38270617, 0.63404319, 0.        ,\n",
       "         0.        , 0.        , 0.        ],\n",
       "        [0.        , 0.05484313, 0.        , 0.        , 0.        ,\n",
       "         0.        , 0.        , 0.85596622, 0.1269915 , 0.        ,\n",
       "         0.        , 0.01784563, 0.        , 0.        , 0.        ,\n",
       "         0.24792637, 0.        , 1.        , 1.        , 0.40886351,\n",
       "         0.        , 0.        , 0.0199311 , 0.        , 0.        ,\n",
       "         0.        , 1.        , 0.        ],\n",
       "        [0.        , 0.        , 0.        , 0.        , 0.39650102,\n",
       "         0.        , 1.        , 0.6879091 , 0.        , 0.        ,\n",
       "         0.53856398, 0.        , 0.73418508, 0.0570347 , 0.        ,\n",
       "         0.29211826, 0.96243314, 0.        , 0.        , 0.34896979,\n",
       "         0.        , 0.76693531, 0.08193519, 0.        , 0.        ,\n",
       "         1.        , 1.        , 1.        ],\n",
       "        [0.        , 0.        , 0.        , 0.44836073, 0.43644148,\n",
       "         1.        , 0.        , 0.        , 0.60095571, 0.        ,\n",
       "         0.28864895, 0.52612529, 0.        , 0.        , 0.        ,\n",
       "         0.14415099, 0.        , 0.        , 0.90589229, 0.15441961,\n",
       "         0.30568407, 0.6834966 , 0.        , 0.92577653, 0.        ,\n",
       "         0.03759359, 1.        , 0.        ],\n",
       "        [0.76247558, 0.        , 0.        , 0.        , 0.        ,\n",
       "         1.        , 0.        , 0.57862459, 0.07128406, 0.        ,\n",
       "         0.68365582, 0.        , 1.        , 0.5080983 , 0.21533233,\n",
       "         0.        , 0.        , 0.33693433, 1.        , 0.        ,\n",
       "         0.35204576, 0.60163393, 0.1304907 , 1.        , 0.11804949,\n",
       "         0.43214981, 0.        , 0.11239241],\n",
       "        [0.        , 0.        , 0.        , 0.23767355, 0.        ,\n",
       "         1.        , 0.        , 0.        , 0.296799  , 0.89760424,\n",
       "         0.12427828, 0.        , 0.0278891 , 0.93833269, 0.01895382,\n",
       "         1.        , 0.02031857, 0.45893846, 0.        , 0.46096404,\n",
       "         0.        , 0.        , 0.20869627, 0.        , 0.30102063,\n",
       "         0.30073486, 0.        , 0.43914511],\n",
       "        [0.        , 0.        , 0.        , 0.        , 0.        ,\n",
       "         0.99913408, 0.        , 0.40549703, 0.        , 0.        ,\n",
       "         0.        , 0.46829322, 1.        , 0.01851995, 0.        ,\n",
       "         0.        , 0.        , 0.59488226, 0.        , 0.        ,\n",
       "         0.93011254, 0.        , 1.        , 0.16530172, 0.        ,\n",
       "         1.        , 0.63999855, 1.        ],\n",
       "        [0.        , 0.88702253, 0.        , 0.        , 0.84963016,\n",
       "         1.        , 0.        , 0.06873183, 0.24000262, 0.        ,\n",
       "         0.        , 0.        , 0.        , 0.        , 0.10247481,\n",
       "         0.        , 1.        , 0.        , 0.        , 1.        ,\n",
       "         0.54142717, 0.        , 0.11463173, 0.        , 0.10324379,\n",
       "         0.        , 0.        , 1.        ],\n",
       "        [0.        , 0.91276353, 0.91016744, 0.        , 0.        ,\n",
       "         0.        , 0.11677684, 0.        , 1.        , 0.        ,\n",
       "         0.        , 0.        , 0.18669878, 0.78474503, 0.        ,\n",
       "         0.61090672, 0.43080284, 0.        , 0.        , 0.        ,\n",
       "         0.        , 0.        , 0.1253893 , 0.        , 0.        ,\n",
       "         0.78053449, 0.64355019, 0.        ],\n",
       "        [0.28429742, 0.12204913, 0.        , 0.        , 0.31304532,\n",
       "         0.        , 0.        , 0.        , 0.35328857, 0.2664965 ,\n",
       "         0.27512733, 0.        , 1.        , 0.        , 0.        ,\n",
       "         0.        , 0.        , 0.47256417, 0.        , 0.        ,\n",
       "         0.        , 0.56101386, 0.        , 0.09891519, 0.        ,\n",
       "         0.49587661, 0.        , 1.        ],\n",
       "        [0.        , 0.        , 0.        , 0.58567581, 0.        ,\n",
       "         0.        , 0.        , 0.        , 0.42953319, 0.        ,\n",
       "         0.        , 0.15586129, 0.91098701, 0.        , 0.        ,\n",
       "         0.        , 0.08700557, 0.24849092, 0.        , 0.80026293,\n",
       "         0.        , 0.        , 0.        , 1.        , 0.        ,\n",
       "         0.        , 0.84052148, 0.06134013],\n",
       "        [0.50760559, 0.43094956, 0.09212044, 0.08276191, 0.        ,\n",
       "         0.        , 0.52665513, 1.        , 1.        , 0.70919019,\n",
       "         0.32165696, 1.        , 1.        , 0.05087279, 0.        ,\n",
       "         0.00903655, 0.01404893, 0.        , 0.        , 0.51535215,\n",
       "         0.84888237, 0.        , 0.        , 0.        , 0.86233993,\n",
       "         0.02503755, 0.        , 0.        ],\n",
       "        [0.        , 0.57131998, 0.07003443, 0.3804123 , 0.84273829,\n",
       "         0.        , 0.        , 0.        , 0.        , 1.        ,\n",
       "         0.        , 0.29529066, 0.        , 0.        , 0.        ,\n",
       "         0.        , 0.        , 0.        , 0.        , 0.        ,\n",
       "         1.        , 0.36673796, 0.0471136 , 0.        , 0.        ,\n",
       "         0.858439  , 0.        , 0.82630018],\n",
       "        [0.        , 0.62038247, 0.465494  , 0.34410378, 0.        ,\n",
       "         0.        , 0.        , 0.        , 0.        , 0.04957817,\n",
       "         0.79076959, 0.45474645, 0.        , 0.        , 0.        ,\n",
       "         1.        , 0.10752075, 0.        , 0.81350583, 1.        ,\n",
       "         1.        , 0.42651173, 0.95704742, 0.18199493, 0.18224129,\n",
       "         1.        , 0.        , 0.17675077],\n",
       "        [0.        , 0.        , 0.18536486, 0.96272272, 0.83440246,\n",
       "         0.        , 0.        , 1.        , 0.        , 0.        ,\n",
       "         0.        , 0.039495  , 0.        , 0.        , 0.40386858,\n",
       "         0.        , 0.        , 0.        , 0.1880097 , 0.        ,\n",
       "         0.40580034, 0.        , 0.5185274 , 0.        , 0.        ,\n",
       "         0.37560686, 0.        , 0.17556553],\n",
       "        [0.        , 0.5862243 , 0.        , 0.        , 0.        ,\n",
       "         0.20490181, 0.        , 0.11862453, 1.        , 0.11061936,\n",
       "         0.        , 0.        , 0.        , 0.        , 0.        ,\n",
       "         0.70248516, 0.91553206, 0.72579099, 0.27101651, 0.        ,\n",
       "         0.        , 0.80716974, 1.        , 0.        , 0.7500458 ,\n",
       "         0.        , 0.        , 0.        ],\n",
       "        [0.32705674, 0.84007164, 0.54948639, 0.17149608, 0.        ,\n",
       "         0.        , 0.39054175, 0.08661343, 0.        , 1.        ,\n",
       "         0.        , 0.        , 0.        , 0.        , 0.        ,\n",
       "         0.        , 0.19449196, 0.        , 0.        , 0.87430089,\n",
       "         0.        , 1.        , 1.        , 0.        , 1.        ,\n",
       "         0.50279551, 0.        , 1.        ],\n",
       "        [0.        , 0.2439563 , 0.        , 0.        , 0.14460895,\n",
       "         0.65607672, 1.        , 0.45181398, 0.        , 1.        ,\n",
       "         0.        , 0.        , 0.        , 0.56182306, 0.        ,\n",
       "         0.05738208, 0.3392886 , 1.        , 1.        , 0.        ,\n",
       "         0.        , 0.        , 0.75066089, 0.15394753, 0.28436735,\n",
       "         0.        , 0.        , 0.83739071],\n",
       "        [0.56456285, 0.96679023, 0.        , 0.10943934, 0.        ,\n",
       "         0.        , 0.76924255, 0.        , 0.20903076, 0.08000384,\n",
       "         0.49671273, 1.        , 0.        , 0.        , 0.06610965,\n",
       "         0.        , 0.77259682, 0.        , 1.        , 0.51484217,\n",
       "         0.27113748, 0.87044479, 1.        , 1.        , 0.        ,\n",
       "         0.45018245, 0.45194066, 0.        ]]])"
      ]
     },
     "execution_count": 19,
     "metadata": {},
     "output_type": "execute_result"
    }
   ],
   "source": [
    "gaussian_data_x = np.random.normal(\n",
    "        loc = 0, scale =0.8, size = (1,28,28)\n",
    "    )\n",
    "gaussian_data_x.shape\n",
    "\n",
    "np.clip(gaussian_data_x, 0 , 1) "
   ]
  },
  {
   "cell_type": "code",
   "execution_count": 2,
   "id": "c8203cc5",
   "metadata": {},
   "outputs": [],
   "source": [
    "def gaussian_noise(x, scale=0.8):\n",
    "    gaussian_data_x = x +  np.random.normal(\n",
    "        loc = 0, scale =scale, size = x.shape\n",
    "    )\n",
    "    gaussian_data_x = np.clip(gaussian_data_x,0,1)  # 이미지픽셀의 값을 0과 1사이로 정규화\n",
    "    gaussian_data_x = torch.tensor(gaussian_data_x,dtype=torch.float32)\n",
    "    return gaussian_data_x"
   ]
  },
  {
   "cell_type": "code",
   "execution_count": null,
   "id": "7a2856e9",
   "metadata": {},
   "outputs": [],
   "source": [
    "traning_data = MNIST(root='./', train=True, download=True,transform=ToTensor())\n",
    "test_data = MNIST(root='./', train=False, download=True,transform=ToTensor())"
   ]
  },
  {
   "cell_type": "code",
   "execution_count": 36,
   "id": "a04c40a1",
   "metadata": {},
   "outputs": [
    {
     "name": "stdout",
     "output_type": "stream",
     "text": [
      "torch.Size([1, 28, 28])\n"
     ]
    },
    {
     "name": "stderr",
     "output_type": "stream",
     "text": [
      "C:\\Users\\playdata2\\AppData\\Local\\Temp\\ipykernel_9028\\2047172819.py:2: DeprecationWarning: __array_wrap__ must accept context and return_scalar arguments (positionally) in the future. (Deprecated NumPy 2.0)\n",
      "  gaussian_data_x = x +  np.random.normal(\n",
      "C:\\Users\\playdata2\\AppData\\Local\\Temp\\ipykernel_9028\\2047172819.py:6: UserWarning: To copy construct from a tensor, it is recommended to use sourceTensor.clone().detach() or sourceTensor.clone().detach().requires_grad_(True), rather than torch.tensor(sourceTensor).\n",
      "  gaussian_data_x = torch.tensor(gaussian_data_x,dtype=torch.float32)\n"
     ]
    },
    {
     "data": {
      "text/plain": [
       "<matplotlib.image.AxesImage at 0x21027b9db90>"
      ]
     },
     "execution_count": 36,
     "metadata": {},
     "output_type": "execute_result"
    },
    {
     "data": {
      "image/png": "[encoded data removed]",
      "text/plain": [
       "<Figure size 640x480 with 2 Axes>"
      ]
     },
     "metadata": {},
     "output_type": "display_data"
    }
   ],
   "source": [
    "img,label = next(iter(traning_data))\n",
    "print(img.shape)\n",
    "gaussian = gaussian_noise(img)\n",
    "img = img.permute(1,2,0)\n",
    "gaussian = gaussian.permute(1,2,0)\n",
    "plt.subplot(1,2,1)\n",
    "plt.imshow(img,cmap='gray')\n",
    "plt.subplot(1,2,2)\n",
    "plt.imshow(gaussian,cmap='gray')"
   ]
  },
  {
   "cell_type": "code",
   "execution_count": 28,
   "id": "cf92f6e0",
   "metadata": {},
   "outputs": [
    {
     "name": "stdout",
     "output_type": "stream",
     "text": [
      "<class 'torch.Tensor'> torch.Size([1, 28, 28])\n"
     ]
    },
    {
     "name": "stderr",
     "output_type": "stream",
     "text": [
      "C:\\Users\\playdata2\\AppData\\Local\\Temp\\ipykernel_9028\\2047172819.py:2: DeprecationWarning: __array_wrap__ must accept context and return_scalar arguments (positionally) in the future. (Deprecated NumPy 2.0)\n",
      "  gaussian_data_x = x +  np.random.normal(\n",
      "C:\\Users\\playdata2\\AppData\\Local\\Temp\\ipykernel_9028\\2047172819.py:6: UserWarning: To copy construct from a tensor, it is recommended to use sourceTensor.clone().detach() or sourceTensor.clone().detach().requires_grad_(True), rather than torch.tensor(sourceTensor).\n",
      "  gaussian_data_x = torch.tensor(gaussian_data_x,dtype=torch.float32)\n"
     ]
    }
   ],
   "source": [
    "for data, label in traning_data:\n",
    "    noisy = gaussian_noise(data)\n",
    "    print(type(noisy), noisy.size())\n",
    "    break"
   ]
  },
  {
   "cell_type": "code",
   "execution_count": 60,
   "id": "a875b7cd",
   "metadata": {},
   "outputs": [],
   "source": [
    "# 학습용 데이터셋\n",
    "from torch.utils.data.dataset import Dataset\n",
    "class Denoise(Dataset):\n",
    "    def __init__(self):\n",
    "        self.mnist = MNIST(root='./', train=True, download=True,transform=ToTensor())\n",
    "        self.data = []\n",
    "        # 잡음 입히기\n",
    "        for data, label in self.mnist:\n",
    "            noisy =  gaussian_noise(data)  # 0 ~ 1사이로 맞춤\n",
    "            self.data.append(noisy) # (1, 28, 28)\n",
    "    def __len__(self):\n",
    "        return len(self.data)\n",
    "    def __getitem__(self, index):\n",
    "        data = self.data[index]\n",
    "        label = self.mnist.data[index] / 255  # 원본이미지도 0 ~1 정규화\n",
    "        return data, label"
   ]
  },
  {
   "cell_type": "code",
   "execution_count": 33,
   "id": "88152369",
   "metadata": {},
   "outputs": [],
   "source": [
    "# 합성곱 기본 블럭\n",
    "import torch.nn as nn\n",
    "# conv-relu-conv-relu\n",
    "class BasicBlock(nn.Module):\n",
    "    def __init__(self, in_channel, out_channel,hidden_channel):\n",
    "        super(BasicBlock,self).__init__()\n",
    "        self.model = nn.Sequential(\n",
    "            nn.Conv2d(in_channel, hidden_channel,kernel_size=3,padding=1),\n",
    "            nn.ReLU(),\n",
    "            nn.Conv2d(hidden_channel, out_channel,kernel_size=3,padding=1),\n",
    "            nn.ReLU()\n",
    "        )\n",
    "    def forward(self,x):\n",
    "        return self.model(x)"
   ]
  },
  {
   "cell_type": "code",
   "execution_count": 35,
   "id": "01d998db",
   "metadata": {},
   "outputs": [
    {
     "data": {
      "text/plain": [
       "torch.Size([1, 20, 28, 28])"
      ]
     },
     "execution_count": 35,
     "metadata": {},
     "output_type": "execute_result"
    }
   ],
   "source": [
    "sample_data = torch.randn(1,1,28,28)\n",
    "sample_model = BasicBlock(1,20,10)\n",
    "sample_model(sample_data).size()"
   ]
  },
  {
   "cell_type": "code",
   "execution_count": 43,
   "id": "eaac5732",
   "metadata": {},
   "outputs": [],
   "source": [
    "class Encoder(nn.Module):\n",
    "    def __init__(self):\n",
    "        super(Encoder,self).__init__()\n",
    "        self.conv1 = BasicBlock(1,16,16)\n",
    "        self.conv2 = BasicBlock(16,8,8)\n",
    "        self.pool = nn.AvgPool2d(2)\n",
    "    def forward(self, x):\n",
    "        x = self.pool(self.conv1(x)) # 1,16,14,41\n",
    "        out = self.pool(self.conv2(x)) # 1, 8,7,7\n",
    "        return out"
   ]
  },
  {
   "cell_type": "code",
   "execution_count": 46,
   "id": "70d2cdbd",
   "metadata": {},
   "outputs": [],
   "source": [
    "sample_data = torch.randn(1,1,28,28)\n",
    "temp_encoder = Encoder()\n",
    "result_encoder = temp_encoder(sample_data)"
   ]
  },
  {
   "cell_type": "code",
   "execution_count": 38,
   "id": "6c151054",
   "metadata": {},
   "outputs": [],
   "source": [
    "class Decoder(nn.Module):\n",
    "    def __init__(self):\n",
    "        super(Decoder,self).__init__()\n",
    "        self.conv1 = BasicBlock(8,8,8)\n",
    "        self.conv2 = BasicBlock(8,16,16)\n",
    "        # 출력층\n",
    "        self.conv3 = nn.Conv2d(16,1,kernel_size=3,padding=1)\n",
    "\n",
    "        # 업셈플링 층\n",
    "        self.upsampling1 = nn.ConvTranspose2d(8,8,kernel_size=2, stride=2)\n",
    "        self.upsampling2 = nn.ConvTranspose2d(16,16,kernel_size=2, stride=2)\n",
    "    def forward(self,x):\n",
    "        x = self.upsampling1(self.conv1(x))\n",
    "        x = self.upsampling2(self.conv2(x))\n",
    "        out = self.conv3(x)\n",
    "        return out"
   ]
  },
  {
   "cell_type": "code",
   "execution_count": 48,
   "id": "a3150509",
   "metadata": {},
   "outputs": [
    {
     "data": {
      "text/plain": [
       "torch.Size([1, 1, 28, 28])"
      ]
     },
     "execution_count": 48,
     "metadata": {},
     "output_type": "execute_result"
    }
   ],
   "source": [
    "d = Decoder()\n",
    "d(result_encoder).size()"
   ]
  },
  {
   "cell_type": "code",
   "execution_count": 49,
   "id": "f61d11bf",
   "metadata": {},
   "outputs": [],
   "source": [
    "# CAE 오토인코더\n",
    "# 인코더와 디코더를 연결 : 인코더의 출력을 디코더의 입력으로 제공\n",
    "class CAE(nn.Module):\n",
    "    def __init__(self):\n",
    "        super(CAE,self).__init__()\n",
    "        self.enc = Encoder()\n",
    "        self.dec = Decoder()\n",
    "    def forward(self, x):\n",
    "        x = self.enc(x)\n",
    "        x = self.dec(x)\n",
    "        return x"
   ]
  },
  {
   "cell_type": "code",
   "execution_count": 61,
   "id": "371118f2",
   "metadata": {},
   "outputs": [
    {
     "name": "stderr",
     "output_type": "stream",
     "text": [
      "C:\\Users\\playdata2\\AppData\\Local\\Temp\\ipykernel_9028\\2047172819.py:2: DeprecationWarning: __array_wrap__ must accept context and return_scalar arguments (positionally) in the future. (Deprecated NumPy 2.0)\n",
      "  gaussian_data_x = x +  np.random.normal(\n",
      "C:\\Users\\playdata2\\AppData\\Local\\Temp\\ipykernel_9028\\2047172819.py:6: UserWarning: To copy construct from a tensor, it is recommended to use sourceTensor.clone().detach() or sourceTensor.clone().detach().requires_grad_(True), rather than torch.tensor(sourceTensor).\n",
      "  gaussian_data_x = torch.tensor(gaussian_data_x,dtype=torch.float32)\n"
     ]
    }
   ],
   "source": [
    "from tqdm import tqdm\n",
    "from torch.optim.adam import Adam\n",
    "from torch.utils.data.dataloader import DataLoader\n",
    "from torch.optim.adam import Adam\n",
    "device = \"cuda\" if torch.cuda.is_available() else 'cpu'\n",
    "train_dataset = Denoise()\n",
    "train_loader = DataLoader(train_dataset,batch_size=32)\n",
    "model = CAE().to(device)\n",
    "optim = Adam(model.parameters(), lr = 1e-3)"
   ]
  },
  {
   "cell_type": "code",
   "execution_count": 62,
   "id": "5818c0d2",
   "metadata": {},
   "outputs": [
    {
     "data": {
      "text/plain": [
       "(torch.Size([1, 28, 28]), torch.Size([28, 28]))"
      ]
     },
     "execution_count": 62,
     "metadata": {},
     "output_type": "execute_result"
    }
   ],
   "source": [
    "data, label = next(iter(train_dataset))\n",
    "data.size(), label.size()"
   ]
  },
  {
   "cell_type": "code",
   "execution_count": 63,
   "id": "285d4e91",
   "metadata": {},
   "outputs": [
    {
     "data": {
      "text/plain": [
       "torch.Size([32, 1, 28, 28])"
      ]
     },
     "execution_count": 63,
     "metadata": {},
     "output_type": "execute_result"
    }
   ],
   "source": [
    "data, label = next(iter(train_loader))\n",
    "data.size()"
   ]
  },
  {
   "cell_type": "code",
   "execution_count": null,
   "id": "80cc9ba4",
   "metadata": {},
   "outputs": [
    {
     "name": "stderr",
     "output_type": "stream",
     "text": [
      "100%|██████████| 1875/1875 [01:12<00:00, 25.77it/s, loss=0.0661]\n",
      "100%|██████████| 1875/1875 [01:04<00:00, 28.96it/s, loss=0.0644]\n"
     ]
    }
   ],
   "source": [
    "criterian = nn.MSELoss()\n",
    "for epoch in range(2):\n",
    "    loop = tqdm(train_loader)\n",
    "    for data, label in loop:\n",
    "        optim.zero_grad()\n",
    "        data,label = data.to(device), label.to(device)\n",
    "        pred = model(data)\n",
    "        loss = criterian(pred, label)\n",
    "        loss.backward()\n",
    "        optim.step()\n",
    "\n",
    "        loop.set_postfix({'loss':f'{loss.item():.4f}'})\n",
    "torch.save(model.state_dict(), 'CAE.pth')\n"
   ]
  },
  {
   "cell_type": "code",
   "execution_count": 67,
   "id": "f687dc33",
   "metadata": {},
   "outputs": [
    {
     "name": "stderr",
     "output_type": "stream",
     "text": [
      "C:\\Users\\playdata2\\AppData\\Local\\Temp\\ipykernel_9028\\1445865355.py:1: FutureWarning: You are using `torch.load` with `weights_only=False` (the current default value), which uses the default pickle module implicitly. It is possible to construct malicious pickle data which will execute arbitrary code during unpickling (See https://github.com/pytorch/pytorch/blob/main/SECURITY.md#untrusted-models for more details). In a future release, the default value for `weights_only` will be flipped to `True`. This limits the functions that could be executed during unpickling. Arbitrary objects will no longer be allowed to be loaded via this mode unless they are explicitly allowlisted by the user via `torch.serialization.add_safe_globals`. We recommend you start setting `weights_only=True` for any use case where you don't have full control of the loaded file. Please open an issue on GitHub for any issues related to this experimental feature.\n",
      "  model.load_state_dict(torch.load('CAE.pth', map_location=device))\n"
     ]
    },
    {
     "data": {
      "text/plain": [
       "<All keys matched successfully>"
      ]
     },
     "execution_count": 67,
     "metadata": {},
     "output_type": "execute_result"
    }
   ],
   "source": [
    "model.load_state_dict(torch.load('CAE.pth', map_location=device))"
   ]
  },
  {
   "cell_type": "code",
   "execution_count": 84,
   "id": "a870b304",
   "metadata": {},
   "outputs": [
    {
     "name": "stderr",
     "output_type": "stream",
     "text": [
      "C:\\Users\\playdata2\\AppData\\Local\\Temp\\ipykernel_9028\\2047172819.py:2: DeprecationWarning: __array_wrap__ must accept context and return_scalar arguments (positionally) in the future. (Deprecated NumPy 2.0)\n",
      "  gaussian_data_x = x +  np.random.normal(\n",
      "C:\\Users\\playdata2\\AppData\\Local\\Temp\\ipykernel_9028\\2047172819.py:6: UserWarning: To copy construct from a tensor, it is recommended to use sourceTensor.clone().detach() or sourceTensor.clone().detach().requires_grad_(True), rather than torch.tensor(sourceTensor).\n",
      "  gaussian_data_x = torch.tensor(gaussian_data_x,dtype=torch.float32)\n"
     ]
    }
   ],
   "source": [
    "sample = test_data.data[0]\n",
    "sample_noise = gaussian_noise(sample).unsqueeze(0)\n",
    "predict = model(sample_noise)\n",
    "predict = predict.permute(1,2,0)\n",
    "predict = predict.detach().numpy()"
   ]
  },
  {
   "cell_type": "code",
   "execution_count": 89,
   "id": "166a67d7",
   "metadata": {},
   "outputs": [
    {
     "data": {
      "text/plain": [
       "<matplotlib.image.AxesImage at 0x21030449f10>"
      ]
     },
     "execution_count": 89,
     "metadata": {},
     "output_type": "execute_result"
    },
    {
     "data": {
      "image/png": "[encoded data removed]",
      "text/plain": [
       "<Figure size 640x480 with 3 Axes>"
      ]
     },
     "metadata": {},
     "output_type": "display_data"
    }
   ],
   "source": [
    "plt.subplot(1,3,1)\n",
    "plt.imshow(sample)\n",
    "plt.subplot(1,3,2)\n",
    "plt.imshow(sample_noise.squeeze(0))\n",
    "plt.subplot(1,3,3)\n",
    "plt.imshow(predict)"
   ]
  }
 ],
 "metadata": {
  "kernelspec": {
   "display_name": "deep",
   "language": "python",
   "name": "python3"
  },
  "language_info": {
   "codemirror_mode": {
    "name": "ipython",
    "version": 3
   },
   "file_extension": ".py",
   "mimetype": "text/x-python",
   "name": "python",
   "nbconvert_exporter": "python",
   "pygments_lexer": "ipython3",
   "version": "3.11.13"
  }
 },
 "nbformat": 4,
 "nbformat_minor": 5
}
