{
 "cells": [
  {
   "cell_type": "code",
   "execution_count": null,
   "id": "b74a6e9a",
   "metadata": {},
   "outputs": [],
   "source": [
    "%pip install tensorflow"
   ]
  },
  {
   "cell_type": "code",
   "execution_count": null,
   "id": "086e7f80",
   "metadata": {},
   "outputs": [],
   "source": [
    "# VGGNet\n",
    "from tensorflow import keras\n",
    "import numpy as np\n",
    "from PIL import Image\n",
    "from tensorflow.keras.applications import vgg16\n",
    "\n",
    "cat_img = Image.open('C:\\\\python_src2\\\\cat-dog-images\\\\images\\\\cat.png')\n",
    "display(cat_img)\n",
    "cat_array = np.array(cat_img)\n",
    "\n",
    "vggnet = keras.applications.VGG16()\n",
    "vgg_prep_cat =  vgg16.preprocess_input(cat_array)\n",
    "\n",
    "cat_array[np.newaxis, :].shape  # tensor unsqueeze() 와 동일"
   ]
  }
 ],
 "metadata": {
  "kernelspec": {
   "display_name": "Python 3",
   "language": "python",
   "name": "python3"
  },
  "language_info": {
   "codemirror_mode": {
    "name": "ipython",
    "version": 3
   },
   "file_extension": ".py",
   "mimetype": "text/x-python",
   "name": "python",
   "nbconvert_exporter": "python",
   "pygments_lexer": "ipython3",
   "version": "3.13.7"
  }
 },
 "nbformat": 4,
 "nbformat_minor": 5
}
