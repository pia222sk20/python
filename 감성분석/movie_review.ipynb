{
 "cells": [
  {
   "cell_type": "markdown",
   "id": "3626f560",
   "metadata": {},
   "source": [
    "#### 감성분석 -> 머신러닝\n",
    "    - 데이터셋 : 전처리\n",
    "    - BoW 모델\n",
    "        - 단어를 특성 벡터로 변환\n",
    "        - tf-idf 단어 적합성 평가\n",
    "        - 텍스트 데이터 정제\n",
    "        - 문서를 토큰으로 나누기\n",
    "    - LogisticRegession"
   ]
  },
  {
   "cell_type": "code",
   "execution_count": 1,
   "id": "c2fe3e39",
   "metadata": {},
   "outputs": [],
   "source": [
    "# 데이터 셋\n",
    "# http://ai.stanford.edu/~amaas/data/sentiment/aclImdb_v1.tar.gz"
   ]
  },
  {
   "cell_type": "code",
   "execution_count": 2,
   "id": "dfc111c0",
   "metadata": {},
   "outputs": [
    {
     "data": {
      "text/html": [
       "<div>\n",
       "<style scoped>\n",
       "    .dataframe tbody tr th:only-of-type {\n",
       "        vertical-align: middle;\n",
       "    }\n",
       "\n",
       "    .dataframe tbody tr th {\n",
       "        vertical-align: top;\n",
       "    }\n",
       "\n",
       "    .dataframe thead th {\n",
       "        text-align: right;\n",
       "    }\n",
       "</style>\n",
       "<table border=\"1\" class=\"dataframe\">\n",
       "  <thead>\n",
       "    <tr style=\"text-align: right;\">\n",
       "      <th></th>\n",
       "      <th>review</th>\n",
       "      <th>target</th>\n",
       "    </tr>\n",
       "  </thead>\n",
       "  <tbody>\n",
       "    <tr>\n",
       "      <th>0</th>\n",
       "      <td>Story of a man who has unnatural feelings for ...</td>\n",
       "      <td>0</td>\n",
       "    </tr>\n",
       "    <tr>\n",
       "      <th>1</th>\n",
       "      <td>Airport '77 starts as a brand new luxury 747 p...</td>\n",
       "      <td>0</td>\n",
       "    </tr>\n",
       "    <tr>\n",
       "      <th>2</th>\n",
       "      <td>This film lacked something I couldn't put my f...</td>\n",
       "      <td>0</td>\n",
       "    </tr>\n",
       "    <tr>\n",
       "      <th>3</th>\n",
       "      <td>Sorry everyone,,, I know this is supposed to b...</td>\n",
       "      <td>0</td>\n",
       "    </tr>\n",
       "    <tr>\n",
       "      <th>4</th>\n",
       "      <td>When I was little my parents took me along to ...</td>\n",
       "      <td>0</td>\n",
       "    </tr>\n",
       "  </tbody>\n",
       "</table>\n",
       "</div>"
      ],
      "text/plain": [
       "                                              review  target\n",
       "0  Story of a man who has unnatural feelings for ...       0\n",
       "1  Airport '77 starts as a brand new luxury 747 p...       0\n",
       "2  This film lacked something I couldn't put my f...       0\n",
       "3  Sorry everyone,,, I know this is supposed to b...       0\n",
       "4  When I was little my parents took me along to ...       0"
      ]
     },
     "execution_count": 2,
     "metadata": {},
     "output_type": "execute_result"
    }
   ],
   "source": [
    "import pandas as pd\n",
    "from glob import glob\n",
    "file_lists = glob('C:\\\\python_src2\\\\data\\\\movie\\\\train\\\\neg\\\\*.txt')\n",
    "pd_lists = []\n",
    "for file_path in file_lists[:500]:\n",
    "    with open(file_path,'r',encoding='utf-8') as f:\n",
    "        data = {\n",
    "            'review' : f.read(),\n",
    "            'target' : 0\n",
    "        }\n",
    "        df = pd.DataFrame([data])\n",
    "        pd_lists.append(df)\n",
    "train_neg_df = pd.concat(pd_lists,ignore_index=True)\n",
    "train_neg_df.head()"
   ]
  },
  {
   "cell_type": "code",
   "execution_count": 3,
   "id": "8f5b4808",
   "metadata": {},
   "outputs": [
    {
     "data": {
      "text/html": [
       "<div>\n",
       "<style scoped>\n",
       "    .dataframe tbody tr th:only-of-type {\n",
       "        vertical-align: middle;\n",
       "    }\n",
       "\n",
       "    .dataframe tbody tr th {\n",
       "        vertical-align: top;\n",
       "    }\n",
       "\n",
       "    .dataframe thead th {\n",
       "        text-align: right;\n",
       "    }\n",
       "</style>\n",
       "<table border=\"1\" class=\"dataframe\">\n",
       "  <thead>\n",
       "    <tr style=\"text-align: right;\">\n",
       "      <th></th>\n",
       "      <th>review</th>\n",
       "      <th>target</th>\n",
       "    </tr>\n",
       "  </thead>\n",
       "  <tbody>\n",
       "    <tr>\n",
       "      <th>0</th>\n",
       "      <td>Bromwell High is a cartoon comedy. It ran at t...</td>\n",
       "      <td>1</td>\n",
       "    </tr>\n",
       "    <tr>\n",
       "      <th>1</th>\n",
       "      <td>Homelessness (or Houselessness as George Carli...</td>\n",
       "      <td>1</td>\n",
       "    </tr>\n",
       "    <tr>\n",
       "      <th>2</th>\n",
       "      <td>Brilliant over-acting by Lesley Ann Warren. Be...</td>\n",
       "      <td>1</td>\n",
       "    </tr>\n",
       "    <tr>\n",
       "      <th>3</th>\n",
       "      <td>This is easily the most underrated film inn th...</td>\n",
       "      <td>1</td>\n",
       "    </tr>\n",
       "    <tr>\n",
       "      <th>4</th>\n",
       "      <td>This is not the typical Mel Brooks film. It wa...</td>\n",
       "      <td>1</td>\n",
       "    </tr>\n",
       "  </tbody>\n",
       "</table>\n",
       "</div>"
      ],
      "text/plain": [
       "                                              review  target\n",
       "0  Bromwell High is a cartoon comedy. It ran at t...       1\n",
       "1  Homelessness (or Houselessness as George Carli...       1\n",
       "2  Brilliant over-acting by Lesley Ann Warren. Be...       1\n",
       "3  This is easily the most underrated film inn th...       1\n",
       "4  This is not the typical Mel Brooks film. It wa...       1"
      ]
     },
     "execution_count": 3,
     "metadata": {},
     "output_type": "execute_result"
    }
   ],
   "source": [
    "# postive  동일하게   train_pos_df\n",
    "# train_df = pd.concat([train_nag_df, train_pos_df])\n",
    "# movie_data.csv로 저장\n",
    "\n",
    "file_lists = glob('C:\\\\python_src2\\\\data\\\\movie\\\\train\\\\pos\\\\*.txt')\n",
    "pd_lists = []\n",
    "for file_path in file_lists[:500]:\n",
    "    with open(file_path,'r',encoding='utf-8') as f:\n",
    "        data = {\n",
    "            'review' : f.read(),\n",
    "            'target' : 1\n",
    "        }\n",
    "        df = pd.DataFrame([data])\n",
    "        pd_lists.append(df)\n",
    "train_pos_df = pd.concat(pd_lists,ignore_index=True)\n",
    "train_pos_df.head()"
   ]
  },
  {
   "cell_type": "code",
   "execution_count": 4,
   "id": "bacfae5e",
   "metadata": {},
   "outputs": [
    {
     "data": {
      "text/html": [
       "<div>\n",
       "<style scoped>\n",
       "    .dataframe tbody tr th:only-of-type {\n",
       "        vertical-align: middle;\n",
       "    }\n",
       "\n",
       "    .dataframe tbody tr th {\n",
       "        vertical-align: top;\n",
       "    }\n",
       "\n",
       "    .dataframe thead th {\n",
       "        text-align: right;\n",
       "    }\n",
       "</style>\n",
       "<table border=\"1\" class=\"dataframe\">\n",
       "  <thead>\n",
       "    <tr style=\"text-align: right;\">\n",
       "      <th></th>\n",
       "      <th>review</th>\n",
       "      <th>target</th>\n",
       "    </tr>\n",
       "  </thead>\n",
       "  <tbody>\n",
       "    <tr>\n",
       "      <th>0</th>\n",
       "      <td>Bromwell High is a cartoon comedy. It ran at t...</td>\n",
       "      <td>1</td>\n",
       "    </tr>\n",
       "    <tr>\n",
       "      <th>1</th>\n",
       "      <td>Homelessness (or Houselessness as George Carli...</td>\n",
       "      <td>1</td>\n",
       "    </tr>\n",
       "    <tr>\n",
       "      <th>2</th>\n",
       "      <td>Brilliant over-acting by Lesley Ann Warren. Be...</td>\n",
       "      <td>1</td>\n",
       "    </tr>\n",
       "    <tr>\n",
       "      <th>3</th>\n",
       "      <td>This is easily the most underrated film inn th...</td>\n",
       "      <td>1</td>\n",
       "    </tr>\n",
       "    <tr>\n",
       "      <th>4</th>\n",
       "      <td>This is not the typical Mel Brooks film. It wa...</td>\n",
       "      <td>1</td>\n",
       "    </tr>\n",
       "  </tbody>\n",
       "</table>\n",
       "</div>"
      ],
      "text/plain": [
       "                                              review  target\n",
       "0  Bromwell High is a cartoon comedy. It ran at t...       1\n",
       "1  Homelessness (or Houselessness as George Carli...       1\n",
       "2  Brilliant over-acting by Lesley Ann Warren. Be...       1\n",
       "3  This is easily the most underrated film inn th...       1\n",
       "4  This is not the typical Mel Brooks film. It wa...       1"
      ]
     },
     "execution_count": 4,
     "metadata": {},
     "output_type": "execute_result"
    }
   ],
   "source": [
    "train_df = pd.concat([ train_pos_df,  train_neg_df ],ignore_index=True)\n",
    "train_df.head()"
   ]
  },
  {
   "cell_type": "code",
   "execution_count": 5,
   "id": "8b56b425",
   "metadata": {},
   "outputs": [],
   "source": [
    "train_df.to_csv(\"movie_data.csv\", index=False, encoding='utf-8')"
   ]
  },
  {
   "cell_type": "code",
   "execution_count": 6,
   "id": "da7dad47",
   "metadata": {},
   "outputs": [
    {
     "data": {
      "text/html": [
       "<div>\n",
       "<style scoped>\n",
       "    .dataframe tbody tr th:only-of-type {\n",
       "        vertical-align: middle;\n",
       "    }\n",
       "\n",
       "    .dataframe tbody tr th {\n",
       "        vertical-align: top;\n",
       "    }\n",
       "\n",
       "    .dataframe thead th {\n",
       "        text-align: right;\n",
       "    }\n",
       "</style>\n",
       "<table border=\"1\" class=\"dataframe\">\n",
       "  <thead>\n",
       "    <tr style=\"text-align: right;\">\n",
       "      <th></th>\n",
       "      <th>review</th>\n",
       "      <th>target</th>\n",
       "    </tr>\n",
       "  </thead>\n",
       "  <tbody>\n",
       "    <tr>\n",
       "      <th>0</th>\n",
       "      <td>Bromwell High is a cartoon comedy. It ran at t...</td>\n",
       "      <td>1</td>\n",
       "    </tr>\n",
       "    <tr>\n",
       "      <th>1</th>\n",
       "      <td>Homelessness (or Houselessness as George Carli...</td>\n",
       "      <td>1</td>\n",
       "    </tr>\n",
       "    <tr>\n",
       "      <th>2</th>\n",
       "      <td>Brilliant over-acting by Lesley Ann Warren. Be...</td>\n",
       "      <td>1</td>\n",
       "    </tr>\n",
       "    <tr>\n",
       "      <th>3</th>\n",
       "      <td>This is easily the most underrated film inn th...</td>\n",
       "      <td>1</td>\n",
       "    </tr>\n",
       "    <tr>\n",
       "      <th>4</th>\n",
       "      <td>This is not the typical Mel Brooks film. It wa...</td>\n",
       "      <td>1</td>\n",
       "    </tr>\n",
       "  </tbody>\n",
       "</table>\n",
       "</div>"
      ],
      "text/plain": [
       "                                              review  target\n",
       "0  Bromwell High is a cartoon comedy. It ran at t...       1\n",
       "1  Homelessness (or Houselessness as George Carli...       1\n",
       "2  Brilliant over-acting by Lesley Ann Warren. Be...       1\n",
       "3  This is easily the most underrated film inn th...       1\n",
       "4  This is not the typical Mel Brooks film. It wa...       1"
      ]
     },
     "execution_count": 6,
     "metadata": {},
     "output_type": "execute_result"
    }
   ],
   "source": [
    "df = pd.read_csv('movie_data.csv')\n",
    "df.head()"
   ]
  },
  {
   "cell_type": "code",
   "execution_count": 7,
   "id": "99b255bb",
   "metadata": {},
   "outputs": [],
   "source": [
    "# BoW(Bag of Words) 모델\n",
    "# 문자를 숫자벡터\n",
    "# 단어의 등장횟수를 카운트\n",
    "\n",
    "# 전체 훈련데이터에서 모든 고유한 단어(토큰)로 어휘 사전\n",
    "# 각 문서(리뷰데이터)를 사전을 기준으로 벡터화  N번째단어가 문서에서 3번나오면 벡터의 N번째값이 3이 된다.\n",
    "# 문서1 : \"나는 영화가 좋다\"\n",
    "# 문서2 : \"나는 영화가 싫다\"\n",
    "# 사전 : {'나는':0, '영화가':1,'좋다':2,'싫다':3}\n",
    "# 벡터화는 사전의 크기만큼 모든 문장의 길이를 동일하게\n",
    "# 문서1벡터 : [0,1,2] - > [1,1,1,0]\n",
    "# 문서2벡터 : [0,1,3] - > [1,1,0,1]"
   ]
  },
  {
   "cell_type": "code",
   "execution_count": 8,
   "id": "746e56de",
   "metadata": {},
   "outputs": [],
   "source": [
    "import numpy as np\n",
    "from sklearn.feature_extraction.text import CountVectorizer\n",
    "count = CountVectorizer()\n",
    "docs = np.array([\n",
    "    \"The sun is shining\",\n",
    "    \"The weather is sweet\"\n",
    "])\n",
    "bag = count.fit_transform(docs)"
   ]
  },
  {
   "cell_type": "code",
   "execution_count": 9,
   "id": "efae2574",
   "metadata": {},
   "outputs": [
    {
     "data": {
      "text/plain": [
       "{'the': 4, 'sun': 2, 'is': 0, 'shining': 1, 'weather': 5, 'sweet': 3}"
      ]
     },
     "execution_count": 9,
     "metadata": {},
     "output_type": "execute_result"
    }
   ],
   "source": [
    "count.vocabulary_"
   ]
  },
  {
   "cell_type": "code",
   "execution_count": 10,
   "id": "be7942eb",
   "metadata": {},
   "outputs": [],
   "source": [
    "# 문서 d에 등장한 단어 t의 횟수를 tf(t,d)\n",
    "# BoW를 보완하면서 좀더 정교환 텍스트 벡터화 방식  TF-IDF(Term Frequency -Inverse Document Frequency)\n",
    "# TF : 특정문서에서 자주 등장하는 단어\n",
    "# IDF : 전체문서에 드물게 등장하는 단어\n",
    "# 특정문서에서 자주 등장하지만 전체 문장에서 드물게 등장하는 단어에 높은 가중치를 부여 - 그 문장을 잘 대표하는 핵심 단어를 찾는다\n",
    "# TF(t,d)  단어 t가 문장 d에 나타난 횟수 / 문서d의 모든 단어수\n",
    "# IDF(t,D) : log( 총 문서수|D| / 단어 t를 포함한 문서의수 df(t) )  -- log 단어의 희귀성을 너무 과하게 반영하지 않도록 스케일링\n",
    "# 분모에 + 1(사이킷런의 경우) :  분모가 0되는 것을 방지\n",
    "# log( 1+ |D| / 1+df(f)  )\n",
    "\n",
    "#TF-IDF(t,d,D) = TF(t,d) x IDF(t,D)\n",
    "\n",
    "# \"나는\"\n",
    "# TF : 리뷰에 3번 나옴 (높음)\n",
    "# IDF : 전체 10,000개 리뷰중에 9000개 나옴(매우 낮음)\n",
    "# tf-idf  높음 x 매우낮음 = 낮음(중요도가 낮음)\n",
    "\n",
    "# \"명작\" TF : 리뷰에 2번 나옴 (높음)\n",
    "# IDF : 전체 10,000개 리뷰중에 50개 나옴(매우 높음)\n",
    "# tf-idf  높음 x 매우높음 = 높음(핵심단어)\n"
   ]
  },
  {
   "cell_type": "code",
   "execution_count": 11,
   "id": "ac920f89",
   "metadata": {},
   "outputs": [
    {
     "data": {
      "text/plain": [
       "'Bromwell High is a cartoon comedy. It ran at the same time as some other programs about school life, such as \"Teachers\". My 35 years in the teaching profession lead me to believe that Bromwell High\\'s satire is much closer to reality than is \"Teachers\". The scramble to survive financially, the insightful students who can see right through their pathetic teachers\\' pomp, the pettiness of the whole situation, all remind me of the schools I knew and their students. When I saw the episode in which a student repeatedly tried to burn down the school, I immediately recalled ......... at .......... High. A classic line: INSPECTOR: I\\'m here to sack one of your teachers. STUDENT: Welcome to Bromwell High. I expect that many adults of my age think that Bromwell High is far fetched. What a pity that it isn\\'t!'"
      ]
     },
     "execution_count": 11,
     "metadata": {},
     "output_type": "execute_result"
    }
   ],
   "source": [
    "df.review[0]"
   ]
  },
  {
   "cell_type": "code",
   "execution_count": 12,
   "id": "e37c9d0c",
   "metadata": {},
   "outputs": [],
   "source": [
    "# 데이터 정재... html tag 와 같은 불필요한 string이 보임... 특수기호 기타등등.  < - ' \n",
    "import re\n",
    "def preprocessor(s):\n",
    "    # 1. 영문, 공백, ., , 만 남기기\n",
    "    clean = re.sub(r'[^A-Za-z\\s.,]+', '', s)\n",
    "    # 2. 연속된 마침표(...)를 마침표 하나로\n",
    "    clean = re.sub(r'\\.{2,}', '.', clean)\n",
    "    # 3. 연속된 공백 정리\n",
    "    clean = re.sub(r'\\s+', ' ', clean).strip()\n",
    "    return clean"
   ]
  },
  {
   "cell_type": "code",
   "execution_count": 13,
   "id": "a9ce8661",
   "metadata": {},
   "outputs": [],
   "source": [
    "df['review'] = df.review.apply(preprocessor)"
   ]
  },
  {
   "cell_type": "code",
   "execution_count": 14,
   "id": "39063fcb",
   "metadata": {},
   "outputs": [],
   "source": [
    "# 문서를 토큰으로 나누기\n",
    "# %pip install nltk\n",
    "# %conda install -c conda-forge nltk"
   ]
  },
  {
   "cell_type": "code",
   "execution_count": 21,
   "id": "a951c1cb",
   "metadata": {},
   "outputs": [
    {
     "data": {
      "text/plain": [
       "['Bromwell',\n",
       " 'High',\n",
       " 'is',\n",
       " 'a',\n",
       " 'cartoon',\n",
       " 'comedy.',\n",
       " 'It',\n",
       " 'ran',\n",
       " 'at',\n",
       " 'the',\n",
       " 'same',\n",
       " 'time',\n",
       " 'as',\n",
       " 'some',\n",
       " 'other',\n",
       " 'programs',\n",
       " 'about',\n",
       " 'school',\n",
       " 'life,']"
      ]
     },
     "execution_count": 21,
     "metadata": {},
     "output_type": "execute_result"
    }
   ],
   "source": [
    "from nltk.stem.porter import PorterStemmer\n",
    "\n",
    "def tokenizer(text):\n",
    "    return text.split()\n",
    "\n",
    "porter = PorterStemmer()\n",
    "def tokenizer_porter(text):\n",
    "    return [porter.stem(word) for word in text.split()]\n",
    "\n",
    "# 어간추출 Stemming  단어의 접미사 -s -es -ing -ed 등등.. 를 강제로 제거해서 단어의 원형을 찾는과정\n",
    "tokenizer(df.review[0][:100])"
   ]
  },
  {
   "cell_type": "code",
   "execution_count": 23,
   "id": "b0b91b19",
   "metadata": {},
   "outputs": [
    {
     "data": {
      "text/plain": [
       "['runners', 'like', 'running']"
      ]
     },
     "execution_count": 23,
     "metadata": {},
     "output_type": "execute_result"
    }
   ],
   "source": [
    "tokenizer('runners like running')"
   ]
  },
  {
   "cell_type": "code",
   "execution_count": null,
   "id": "388c5091",
   "metadata": {},
   "outputs": [],
   "source": [
    "# 불용어\n",
    "import nltk\n",
    "from nltk.corpus import stopwords\n",
    "nltk.download('stopwords')    # 불용어 사전 다운로드\n",
    "stopwords.words('english')"
   ]
  }
 ],
 "metadata": {
  "kernelspec": {
   "display_name": "deep",
   "language": "python",
   "name": "python3"
  },
  "language_info": {
   "codemirror_mode": {
    "name": "ipython",
    "version": 3
   },
   "file_extension": ".py",
   "mimetype": "text/x-python",
   "name": "python",
   "nbconvert_exporter": "python",
   "pygments_lexer": "ipython3",
   "version": "3.11.13"
  }
 },
 "nbformat": 4,
 "nbformat_minor": 5
}
